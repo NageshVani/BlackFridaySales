{
 "cells": [
  {
   "cell_type": "markdown",
   "metadata": {},
   "source": [
    "# Black Friday - Prediction"
   ]
  },
  {
   "cell_type": "markdown",
   "metadata": {},
   "source": [
    "### 1.0 Importing required libraries and Data Exploration"
   ]
  },
  {
   "cell_type": "code",
   "execution_count": 5,
   "metadata": {},
   "outputs": [],
   "source": [
    "# Basic packages\n",
    "import os\n",
    "import numpy as np\n",
    "import pandas as pd\n",
    "\n",
    "# Visualization\n",
    "import matplotlib.pyplot as plt\n",
    "import seaborn as sns\n",
    "\n",
    "# Plot settings\n",
    "plt.style.use('ggplot') # URL for style sheets (https://matplotlib.org/gallery/style_sheets/style_sheets_reference.html)\n",
    "plt.rcParams['axes.titlesize'] = 16\n",
    "plt.rcParams['axes.labelsize'] = 14\n",
    "plt.rcParams['xtick.labelsize'] = 12\n",
    "plt.rcParams['ytick.labelsize'] = 12\n",
    "plt.rcParams['text.color'] = 'k'\n",
    "%matplotlib inline\n",
    "\n",
    "# warning settings\n",
    "import warnings\n",
    "warnings.filterwarnings(\"ignore\")"
   ]
  },
  {
   "cell_type": "code",
   "execution_count": 11,
   "metadata": {},
   "outputs": [
    {
     "name": "stdout",
     "output_type": "stream",
     "text": [
      "Train dataframe :- (550068, 13)\n",
      "Test dataframe :- (233599, 12)\n",
      "Combined dataset dataframe :- (783667, 13)\n"
     ]
    },
    {
     "data": {
      "text/plain": [
       "User_ID                            0\n",
       "Product_ID                         0\n",
       "Gender                             0\n",
       "Age                                0\n",
       "Occupation                         0\n",
       "City_Category                      0\n",
       "Stay_In_Current_City_Years         0\n",
       "Marital_Status                     0\n",
       "Product_Category_1                 0\n",
       "Product_Category_2            245982\n",
       "Product_Category_3            545809\n",
       "Purchase                      233599\n",
       "source                             0\n",
       "dtype: int64"
      ]
     },
     "execution_count": 11,
     "metadata": {},
     "output_type": "execute_result"
    }
   ],
   "source": [
    "from support.bfdata import getcsv_data\n",
    "dataset = getcsv_data()\n",
    "# Checking for null values in the columns\n",
    "dataset.isnull().sum()"
   ]
  },
  {
   "cell_type": "markdown",
   "metadata": {},
   "source": [
    "__Observation__:\n",
    "There are significant missing values in 3 columns (Product_Category_2, Product_Category_3 and Purchase)"
   ]
  },
  {
   "cell_type": "code",
   "execution_count": 9,
   "metadata": {},
   "outputs": [
    {
     "data": {
      "text/html": [
       "<div>\n",
       "<style scoped>\n",
       "    .dataframe tbody tr th:only-of-type {\n",
       "        vertical-align: middle;\n",
       "    }\n",
       "\n",
       "    .dataframe tbody tr th {\n",
       "        vertical-align: top;\n",
       "    }\n",
       "\n",
       "    .dataframe thead th {\n",
       "        text-align: right;\n",
       "    }\n",
       "</style>\n",
       "<table border=\"1\" class=\"dataframe\">\n",
       "  <thead>\n",
       "    <tr style=\"text-align: right;\">\n",
       "      <th></th>\n",
       "      <th>User_ID</th>\n",
       "      <th>Occupation</th>\n",
       "      <th>Marital_Status</th>\n",
       "      <th>Product_Category_1</th>\n",
       "      <th>Product_Category_2</th>\n",
       "      <th>Product_Category_3</th>\n",
       "      <th>Purchase</th>\n",
       "    </tr>\n",
       "  </thead>\n",
       "  <tbody>\n",
       "    <tr>\n",
       "      <th>count</th>\n",
       "      <td>7.836670e+05</td>\n",
       "      <td>783667.000000</td>\n",
       "      <td>783667.000000</td>\n",
       "      <td>783667.000000</td>\n",
       "      <td>537685.000000</td>\n",
       "      <td>237858.000000</td>\n",
       "      <td>550068.000000</td>\n",
       "    </tr>\n",
       "    <tr>\n",
       "      <th>mean</th>\n",
       "      <td>1.003029e+06</td>\n",
       "      <td>8.079300</td>\n",
       "      <td>0.409777</td>\n",
       "      <td>5.366196</td>\n",
       "      <td>9.844506</td>\n",
       "      <td>12.668605</td>\n",
       "      <td>9263.968713</td>\n",
       "    </tr>\n",
       "    <tr>\n",
       "      <th>std</th>\n",
       "      <td>1.727267e+03</td>\n",
       "      <td>6.522206</td>\n",
       "      <td>0.491793</td>\n",
       "      <td>3.878160</td>\n",
       "      <td>5.089093</td>\n",
       "      <td>4.125510</td>\n",
       "      <td>5023.065394</td>\n",
       "    </tr>\n",
       "    <tr>\n",
       "      <th>min</th>\n",
       "      <td>1.000001e+06</td>\n",
       "      <td>0.000000</td>\n",
       "      <td>0.000000</td>\n",
       "      <td>1.000000</td>\n",
       "      <td>2.000000</td>\n",
       "      <td>3.000000</td>\n",
       "      <td>12.000000</td>\n",
       "    </tr>\n",
       "    <tr>\n",
       "      <th>25%</th>\n",
       "      <td>1.001519e+06</td>\n",
       "      <td>2.000000</td>\n",
       "      <td>0.000000</td>\n",
       "      <td>1.000000</td>\n",
       "      <td>5.000000</td>\n",
       "      <td>9.000000</td>\n",
       "      <td>5823.000000</td>\n",
       "    </tr>\n",
       "    <tr>\n",
       "      <th>50%</th>\n",
       "      <td>1.003075e+06</td>\n",
       "      <td>7.000000</td>\n",
       "      <td>0.000000</td>\n",
       "      <td>5.000000</td>\n",
       "      <td>9.000000</td>\n",
       "      <td>14.000000</td>\n",
       "      <td>8047.000000</td>\n",
       "    </tr>\n",
       "    <tr>\n",
       "      <th>75%</th>\n",
       "      <td>1.004478e+06</td>\n",
       "      <td>14.000000</td>\n",
       "      <td>1.000000</td>\n",
       "      <td>8.000000</td>\n",
       "      <td>15.000000</td>\n",
       "      <td>16.000000</td>\n",
       "      <td>12054.000000</td>\n",
       "    </tr>\n",
       "    <tr>\n",
       "      <th>max</th>\n",
       "      <td>1.006040e+06</td>\n",
       "      <td>20.000000</td>\n",
       "      <td>1.000000</td>\n",
       "      <td>20.000000</td>\n",
       "      <td>18.000000</td>\n",
       "      <td>18.000000</td>\n",
       "      <td>23961.000000</td>\n",
       "    </tr>\n",
       "  </tbody>\n",
       "</table>\n",
       "</div>"
      ],
      "text/plain": [
       "            User_ID     Occupation  Marital_Status  Product_Category_1  \\\n",
       "count  7.836670e+05  783667.000000   783667.000000       783667.000000   \n",
       "mean   1.003029e+06       8.079300        0.409777            5.366196   \n",
       "std    1.727267e+03       6.522206        0.491793            3.878160   \n",
       "min    1.000001e+06       0.000000        0.000000            1.000000   \n",
       "25%    1.001519e+06       2.000000        0.000000            1.000000   \n",
       "50%    1.003075e+06       7.000000        0.000000            5.000000   \n",
       "75%    1.004478e+06      14.000000        1.000000            8.000000   \n",
       "max    1.006040e+06      20.000000        1.000000           20.000000   \n",
       "\n",
       "       Product_Category_2  Product_Category_3       Purchase  \n",
       "count       537685.000000       237858.000000  550068.000000  \n",
       "mean             9.844506           12.668605    9263.968713  \n",
       "std              5.089093            4.125510    5023.065394  \n",
       "min              2.000000            3.000000      12.000000  \n",
       "25%              5.000000            9.000000    5823.000000  \n",
       "50%              9.000000           14.000000    8047.000000  \n",
       "75%             15.000000           16.000000   12054.000000  \n",
       "max             18.000000           18.000000   23961.000000  "
      ]
     },
     "execution_count": 9,
     "metadata": {},
     "output_type": "execute_result"
    }
   ],
   "source": [
    "# Checking details from the columns with 'numeric' datatype\n",
    "dataset.describe()"
   ]
  },
  {
   "cell_type": "code",
   "execution_count": 10,
   "metadata": {},
   "outputs": [
    {
     "data": {
      "text/plain": [
       "User_ID                        5891\n",
       "Product_ID                     3677\n",
       "Gender                            2\n",
       "Age                               7\n",
       "Occupation                       21\n",
       "City_Category                     3\n",
       "Stay_In_Current_City_Years        5\n",
       "Marital_Status                    2\n",
       "Product_Category_1               20\n",
       "Product_Category_2               18\n",
       "Product_Category_3               16\n",
       "Purchase                      18106\n",
       "source                            2\n",
       "dtype: int64"
      ]
     },
     "execution_count": 10,
     "metadata": {},
     "output_type": "execute_result"
    }
   ],
   "source": [
    "# Obtaining number of unique values in each column\n",
    "dataset.apply(lambda x: len(x.unique()))"
   ]
  },
  {
   "cell_type": "markdown",
   "metadata": {},
   "source": [
    "We can see that most of the columns are with categorical data, either expressed in numericals or strings"
   ]
  },
  {
   "cell_type": "code",
   "execution_count": 14,
   "metadata": {},
   "outputs": [
    {
     "name": "stdout",
     "output_type": "stream",
     "text": [
      "Frequency (Count) of Categories for varible :  Gender\n",
      "M    590031\n",
      "F    193636\n",
      "Name: Gender, dtype: int64\n",
      "---------------------------------------------------\n",
      "Frequency (Count) of Categories for varible :  Age\n",
      "26-35    313015\n",
      "36-45    156724\n",
      "18-25    141953\n",
      "46-50     65278\n",
      "51-55     54784\n",
      "55+       30579\n",
      "0-17      21334\n",
      "Name: Age, dtype: int64\n",
      "---------------------------------------------------\n",
      "Frequency (Count) of Categories for varible :  City_Category\n",
      "B    329739\n",
      "C    243684\n",
      "A    210244\n",
      "Name: City_Category, dtype: int64\n",
      "---------------------------------------------------\n",
      "Frequency (Count) of Categories for varible :  Stay_In_Current_City_Years\n",
      "1     276425\n",
      "2     145427\n",
      "3     135428\n",
      "4+    120671\n",
      "0     105716\n",
      "Name: Stay_In_Current_City_Years, dtype: int64\n",
      "---------------------------------------------------\n",
      "Frequency (Count) of Categories for varible :  Occupation\n",
      "4     103086\n",
      "0      98850\n",
      "7      84127\n",
      "1      67687\n",
      "17     57418\n",
      "20     47840\n",
      "12     44448\n",
      "14     38782\n",
      "2      37996\n",
      "16     36122\n",
      "6      29102\n",
      "3      25126\n",
      "10     18304\n",
      "5      17373\n",
      "15     17356\n",
      "11     16593\n",
      "19     11919\n",
      "13     11053\n",
      "18      9367\n",
      "9       8929\n",
      "8       2189\n",
      "Name: Occupation, dtype: int64\n",
      "---------------------------------------------------\n"
     ]
    }
   ],
   "source": [
    "#Filter categorical variables\n",
    "categorical_columns = [x for x in dataset.dtypes.index if dataset.dtypes[x]=='object']\n",
    "\n",
    "# Adding other categorical variables indicated as numerics\n",
    "categorical_columns.extend(['Occupation'])\n",
    "\n",
    "# Droping Identifier values from the list\n",
    "categorical_columns = [x for x in categorical_columns if x not in ['Product_ID','source']]\n",
    "\n",
    "# Print frequency of categories\n",
    "for col in categorical_columns:\n",
    "    print ('Frequency (Count) of Categories for varible : ', col)\n",
    "    print (dataset[col].value_counts())\n",
    "    print('---------------------------------------------------')"
   ]
  },
  {
   "cell_type": "markdown",
   "metadata": {},
   "source": [
    "### 1.1 Hypothesis"
   ]
  },
  {
   "cell_type": "markdown",
   "metadata": {},
   "source": [
    "On observations of the column headers and the values the following hypothesis can be carried out\n",
    "\n",
    "__User_ID__ : <br>\n",
    "Identification values which links to the demographics of the person like (Gender, Age, Marital Status, Occupation, City Category and years in city) \n",
    "<br>\n",
    "\n",
    "__Product_ID__ : <br>\n",
    "Identification values which links other sub categories Product_Category_1, Product_Category_2 and Product_Category_3\n",
    "<br>\n",
    "\n",
    "__Gender__ : (Male / Female) <br>\n",
    "Generally females shop more than male. However the User_ID maybe linked with the male who would pay for the purchase\n",
    "<br>\n",
    "\n",
    "__Age__ : (Range between 0 to 55+) <br>\n",
    "Teenagers and middle aged group people tend to make use of the BlackFriday sale\n",
    "<br>\n",
    "\n",
    "__Marital Status__ : (Married / Un-married) <br>\n",
    "Un-married people spend more during the sale season compared to those married\n",
    "<br>\n",
    "\n",
    "__Occupation__ : (Range between 0 to 20) <br>\n",
    "People in Managerial and above position Purchase more compared to mid-level and associate positions\n",
    "<br>\n",
    "\n",
    "__City Category__ : (Code A, B, C) <br>\n",
    "People living in metros spend more during sale compared to less populated cities\n",
    "\n",
    "__Stay in City__ : (Range between 0 to 4+) <br>\n",
    "As people stay more in a particular city and based on experience on various aspects in the mart, people who fancy few of their favorite marts may visit them during the sale season.\n",
    "\n",
    "__Product Category__ : (1, 2, & 3) <br>\n",
    "Links to Sub categories of Product_ID\n"
   ]
  },
  {
   "cell_type": "markdown",
   "metadata": {},
   "source": [
    "### 2. EDA\n",
    "> Imputing missing values and Treating outliers"
   ]
  },
  {
   "cell_type": "code",
   "execution_count": 18,
   "metadata": {},
   "outputs": [
    {
     "data": {
      "text/html": [
       "<div>\n",
       "<style scoped>\n",
       "    .dataframe tbody tr th:only-of-type {\n",
       "        vertical-align: middle;\n",
       "    }\n",
       "\n",
       "    .dataframe tbody tr th {\n",
       "        vertical-align: top;\n",
       "    }\n",
       "\n",
       "    .dataframe thead th {\n",
       "        text-align: right;\n",
       "    }\n",
       "</style>\n",
       "<table border=\"1\" class=\"dataframe\">\n",
       "  <thead>\n",
       "    <tr style=\"text-align: right;\">\n",
       "      <th></th>\n",
       "      <th>Product_Category_1</th>\n",
       "      <th>Product_Category_2</th>\n",
       "      <th>Product_Category_3</th>\n",
       "    </tr>\n",
       "    <tr>\n",
       "      <th>Product_ID</th>\n",
       "      <th></th>\n",
       "      <th></th>\n",
       "      <th></th>\n",
       "    </tr>\n",
       "  </thead>\n",
       "  <tbody>\n",
       "    <tr>\n",
       "      <th>P00000142</th>\n",
       "      <td>3</td>\n",
       "      <td>4.0</td>\n",
       "      <td>5.0</td>\n",
       "    </tr>\n",
       "    <tr>\n",
       "      <th>P00000242</th>\n",
       "      <td>2</td>\n",
       "      <td>4.0</td>\n",
       "      <td>9.0</td>\n",
       "    </tr>\n",
       "    <tr>\n",
       "      <th>P00000342</th>\n",
       "      <td>5</td>\n",
       "      <td>14.0</td>\n",
       "      <td>NaN</td>\n",
       "    </tr>\n",
       "    <tr>\n",
       "      <th>P00000442</th>\n",
       "      <td>5</td>\n",
       "      <td>8.0</td>\n",
       "      <td>NaN</td>\n",
       "    </tr>\n",
       "    <tr>\n",
       "      <th>P00000542</th>\n",
       "      <td>5</td>\n",
       "      <td>NaN</td>\n",
       "      <td>NaN</td>\n",
       "    </tr>\n",
       "    <tr>\n",
       "      <th>P00000642</th>\n",
       "      <td>1</td>\n",
       "      <td>6.0</td>\n",
       "      <td>16.0</td>\n",
       "    </tr>\n",
       "    <tr>\n",
       "      <th>P00000742</th>\n",
       "      <td>5</td>\n",
       "      <td>14.0</td>\n",
       "      <td>NaN</td>\n",
       "    </tr>\n",
       "    <tr>\n",
       "      <th>P00000842</th>\n",
       "      <td>2</td>\n",
       "      <td>4.0</td>\n",
       "      <td>NaN</td>\n",
       "    </tr>\n",
       "    <tr>\n",
       "      <th>P00000942</th>\n",
       "      <td>1</td>\n",
       "      <td>NaN</td>\n",
       "      <td>NaN</td>\n",
       "    </tr>\n",
       "    <tr>\n",
       "      <th>P00001042</th>\n",
       "      <td>1</td>\n",
       "      <td>2.0</td>\n",
       "      <td>16.0</td>\n",
       "    </tr>\n",
       "  </tbody>\n",
       "</table>\n",
       "</div>"
      ],
      "text/plain": [
       "            Product_Category_1  Product_Category_2  Product_Category_3\n",
       "Product_ID                                                            \n",
       "P00000142                    3                 4.0                 5.0\n",
       "P00000242                    2                 4.0                 9.0\n",
       "P00000342                    5                14.0                 NaN\n",
       "P00000442                    5                 8.0                 NaN\n",
       "P00000542                    5                 NaN                 NaN\n",
       "P00000642                    1                 6.0                16.0\n",
       "P00000742                    5                14.0                 NaN\n",
       "P00000842                    2                 4.0                 NaN\n",
       "P00000942                    1                 NaN                 NaN\n",
       "P00001042                    1                 2.0                16.0"
      ]
     },
     "execution_count": 18,
     "metadata": {},
     "output_type": "execute_result"
    }
   ],
   "source": [
    "# Checking whether Product_ID is related to other Product Category columns\n",
    "tab1 = dataset.groupby(['Product_ID'])['Product_Category_1','Product_Category_2','Product_Category_3'].mean().head(10)\n",
    "# exporting to csv file storing the result as table\n",
    "tab1.to_csv('results/tab1.csv', index=False)\n",
    "tab1"
   ]
  },
  {
   "cell_type": "markdown",
   "metadata": {},
   "source": [
    "__Observation__: <br>\n",
    "From the above, we can make out that Product_Category2 and Product_Category3 are __not related__ to the Product_ID"
   ]
  },
  {
   "cell_type": "code",
   "execution_count": 19,
   "metadata": {},
   "outputs": [],
   "source": [
    "# Obtaining list of booleans specifying Product_Category_2 and Product_Category_3 missing  values\n",
    "miss_Prod2_rows = dataset['Product_Category_2'].isnull()  \n",
    "miss_Prod3_rows = dataset['Product_Category_3'].isnull()\n",
    "# Impute 0s in place of NaN in columns Product_Category_2 and Product_Category_3\n",
    "dataset.loc[miss_Prod2_rows,'Product_Category_2'] = 0\n",
    "dataset.loc[miss_Prod3_rows,'Product_Category_3'] = 0"
   ]
  },
  {
   "cell_type": "code",
   "execution_count": 22,
   "metadata": {},
   "outputs": [
    {
     "data": {
      "text/html": [
       "<div>\n",
       "<style scoped>\n",
       "    .dataframe tbody tr th:only-of-type {\n",
       "        vertical-align: middle;\n",
       "    }\n",
       "\n",
       "    .dataframe tbody tr th {\n",
       "        vertical-align: top;\n",
       "    }\n",
       "\n",
       "    .dataframe thead th {\n",
       "        text-align: right;\n",
       "    }\n",
       "</style>\n",
       "<table border=\"1\" class=\"dataframe\">\n",
       "  <thead>\n",
       "    <tr style=\"text-align: right;\">\n",
       "      <th></th>\n",
       "      <th>Product_ID</th>\n",
       "      <th>Product_Category_1</th>\n",
       "      <th>Product_Category_2</th>\n",
       "      <th>Product_Category_3</th>\n",
       "      <th>Master_Product_Category</th>\n",
       "    </tr>\n",
       "  </thead>\n",
       "  <tbody>\n",
       "    <tr>\n",
       "      <th>0</th>\n",
       "      <td>P00069042</td>\n",
       "      <td>3</td>\n",
       "      <td>0.0</td>\n",
       "      <td>0.0</td>\n",
       "      <td>300</td>\n",
       "    </tr>\n",
       "    <tr>\n",
       "      <th>1</th>\n",
       "      <td>P00248942</td>\n",
       "      <td>1</td>\n",
       "      <td>6.0</td>\n",
       "      <td>14.0</td>\n",
       "      <td>1614</td>\n",
       "    </tr>\n",
       "    <tr>\n",
       "      <th>2</th>\n",
       "      <td>P00087842</td>\n",
       "      <td>12</td>\n",
       "      <td>0.0</td>\n",
       "      <td>0.0</td>\n",
       "      <td>1200</td>\n",
       "    </tr>\n",
       "    <tr>\n",
       "      <th>3</th>\n",
       "      <td>P00085442</td>\n",
       "      <td>12</td>\n",
       "      <td>14.0</td>\n",
       "      <td>0.0</td>\n",
       "      <td>12140</td>\n",
       "    </tr>\n",
       "    <tr>\n",
       "      <th>4</th>\n",
       "      <td>P00285442</td>\n",
       "      <td>8</td>\n",
       "      <td>0.0</td>\n",
       "      <td>0.0</td>\n",
       "      <td>800</td>\n",
       "    </tr>\n",
       "    <tr>\n",
       "      <th>5</th>\n",
       "      <td>P00193542</td>\n",
       "      <td>1</td>\n",
       "      <td>2.0</td>\n",
       "      <td>0.0</td>\n",
       "      <td>120</td>\n",
       "    </tr>\n",
       "    <tr>\n",
       "      <th>6</th>\n",
       "      <td>P00184942</td>\n",
       "      <td>1</td>\n",
       "      <td>8.0</td>\n",
       "      <td>17.0</td>\n",
       "      <td>1817</td>\n",
       "    </tr>\n",
       "    <tr>\n",
       "      <th>7</th>\n",
       "      <td>P00346142</td>\n",
       "      <td>1</td>\n",
       "      <td>15.0</td>\n",
       "      <td>0.0</td>\n",
       "      <td>1150</td>\n",
       "    </tr>\n",
       "    <tr>\n",
       "      <th>8</th>\n",
       "      <td>P0097242</td>\n",
       "      <td>1</td>\n",
       "      <td>16.0</td>\n",
       "      <td>0.0</td>\n",
       "      <td>1160</td>\n",
       "    </tr>\n",
       "    <tr>\n",
       "      <th>9</th>\n",
       "      <td>P00274942</td>\n",
       "      <td>8</td>\n",
       "      <td>0.0</td>\n",
       "      <td>0.0</td>\n",
       "      <td>800</td>\n",
       "    </tr>\n",
       "  </tbody>\n",
       "</table>\n",
       "</div>"
      ],
      "text/plain": [
       "  Product_ID  Product_Category_1  Product_Category_2  Product_Category_3  \\\n",
       "0  P00069042                   3                 0.0                 0.0   \n",
       "1  P00248942                   1                 6.0                14.0   \n",
       "2  P00087842                  12                 0.0                 0.0   \n",
       "3  P00085442                  12                14.0                 0.0   \n",
       "4  P00285442                   8                 0.0                 0.0   \n",
       "5  P00193542                   1                 2.0                 0.0   \n",
       "6  P00184942                   1                 8.0                17.0   \n",
       "7  P00346142                   1                15.0                 0.0   \n",
       "8   P0097242                   1                16.0                 0.0   \n",
       "9  P00274942                   8                 0.0                 0.0   \n",
       "\n",
       "  Master_Product_Category  \n",
       "0                     300  \n",
       "1                    1614  \n",
       "2                    1200  \n",
       "3                   12140  \n",
       "4                     800  \n",
       "5                     120  \n",
       "6                    1817  \n",
       "7                    1150  \n",
       "8                    1160  \n",
       "9                     800  "
      ]
     },
     "execution_count": 22,
     "metadata": {},
     "output_type": "execute_result"
    }
   ],
   "source": [
    "# Combining 3 Product category columns into 1 maseter category column\n",
    "dataset['Master_Product_Category']=dataset['Product_Category_1'].astype(str)+dataset['Product_Category_2'].astype(int).astype(str)+dataset['Product_Category_3'].astype(int).astype(str)\n",
    "\n",
    "tab2= dataset[['Product_ID','Product_Category_1','Product_Category_2','Product_Category_3','Master_Product_Category']].head(10)\n",
    "tab2.to_csv('results/tab2.csv', index=False)\n",
    "tab2"
   ]
  },
  {
   "cell_type": "code",
   "execution_count": 23,
   "metadata": {},
   "outputs": [
    {
     "data": {
      "text/plain": [
       "User_ID                            0\n",
       "Product_ID                         0\n",
       "Gender                             0\n",
       "Age                                0\n",
       "Occupation                         0\n",
       "City_Category                      0\n",
       "Stay_In_Current_City_Years         0\n",
       "Marital_Status                     0\n",
       "Product_Category_1                 0\n",
       "Product_Category_2                 0\n",
       "Product_Category_3                 0\n",
       "Purchase                      233599\n",
       "source                             0\n",
       "Master_Product_Category            0\n",
       "dtype: int64"
      ]
     },
     "execution_count": 23,
     "metadata": {},
     "output_type": "execute_result"
    }
   ],
   "source": [
    "dataset.isnull().sum()"
   ]
  },
  {
   "cell_type": "markdown",
   "metadata": {},
   "source": [
    "__Observation__ : <br>\n",
    "\n",
    "Purchase column:\n",
    ">There are quire a few missing values in Purchase (dependent varaible) column. <br>\n",
    "It is advisable to impute as many values in the dependent variable column to obtain a good model.<br>\n",
    "Hence it is advisable to find whether there is *correlation between the Product_ID or newly created Master Product Category column* and Purchase column."
   ]
  },
  {
   "cell_type": "code",
   "execution_count": 24,
   "metadata": {},
   "outputs": [
    {
     "data": {
      "text/plain": [
       "0"
      ]
     },
     "execution_count": 24,
     "metadata": {},
     "output_type": "execute_result"
    }
   ],
   "source": [
    "# Check Purchase values from the grouping by the newly created Master_Product_Category column\n",
    "categ_mean = dataset.groupby(['Master_Product_Category'])['Purchase'].mean()\n",
    "categ_mean.isnull().sum()"
   ]
  },
  {
   "cell_type": "code",
   "execution_count": 25,
   "metadata": {},
   "outputs": [
    {
     "data": {
      "text/plain": [
       "46"
      ]
     },
     "execution_count": 25,
     "metadata": {},
     "output_type": "execute_result"
    }
   ],
   "source": [
    "# Check Purchase values from the grouping by the Product_ID column\n",
    "purch_mean_prodID = dataset.groupby(['Product_ID'])['Purchase'].mean()\n",
    "purch_mean_prodID.isnull().sum()"
   ]
  },
  {
   "cell_type": "markdown",
   "metadata": {},
   "source": [
    "As the missing values in Purchase column has corresponding Master category values, <br>\n",
    "incorporating the mean value into the Purchase column based on the Master Category column is advisable."
   ]
  },
  {
   "cell_type": "code",
   "execution_count": 26,
   "metadata": {},
   "outputs": [
    {
     "name": "stdout",
     "output_type": "stream",
     "text": [
      "Null values in Purchase column before imputation :  233599\n",
      "Results after imputation :  0\n"
     ]
    }
   ],
   "source": [
    "# Obtain missing Purchase values\n",
    "miss_Purch_rows = dataset['Purchase'].isnull()\n",
    "\n",
    "# Impute mean Purchase value based on Master_Product_Category column\n",
    "dataset.loc[miss_Purch_rows,'Purchase'] = dataset.loc[miss_Purch_rows,'Master_Product_Category'].apply(lambda x: categ_mean.loc[x])\n",
    "\n",
    "print ('Null values in Purchase column before imputation : ' , miss_Purch_rows.sum())\n",
    "print ('Results after imputation : ', dataset['Purchase'].isnull().sum())"
   ]
  },
  {
   "cell_type": "code",
   "execution_count": 27,
   "metadata": {
    "scrolled": true
   },
   "outputs": [
    {
     "data": {
      "text/plain": [
       "['User_ID',\n",
       " 'Product_ID',\n",
       " 'Gender',\n",
       " 'Age',\n",
       " 'Occupation',\n",
       " 'City_Category',\n",
       " 'Stay_In_Current_City_Years',\n",
       " 'Marital_Status',\n",
       " 'Product_Category_1',\n",
       " 'Product_Category_2',\n",
       " 'Product_Category_3',\n",
       " 'Purchase',\n",
       " 'source',\n",
       " 'Master_Product_Category']"
      ]
     },
     "execution_count": 27,
     "metadata": {},
     "output_type": "execute_result"
    }
   ],
   "source": [
    "list(dataset.columns.values)"
   ]
  },
  {
   "cell_type": "code",
   "execution_count": 32,
   "metadata": {},
   "outputs": [],
   "source": [
    "# Rearranging the columns\n",
    "dataset = dataset[['User_ID','Product_ID', 'Gender','Age','Occupation', 'City_Category','Stay_In_Current_City_Years',\n",
    "                   'Marital_Status',  'Master_Product_Category', 'Purchase', 'source']]\n",
    "\n",
    "# Converting Master_Product_Category datatype object to integer\n",
    "dataset['Master_Product_Category'] = dataset['Master_Product_Category'].astype(str).astype(int)\n",
    "\n",
    "#Rename Gender to more intuitive categories:\n",
    "dataset['Gender'] = dataset['Gender'].map({'F':'Female','M':'Male'})\n",
    "\n",
    "#Rename them to more intuitive categories:\n",
    "dataset['Marital_Status'] = dataset['Marital_Status'].map({0:'Un-Married', 1:'Married'})"
   ]
  },
  {
   "cell_type": "code",
   "execution_count": 33,
   "metadata": {},
   "outputs": [
    {
     "name": "stdout",
     "output_type": "stream",
     "text": [
      "Age :\n",
      "['0-17', '18-25', '26-35', '36-45', '46-50', '51-55', '55+']\n",
      "\n",
      "City_Category :\n",
      "['A', 'B', 'C']\n",
      "\n",
      "Stay_In_Current_City_Years :\n",
      "['0', '1', '2', '3', '4+']\n",
      "\n"
     ]
    }
   ],
   "source": [
    "# Re-look at the unique values of other 'demographical' columns pertaining to the customer\n",
    "print('Age :' ,sorted(dataset.Age.unique()), sep='\\n')\n",
    "print(sep='\\n\\n')\n",
    "print('City_Category :', sorted(dataset.City_Category.unique()), sep='\\n')\n",
    "print(sep='\\n\\n')\n",
    "print('Stay_In_Current_City_Years :', sorted(dataset.Stay_In_Current_City_Years.unique()), sep='\\n')\n",
    "print(sep='\\n\\n')"
   ]
  },
  {
   "cell_type": "code",
   "execution_count": 34,
   "metadata": {},
   "outputs": [
    {
     "name": "stdout",
     "output_type": "stream",
     "text": [
      "Occupation : [0, 1, 2, 3, 4, 5, 6, 7, 8, 9, 10, 11, 12, 13, 14, 15, 16, 17, 18, 19, 20]\n"
     ]
    }
   ],
   "source": [
    "# Replacing '4+' years of with numerical number 4 \n",
    "dataset['Stay_In_Current_City_Years'] = dataset['Stay_In_Current_City_Years'].replace('4+', 4)\n",
    "\n",
    "# Converting Stay_In_Current_City_Years data type to integer\n",
    "dataset['Stay_In_Current_City_Years'] = dataset['Stay_In_Current_City_Years'].astype(str).astype(int)\n",
    "\n",
    "print('Occupation :', sorted(dataset.Occupation.unique()))"
   ]
  },
  {
   "cell_type": "markdown",
   "metadata": {},
   "source": [
    "__Point to ponder__:\n",
    "\n",
    "We can observe that there are __(21) categories__ of Occupation of customers. <br>\n",
    "Based on the country that the data has been taken, there might be standard coding system for categorising occupation, which is been indicated in the dataset.\n",
    "\n",
    "However, based on International Standard Classification of Occupations, there are (10) main categories\n",
    "1. Managers\n",
    "2. Professional\n",
    "3. Technicians and associate professionals\n",
    "4. Clerical support workers\n",
    "5. Service and sales workers\n",
    "6. Skilled agricultural, forestry and fishery workers\n",
    "7. Craft and related trades workers\n",
    "8. Plant and machine operators, and assemblers\n",
    "9. Elementary occupations\n",
    "10. Armed forces occupations\n",
    "\n",
    "(Source : Wikipedia)"
   ]
  },
  {
   "cell_type": "markdown",
   "metadata": {},
   "source": [
    "### 3. Visualization"
   ]
  },
  {
   "cell_type": "markdown",
   "metadata": {},
   "source": [
    "Visualization of categorical variables  - __BY COUNT__"
   ]
  },
  {
   "cell_type": "code",
   "execution_count": 35,
   "metadata": {},
   "outputs": [
    {
     "data": {
      "image/png": "[encoded data removed]",
      "text/plain": [
       "<Figure size 1080x720 with 4 Axes>"
      ]
     },
     "metadata": {
      "needs_background": "light"
     },
     "output_type": "display_data"
    }
   ],
   "source": [
    "plt.figure(figsize=(15,10))\n",
    "\n",
    "# Pie chart for gender distribution\n",
    "plt.subplot(2,2,1)\n",
    "gender_count = [dataset.Gender[dataset['Gender']=='Female'].count(),\n",
    "                dataset.Gender[dataset['Gender']=='Male'].count()]\n",
    "gender_lab = dataset.Gender.unique()\n",
    "expl = (0.1,0)\n",
    "plt.pie(gender_count, labels=gender_lab, explode=expl, shadow=True , autopct='%1.1f%%');\n",
    "\n",
    "# Bar chart for Age\n",
    "plt.subplot(2,2,2)\n",
    "ordr =dataset.groupby([\"Age\"]).count().sort_values(by='Purchase',ascending=False).index\n",
    "sns.countplot(dataset['Age'], label=True, order=ordr)\n",
    "\n",
    "# Bar chart for Occupation\n",
    "plt.subplot(2,2,3)\n",
    "ordr1 =dataset.groupby([\"Occupation\"]).count().sort_values(by='Purchase',ascending=False).index\n",
    "sns.countplot(y=dataset['Occupation'], label=True, order=ordr1)\n",
    "\n",
    "# Donut chart for City Category\n",
    "plt.subplot(2,2,4)\n",
    "city_group = dataset.groupby([\"City_Category\"])\n",
    "city_count = city_group[['Purchase']].count().values.tolist()\n",
    "city_lab = dataset.groupby([\"City_Category\"]).count().index.values\n",
    "my_circle = plt.Circle( (0,0), 0.4, color='white')\n",
    "expl1 = (0,0.1,0)\n",
    "plt.pie(city_count, labels=city_lab,explode=expl1, shadow=True, autopct='%1.1f%%')\n",
    "plt.gcf().gca().add_artist(my_circle)\n",
    "\n",
    "\n",
    "plt.show()"
   ]
  },
  {
   "cell_type": "code",
   "execution_count": 36,
   "metadata": {},
   "outputs": [
    {
     "data": {
      "image/png": "[encoded data removed]",
      "text/plain": [
       "<Figure size 1008x648 with 2 Axes>"
      ]
     },
     "metadata": {
      "needs_background": "light"
     },
     "output_type": "display_data"
    }
   ],
   "source": [
    "plt.figure(figsize=(14,9))\n",
    "\n",
    "plt.subplot(1,2,1)\n",
    "ordr2 =dataset.groupby([\"Stay_In_Current_City_Years\"]).count().sort_values(by='Purchase',ascending=False).index\n",
    "sns.countplot(dataset['Stay_In_Current_City_Years'], label=True, order=ordr2)\n",
    "\n",
    "plt.subplot(1,2,2)\n",
    "ms_count = [dataset.Marital_Status[dataset['Marital_Status']=='Un-Married'].count(),\n",
    "                dataset.Marital_Status[dataset['Marital_Status']=='Married'].count()]\n",
    "ms_lab = dataset.Marital_Status.unique()\n",
    "expl = (0.1,0)\n",
    "plt.pie(ms_count, labels=ms_lab, explode=expl, shadow=True , autopct='%1.1f%%');\n",
    "\n",
    "plt.show()"
   ]
  },
  {
   "cell_type": "markdown",
   "metadata": {},
   "source": [
    "More Insight from Gender and Age"
   ]
  },
  {
   "cell_type": "code",
   "execution_count": 38,
   "metadata": {},
   "outputs": [
    {
     "data": {
      "image/png": "[encoded data removed]",
      "text/plain": [
       "<Figure size 1080x720 with 2 Axes>"
      ]
     },
     "metadata": {
      "needs_background": "light"
     },
     "output_type": "display_data"
    }
   ],
   "source": [
    "#Creating new column in the dataset \n",
    "dataset['Gender_MaritalStatus'] = dataset.apply(lambda x:'%s_%s' % (x['Gender'],x['Marital_Status']),axis=1)\n",
    "\n",
    "\n",
    "plt.figure(figsize=(15,10))\n",
    "\n",
    "plt.subplot(1,2,1)\n",
    "group_g_ms = dataset.groupby([\"Gender_MaritalStatus\"])\n",
    "count_ms = group_g_ms[['Purchase']].count().values.tolist()\n",
    "lab1 = dataset.groupby([\"Gender_MaritalStatus\"]).count().index.values\n",
    "expl2 = (0,0,0.1,0.1)\n",
    "\n",
    "plt.pie(count_ms, labels=lab1,explode=expl2, shadow=True, autopct='%1.1f%%')\n",
    "\n",
    "plt.subplot(1,2,2)\n",
    "sns.countplot(dataset['Age'],hue=dataset['Gender_MaritalStatus'])\n",
    "\n",
    "plt.show()"
   ]
  },
  {
   "cell_type": "markdown",
   "metadata": {},
   "source": [
    "__Observations__ : \n",
    "1. __Un-married males__ between the age group of __26-35__ are major customers of the store.\n",
    "2. Majority customers are from the __City category B (42%) and C (31%)__\n",
    "4. Customers with __Occupation__ code __4 (13%), 0 (12.7%) and 7(10.8%)__ are more compared to others\n",
    "5. It can be observed that, as customers __who are new__ in the the current city, tend to purchase more from the store."
   ]
  },
  {
   "cell_type": "markdown",
   "metadata": {},
   "source": [
    "Visualization of categorical variables  - __BY AVERAGE PURCHASE__"
   ]
  },
  {
   "cell_type": "code",
   "execution_count": 39,
   "metadata": {},
   "outputs": [
    {
     "data": {
      "text/plain": [
       "<Figure size 576x432 with 0 Axes>"
      ]
     },
     "metadata": {},
     "output_type": "display_data"
    },
    {
     "data": {
      "image/png": "[encoded data removed]",
      "text/plain": [
       "<Figure size 360x360 with 1 Axes>"
      ]
     },
     "metadata": {
      "needs_background": "light"
     },
     "output_type": "display_data"
    },
    {
     "data": {
      "image/png": "[encoded data removed]",
      "text/plain": [
       "<Figure size 360x360 with 1 Axes>"
      ]
     },
     "metadata": {
      "needs_background": "light"
     },
     "output_type": "display_data"
    }
   ],
   "source": [
    "plt.figure(figsize=(8,6))\n",
    "\n",
    "\n",
    "sns.catplot(x='Gender', y='Purchase', data=dataset, kind='boxen')\n",
    "\n",
    "ordr_age =dataset.groupby([\"Age\"]).mean().sort_values(by='Purchase',ascending=False).index\n",
    "sns.catplot(x='Age', y='Purchase', order=ordr_age, data=dataset, kind='bar')\n",
    "\n",
    "plt.show()"
   ]
  },
  {
   "cell_type": "code",
   "execution_count": 40,
   "metadata": {},
   "outputs": [
    {
     "data": {
      "text/plain": [
       "<Figure size 576x432 with 0 Axes>"
      ]
     },
     "metadata": {},
     "output_type": "display_data"
    },
    {
     "data": {
      "image/png": "[encoded data removed]",
      "text/plain": [
       "<Figure size 360x360 with 1 Axes>"
      ]
     },
     "metadata": {
      "needs_background": "light"
     },
     "output_type": "display_data"
    },
    {
     "data": {
      "image/png": "[encoded data removed]",
      "text/plain": [
       "<Figure size 360x360 with 1 Axes>"
      ]
     },
     "metadata": {
      "needs_background": "light"
     },
     "output_type": "display_data"
    }
   ],
   "source": [
    "plt.figure(figsize=(8,6))\n",
    "\n",
    "sns.catplot(x='City_Category', y='Purchase', data=dataset, kind='boxen')\n",
    "\n",
    "ordr_occ =dataset.groupby([\"Occupation\"]).mean().sort_values(by='Purchase',ascending=False).index\n",
    "sns.catplot(x='Occupation', y='Purchase', order=ordr_occ, data=dataset, kind='bar')\n",
    "\n",
    "plt.show()"
   ]
  },
  {
   "cell_type": "markdown",
   "metadata": {},
   "source": [
    "__Observations__ : \n",
    "1. __Males__ spend more than females\n",
    "2. Age factor : Customers who are __above 35 years__ of age spend more. \n",
    "3. __Occupation codes 17, 12 and 15__ appears to be earning more and accordingly spend more \n",
    "4. People living in __Category C__ city appears to spend more on items in the store \n"
   ]
  },
  {
   "cell_type": "markdown",
   "metadata": {},
   "source": [
    " __Encoding categorical variable for - Correlation Visualation__\n"
   ]
  },
  {
   "cell_type": "code",
   "execution_count": 42,
   "metadata": {},
   "outputs": [
    {
     "data": {
      "text/plain": [
       "User_ID                         int64\n",
       "Product_ID                     object\n",
       "Gender                         object\n",
       "Age                            object\n",
       "Occupation                      int64\n",
       "City_Category                  object\n",
       "Stay_In_Current_City_Years      int32\n",
       "Marital_Status                 object\n",
       "Master_Product_Category         int32\n",
       "Purchase                      float64\n",
       "source                         object\n",
       "Gender_MaritalStatus           object\n",
       "dtype: object"
      ]
     },
     "execution_count": 42,
     "metadata": {},
     "output_type": "execute_result"
    }
   ],
   "source": [
    "# Feature Encoding categorical columns to visualize correlation of parameters with Purchase column\n",
    "# Importing required package\n",
    "from sklearn.preprocessing import LabelEncoder\n",
    "encode_x = LabelEncoder()\n",
    "\n",
    "# Creating copy of the dataset for this activity\n",
    "dataset_cat = dataset.copy()\n",
    "\n",
    "dataset_cat.dtypes"
   ]
  },
  {
   "cell_type": "code",
   "execution_count": 43,
   "metadata": {},
   "outputs": [],
   "source": [
    "# Encoding categorical columns \n",
    "dataset_cat['Product_ID'] = encode_x.fit_transform(dataset_cat['Product_ID'])\n",
    "dataset_cat['Gender'] = encode_x.fit_transform(dataset_cat['Gender'])\n",
    "dataset_cat['Age'] = encode_x.fit_transform(dataset_cat['Age'])\n",
    "dataset_cat['City_Category'] = encode_x.fit_transform(dataset_cat['City_Category'])\n",
    "dataset_cat['Marital_Status'] = encode_x.fit_transform(dataset_cat['Marital_Status'])"
   ]
  },
  {
   "cell_type": "code",
   "execution_count": 44,
   "metadata": {},
   "outputs": [
    {
     "data": {
      "text/plain": [
       "Purchase                      1.000000\n",
       "Gender                        0.065329\n",
       "City_Category                 0.054228\n",
       "Occupation                    0.019605\n",
       "Age                           0.011601\n",
       "User_ID                       0.004241\n",
       "Stay_In_Current_City_Years    0.004167\n",
       "Marital_Status                0.001421\n",
       "Master_Product_Category      -0.048005\n",
       "Product_ID                   -0.103676\n",
       "Name: Purchase, dtype: float64"
      ]
     },
     "execution_count": 44,
     "metadata": {},
     "output_type": "execute_result"
    }
   ],
   "source": [
    "dataset_cat[dataset_cat.columns[0:]].corr()['Purchase'].sort_values(ascending=False)"
   ]
  },
  {
   "cell_type": "code",
   "execution_count": 45,
   "metadata": {},
   "outputs": [
    {
     "data": {
      "image/png": "[encoded data removed]",
      "text/plain": [
       "<Figure size 864x648 with 2 Axes>"
      ]
     },
     "metadata": {
      "needs_background": "light"
     },
     "output_type": "display_data"
    }
   ],
   "source": [
    "# Obtain correlation matrix from the dataset\n",
    "corrmat = dataset_cat.corr()\n",
    "\n",
    "f, ax = plt.subplots(figsize=(12, 9))\n",
    "sns.heatmap(corrmat, vmax=1, cmap=\"YlGnBu\", square=True,linewidths=.5, annot=True)\n",
    "plt.show()"
   ]
  },
  {
   "cell_type": "code",
   "execution_count": 46,
   "metadata": {},
   "outputs": [
    {
     "data": {
      "image/png": "[encoded data removed]",
      "text/plain": [
       "<Figure size 864x648 with 2 Axes>"
      ]
     },
     "metadata": {
      "needs_background": "light"
     },
     "output_type": "display_data"
    }
   ],
   "source": [
    "# Obtaining top 5 parameters columns which affects the Purchase the most\n",
    "k= 5\n",
    "# Replotting the heatmap with the above data\n",
    "cols = corrmat.nlargest(k, 'Purchase')['Purchase'].index\n",
    "cm = np.corrcoef(dataset_cat[cols].values.T)\n",
    "f, ax = plt.subplots(figsize=(12, 9))\n",
    "sns.heatmap(cm, cmap=\"YlGnBu\", cbar=True, annot=True, square=True, fmt='.2f', annot_kws={'size': 10}, yticklabels=cols.values, xticklabels=cols.values)\n",
    "plt.show()"
   ]
  },
  {
   "cell_type": "markdown",
   "metadata": {},
   "source": [
    "__Modifiying categorical variable__ <br>\n",
    "Combining cateogrical variables to obtain good number of counts of categorical varaibles."
   ]
  },
  {
   "cell_type": "markdown",
   "metadata": {},
   "source": [
    "__Combining Age ranges__"
   ]
  },
  {
   "cell_type": "code",
   "execution_count": 51,
   "metadata": {},
   "outputs": [
    {
     "data": {
      "text/plain": [
       "26-35     313015\n",
       "0-25      163287\n",
       "36-45     156724\n",
       "46-55+    150641\n",
       "Name: Modified_Age, dtype: int64"
      ]
     },
     "execution_count": 51,
     "metadata": {},
     "output_type": "execute_result"
    }
   ],
   "source": [
    "# combining age range to get good count in each range\n",
    "dataset['Modified_Age'] = dataset[['Age']]\n",
    "\n",
    "\n",
    "# Modify Age Range to obtain obtain good number of counts in each range\n",
    "dataset['Modified_Age'] =dataset['Modified_Age']. map({'0-17':'0-25','18-25':'0-25',\n",
    "                                                       '46-50':'46-55+','51-55':'46-55+','55+':'46-55+',\n",
    "                                                      '26-35':'26-35','36-45':'36-45'})\n",
    "dataset['Modified_Age'].value_counts()"
   ]
  },
  {
   "cell_type": "markdown",
   "metadata": {},
   "source": [
    "__One Hot encoding of variables__"
   ]
  },
  {
   "cell_type": "code",
   "execution_count": 55,
   "metadata": {},
   "outputs": [
    {
     "data": {
      "text/plain": [
       "Index(['User_ID', 'Product_ID', 'Gender', 'Age', 'Occupation', 'City_Category',\n",
       "       'Stay_In_Current_City_Years', 'Marital_Status',\n",
       "       'Master_Product_Category', 'Purchase', 'source', 'Gender_MaritalStatus',\n",
       "       'Modified_Age'],\n",
       "      dtype='object')"
      ]
     },
     "execution_count": 55,
     "metadata": {},
     "output_type": "execute_result"
    }
   ],
   "source": [
    "dataset.columns"
   ]
  },
  {
   "cell_type": "code",
   "execution_count": 56,
   "metadata": {},
   "outputs": [
    {
     "data": {
      "text/html": [
       "<div>\n",
       "<style scoped>\n",
       "    .dataframe tbody tr th:only-of-type {\n",
       "        vertical-align: middle;\n",
       "    }\n",
       "\n",
       "    .dataframe tbody tr th {\n",
       "        vertical-align: top;\n",
       "    }\n",
       "\n",
       "    .dataframe thead th {\n",
       "        text-align: right;\n",
       "    }\n",
       "</style>\n",
       "<table border=\"1\" class=\"dataframe\">\n",
       "  <thead>\n",
       "    <tr style=\"text-align: right;\">\n",
       "      <th></th>\n",
       "      <th>Occupation</th>\n",
       "      <th>City_Category</th>\n",
       "      <th>Stay_In_Current_City_Years</th>\n",
       "      <th>Gender_MaritalStatus</th>\n",
       "      <th>Modified_Age</th>\n",
       "    </tr>\n",
       "  </thead>\n",
       "  <tbody>\n",
       "    <tr>\n",
       "      <th>0</th>\n",
       "      <td>10</td>\n",
       "      <td>A</td>\n",
       "      <td>2</td>\n",
       "      <td>Female_Un-Married</td>\n",
       "      <td>0-25</td>\n",
       "    </tr>\n",
       "    <tr>\n",
       "      <th>1</th>\n",
       "      <td>10</td>\n",
       "      <td>A</td>\n",
       "      <td>2</td>\n",
       "      <td>Female_Un-Married</td>\n",
       "      <td>0-25</td>\n",
       "    </tr>\n",
       "    <tr>\n",
       "      <th>2</th>\n",
       "      <td>10</td>\n",
       "      <td>A</td>\n",
       "      <td>2</td>\n",
       "      <td>Female_Un-Married</td>\n",
       "      <td>0-25</td>\n",
       "    </tr>\n",
       "    <tr>\n",
       "      <th>3</th>\n",
       "      <td>10</td>\n",
       "      <td>A</td>\n",
       "      <td>2</td>\n",
       "      <td>Female_Un-Married</td>\n",
       "      <td>0-25</td>\n",
       "    </tr>\n",
       "    <tr>\n",
       "      <th>4</th>\n",
       "      <td>16</td>\n",
       "      <td>C</td>\n",
       "      <td>4</td>\n",
       "      <td>Male_Un-Married</td>\n",
       "      <td>46-55+</td>\n",
       "    </tr>\n",
       "  </tbody>\n",
       "</table>\n",
       "</div>"
      ],
      "text/plain": [
       "   Occupation City_Category  Stay_In_Current_City_Years Gender_MaritalStatus  \\\n",
       "0          10             A                           2    Female_Un-Married   \n",
       "1          10             A                           2    Female_Un-Married   \n",
       "2          10             A                           2    Female_Un-Married   \n",
       "3          10             A                           2    Female_Un-Married   \n",
       "4          16             C                           4      Male_Un-Married   \n",
       "\n",
       "  Modified_Age  \n",
       "0         0-25  \n",
       "1         0-25  \n",
       "2         0-25  \n",
       "3         0-25  \n",
       "4       46-55+  "
      ]
     },
     "execution_count": 56,
     "metadata": {},
     "output_type": "execute_result"
    }
   ],
   "source": [
    "# Categorical variables\n",
    "dataset[['Occupation','City_Category','Stay_In_Current_City_Years','Gender_MaritalStatus','Modified_Age']].head()"
   ]
  },
  {
   "cell_type": "code",
   "execution_count": 59,
   "metadata": {},
   "outputs": [
    {
     "data": {
      "text/html": [
       "<div>\n",
       "<style scoped>\n",
       "    .dataframe tbody tr th:only-of-type {\n",
       "        vertical-align: middle;\n",
       "    }\n",
       "\n",
       "    .dataframe tbody tr th {\n",
       "        vertical-align: top;\n",
       "    }\n",
       "\n",
       "    .dataframe thead th {\n",
       "        text-align: right;\n",
       "    }\n",
       "</style>\n",
       "<table border=\"1\" class=\"dataframe\">\n",
       "  <thead>\n",
       "    <tr style=\"text-align: right;\">\n",
       "      <th></th>\n",
       "      <th>Occupation</th>\n",
       "      <th>City_Category</th>\n",
       "      <th>Stay_In_Current_City_Years</th>\n",
       "      <th>Gender_MaritalStatus</th>\n",
       "      <th>Modified_Age</th>\n",
       "    </tr>\n",
       "  </thead>\n",
       "  <tbody>\n",
       "    <tr>\n",
       "      <th>0</th>\n",
       "      <td>10</td>\n",
       "      <td>0</td>\n",
       "      <td>2</td>\n",
       "      <td>1</td>\n",
       "      <td>0</td>\n",
       "    </tr>\n",
       "    <tr>\n",
       "      <th>1</th>\n",
       "      <td>10</td>\n",
       "      <td>0</td>\n",
       "      <td>2</td>\n",
       "      <td>1</td>\n",
       "      <td>0</td>\n",
       "    </tr>\n",
       "    <tr>\n",
       "      <th>2</th>\n",
       "      <td>10</td>\n",
       "      <td>0</td>\n",
       "      <td>2</td>\n",
       "      <td>1</td>\n",
       "      <td>0</td>\n",
       "    </tr>\n",
       "    <tr>\n",
       "      <th>3</th>\n",
       "      <td>10</td>\n",
       "      <td>0</td>\n",
       "      <td>2</td>\n",
       "      <td>1</td>\n",
       "      <td>0</td>\n",
       "    </tr>\n",
       "    <tr>\n",
       "      <th>4</th>\n",
       "      <td>16</td>\n",
       "      <td>2</td>\n",
       "      <td>4</td>\n",
       "      <td>3</td>\n",
       "      <td>3</td>\n",
       "    </tr>\n",
       "  </tbody>\n",
       "</table>\n",
       "</div>"
      ],
      "text/plain": [
       "   Occupation  City_Category  Stay_In_Current_City_Years  \\\n",
       "0          10              0                           2   \n",
       "1          10              0                           2   \n",
       "2          10              0                           2   \n",
       "3          10              0                           2   \n",
       "4          16              2                           4   \n",
       "\n",
       "   Gender_MaritalStatus  Modified_Age  \n",
       "0                     1             0  \n",
       "1                     1             0  \n",
       "2                     1             0  \n",
       "3                     1             0  \n",
       "4                     3             3  "
      ]
     },
     "execution_count": 59,
     "metadata": {},
     "output_type": "execute_result"
    }
   ],
   "source": [
    "# Feature Encoding categorical columns to visualize correlation of parameters with Purchase column\n",
    "# Importing required package\n",
    "from sklearn.preprocessing import LabelEncoder\n",
    "encode_x = LabelEncoder()\n",
    "\n",
    "# Encoding categorical columns \n",
    "dataset['City_Category'] = encode_x.fit_transform(dataset['City_Category'])\n",
    "dataset['Gender_MaritalStatus'] = encode_x.fit_transform(dataset['Gender_MaritalStatus'])\n",
    "dataset['Modified_Age'] = encode_x.fit_transform(dataset['Modified_Age'])\n",
    "\n",
    "dataset[['Occupation','City_Category','Stay_In_Current_City_Years','Gender_MaritalStatus','Modified_Age']].head()"
   ]
  },
  {
   "cell_type": "code",
   "execution_count": 60,
   "metadata": {},
   "outputs": [],
   "source": [
    "# Creating dummy variables, one for each category of a categorical variable\n",
    "dataset = pd.get_dummies(dataset, columns=['Occupation', 'City_Category','Stay_In_Current_City_Years', \n",
    "                                           'Gender_MaritalStatus','Modified_Age'])"
   ]
  },
  {
   "cell_type": "markdown",
   "metadata": {},
   "source": [
    "#### Exporting the data"
   ]
  },
  {
   "cell_type": "code",
   "execution_count": 65,
   "metadata": {},
   "outputs": [],
   "source": [
    "# Drop the columns which have been converted to different types:\n",
    "dataset.drop(['Age','Gender', 'Marital_Status'],axis=1,inplace=True)\n",
    "\n",
    "# Splitting the dataset back into test and train datasets for model building:\n",
    "train = dataset.loc[dataset['source']==\"train\"]\n",
    "test = dataset.loc[dataset['source']==\"test\"]\n",
    "\n",
    "# Dropping unnecessary columns from train and test dataframe:\n",
    "test = test.drop(['Purchase','source'],axis=1) # dropping dependent variable 'Purchase' from the test dataset\n",
    "train = train.drop(['source'],axis=1)"
   ]
  },
  {
   "cell_type": "code",
   "execution_count": 66,
   "metadata": {},
   "outputs": [],
   "source": [
    "# Exporting csv files as modified versions:\n",
    "train.to_csv(\"results/train_modified.csv\",index=False)\n",
    "test.to_csv(\"results/test_modified.csv\",index=False)"
   ]
  },
  {
   "cell_type": "markdown",
   "metadata": {},
   "source": [
    "### 4. Building the model"
   ]
  },
  {
   "cell_type": "code",
   "execution_count": null,
   "metadata": {},
   "outputs": [],
   "source": [
    "# Mean based:\n",
    "mean_purhcase = train['Purchase'].mean()\n",
    "\n",
    "# Defining a dataframe with IDs for submission:\n",
    "base1 = test[['User_ID','Product_ID']]\n",
    "\n",
    "# Implying the mean sales value to the Item_Outlet_Sales column\n",
    "base1.loc[:,'Purchase'] = mean_purhcase\n",
    "\n",
    "# Exporting the submission file\n",
    "base1.to_csv(\"results/algor.csv\",index=False)"
   ]
  },
  {
   "cell_type": "markdown",
   "metadata": {},
   "source": [
    "Function to makes the model, performs cross-validation and generates submission."
   ]
  },
  {
   "cell_type": "markdown",
   "metadata": {},
   "source": [
    "## Machine Learning - Build Model"
   ]
  },
  {
   "cell_type": "markdown",
   "metadata": {},
   "source": [
    "__Assigning Targets, ID Columns and predictors__"
   ]
  },
  {
   "cell_type": "code",
   "execution_count": 68,
   "metadata": {},
   "outputs": [],
   "source": [
    "# Assigning columns for model building\n",
    "target = 'Purchase'\n",
    "IDcol = ['User_ID','Product_ID']\n",
    "\n",
    "# Excluding Identifiers (used for submission) and dependent variable column\n",
    "predictors = [x for x in train.columns if x not in [target]+IDcol]\n"
   ]
  },
  {
   "cell_type": "markdown",
   "metadata": {},
   "source": [
    "### Linear Regression Model"
   ]
  },
  {
   "cell_type": "code",
   "execution_count": 72,
   "metadata": {},
   "outputs": [
    {
     "name": "stdout",
     "output_type": "stream",
     "text": [
      "\n",
      "------Model Report----\n",
      "\n",
      "RMSE :  4992.114945300622\n",
      "CV Score Mean : 4990\n",
      "CV Score Std : 193.9\n",
      "CV Score Min : 4891\n",
      "CV Score Max : 5827\n"
     ]
    }
   ],
   "source": [
    "# setting random seed to obtain same results when the code is re-run anytime\n",
    "random.seed(123)\n",
    "# Building a linear regression model \n",
    "from sklearn.linear_model import LinearRegression\n",
    "lin_alg = LinearRegression(normalize=True)\n",
    "\n",
    "# Importing function to test the model and provide results\n",
    "from support.mfit import modelfit\n",
    "import sys, importlib\n",
    "importlib.reload(sys.modules['support.mfit'])\n",
    "modelfit(lin_alg, train, test, predictors, target, IDcol)"
   ]
  },
  {
   "cell_type": "code",
   "execution_count": 76,
   "metadata": {
    "scrolled": true
   },
   "outputs": [
    {
     "data": {
      "image/png": "[encoded data removed]",
      "text/plain": [
       "<Figure size 576x432 with 1 Axes>"
      ]
     },
     "metadata": {
      "needs_background": "light"
     },
     "output_type": "display_data"
    }
   ],
   "source": [
    "coef1 = pd.Series(alg1.coef_, predictors).sort_values(ascending=True)\n",
    "\n",
    "plt.figure(figsize=(8,6))\n",
    "coef1.plot(kind='bar', title='Model Coefficients')\n",
    "plt.show()"
   ]
  },
  {
   "cell_type": "markdown",
   "metadata": {},
   "source": [
    "### Ridge Regression Model:"
   ]
  },
  {
   "cell_type": "code",
   "execution_count": 78,
   "metadata": {},
   "outputs": [
    {
     "name": "stdout",
     "output_type": "stream",
     "text": [
      "\n",
      "------Model Report----\n",
      "\n",
      "RMSE :  4992.1368336771175\n",
      "CV Score Mean : 4990\n",
      "CV Score Std : 193.3\n",
      "CV Score Min : 4891\n",
      "CV Score Max : 5824\n"
     ]
    }
   ],
   "source": [
    "# Building a list of independent varaibles to build the model\n",
    "from sklearn.linear_model import Ridge\n",
    "\n",
    "# Building a Ridge regression model \n",
    "rdg_alg = Ridge(alpha=0.05,normalize=True)\n",
    "\n",
    "# Testing the model with the function\n",
    "modelfit(rdg_alg, train, test, predictors, target, IDcol)"
   ]
  },
  {
   "cell_type": "markdown",
   "metadata": {},
   "source": [
    "### Decision Tree Model"
   ]
  },
  {
   "cell_type": "code",
   "execution_count": 79,
   "metadata": {},
   "outputs": [
    {
     "name": "stdout",
     "output_type": "stream",
     "text": [
      "\n",
      "------Model Report----\n",
      "\n",
      "RMSE :  2887.909556547156\n",
      "CV Score Mean : 3037\n",
      "CV Score Std : 456.7\n",
      "CV Score Min : 2889\n",
      "CV Score Max : 5025\n"
     ]
    }
   ],
   "source": [
    "# Building a Decision Tree regression model \n",
    "from sklearn.tree import DecisionTreeRegressor\n",
    "dt_alg = DecisionTreeRegressor(max_depth=25, min_samples_leaf=100)\n",
    "\n",
    "modelfit(dt_alg, train, test, predictors, target, IDcol)"
   ]
  },
  {
   "cell_type": "markdown",
   "metadata": {},
   "source": [
    "__Evaluating best parameters by Grid Search__"
   ]
  },
  {
   "cell_type": "code",
   "execution_count": 81,
   "metadata": {},
   "outputs": [],
   "source": [
    "# Importing required package\n",
    "from sklearn.model_selection import GridSearchCV\n",
    "\n",
    "#  DecisionTreeRegressor(max_depth=15, min_samples_leaf=100)\n",
    "params = [{'max_depth':[25,50,75,100],'min_samples_leaf' :[50,100,150,200]}]\n",
    "\n",
    "# creating a grid seacrch with the above parameters\n",
    "grid_search = GridSearchCV(estimator = dt_alg, \n",
    "                           param_grid = params,\n",
    "                           scoring = 'neg_mean_squared_error',\n",
    "                           cv = 20,\n",
    "                           n_jobs= -1)"
   ]
  },
  {
   "cell_type": "code",
   "execution_count": 82,
   "metadata": {},
   "outputs": [
    {
     "name": "stdout",
     "output_type": "stream",
     "text": [
      "Best accuracy : -9413531.946061358\n",
      "Best parameters : {'max_depth': 100, 'min_samples_leaf': 50}\n"
     ]
    }
   ],
   "source": [
    "# running the grid search function\n",
    "grid_search.fit(train[predictors], train[target])\n",
    "# obtaining best accuracies and parameters\n",
    "\n",
    "best_accuracy = grid_search.best_score_\n",
    "best_parameters = grid_search.best_params_\n",
    "print ('Best accuracy :', best_accuracy)\n",
    "print ('Best parameters :', best_parameters)"
   ]
  },
  {
   "cell_type": "code",
   "execution_count": 83,
   "metadata": {},
   "outputs": [
    {
     "name": "stdout",
     "output_type": "stream",
     "text": [
      "\n",
      "------Model Report----\n",
      "\n",
      "RMSE :  2858.1558704945296\n",
      "CV Score Mean : 3036\n",
      "CV Score Std : 440.4\n",
      "CV Score Min : 2892\n",
      "CV Score Max : 4954\n"
     ]
    }
   ],
   "source": [
    "# Building a Decision Tree regression model with the above values\n",
    "from sklearn.tree import DecisionTreeRegressor\n",
    "dt_alg2 = DecisionTreeRegressor(max_depth=50, min_samples_leaf=50)\n",
    "\n",
    "modelfit(dt_alg2, train, test, predictors, target, IDcol)"
   ]
  },
  {
   "cell_type": "markdown",
   "metadata": {},
   "source": [
    "### Random Forest Model"
   ]
  },
  {
   "cell_type": "code",
   "execution_count": 84,
   "metadata": {},
   "outputs": [
    {
     "name": "stdout",
     "output_type": "stream",
     "text": [
      "\n",
      "------Model Report----\n",
      "\n",
      "RMSE :  2859.437041240288\n",
      "CV Score Mean : 3017\n",
      "CV Score Std : 451.4\n",
      "CV Score Min : 2873\n",
      "CV Score Max : 4982\n"
     ]
    }
   ],
   "source": [
    "from sklearn.ensemble import RandomForestRegressor\n",
    "rf_alg = RandomForestRegressor(n_estimators=50,max_depth=25, min_samples_leaf=50,n_jobs=1)\n",
    "modelfit(rf_alg, train, test, predictors, target, IDcol)"
   ]
  },
  {
   "cell_type": "code",
   "execution_count": 85,
   "metadata": {},
   "outputs": [
    {
     "name": "stdout",
     "output_type": "stream",
     "text": [
      "\n",
      "------Model Report----\n",
      "\n",
      "RMSE :  2925.306296522835\n",
      "CV Score Mean : 3042\n",
      "CV Score Std : 457.7\n",
      "CV Score Min : 2902\n",
      "CV Score Max : 5036\n"
     ]
    }
   ],
   "source": [
    "# Making a random forest model with just **top 2** variables based on the above coeffecient values\n",
    "predictors2 = ['Master_Product_Category','City_Category_2']\n",
    "modelfit(rf_alg, train, test, predictors2, target, IDcol)"
   ]
  },
  {
   "cell_type": "markdown",
   "metadata": {},
   "source": [
    "### Conclusion\n",
    "\n",
    " - Based on the accuracy score and the RMSE score of the models, exporting prediction values using the best trained model.\n",
    " - RMSE score for Decision tree algorithm is observed to be minimal\n",
    " "
   ]
  },
  {
   "cell_type": "code",
   "execution_count": 86,
   "metadata": {},
   "outputs": [
    {
     "name": "stdout",
     "output_type": "stream",
     "text": [
      "\n",
      "------Model Report----\n",
      "\n",
      "RMSE :  2925.203072928926\n",
      "CV Score Mean : 3041\n",
      "CV Score Std : 452.7\n",
      "CV Score Min : 2902\n",
      "CV Score Max : 5013\n"
     ]
    }
   ],
   "source": [
    "modelfit(dt_alg2, train, test, predictors, target, IDcol,'results/algor_final.csv')"
   ]
  }
 ],
 "metadata": {
  "kernelspec": {
   "display_name": "Python 3",
   "language": "python",
   "name": "python3"
  },
  "language_info": {
   "codemirror_mode": {
    "name": "ipython",
    "version": 3
   },
   "file_extension": ".py",
   "mimetype": "text/x-python",
   "name": "python",
   "nbconvert_exporter": "python",
   "pygments_lexer": "ipython3",
   "version": "3.7.0"
  }
 },
 "nbformat": 4,
 "nbformat_minor": 2
}
