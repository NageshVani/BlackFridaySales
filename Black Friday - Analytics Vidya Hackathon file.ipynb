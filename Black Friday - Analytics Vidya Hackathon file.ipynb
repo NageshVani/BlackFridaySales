{
 "cells": [
  {
   "cell_type": "markdown",
   "metadata": {},
   "source": [
    "# Black Friday - Prediction"
   ]
  },
  {
   "cell_type": "markdown",
   "metadata": {},
   "source": [
    "__Problem Statement__ :\n",
    ">A retail company “ABC Private Limited” wants to understand the customer purchase behaviour (specifically, purchase amount) against various products of different categories. They have shared purchase summary of various customers for selected high volume products from last month.\n",
    "The data set also contains __customer demographics (age, gender, marital status, city_type, stay_in_current_city)__, product details (product_id and product category) and Total purchase_amount from last month.\n",
    "\n",
    ">Now, they want to build a model to __predict the purchase amount of customer against various products__ which will help them to create personalized offer for customers against different products. <br>\n",
    "\n",
    "(Source : Taken directly from Analytics Vidhya Hackahthon contest)\n",
    "https://datahack.analyticsvidhya.com/contest/black-friday/"
   ]
  },
  {
   "cell_type": "markdown",
   "metadata": {},
   "source": [
    "### 1.0 Importing required libraries and Data Exploration"
   ]
  },
  {
   "cell_type": "code",
   "execution_count": 1,
   "metadata": {},
   "outputs": [],
   "source": [
    "import os\n",
    "import numpy as np\n",
    "import pandas as pd\n",
    "import matplotlib.pyplot as plt\n",
    "%matplotlib inline\n",
    "import seaborn as sns"
   ]
  },
  {
   "cell_type": "markdown",
   "metadata": {},
   "source": [
    "__About the data__:\n",
    "> There are 2 csv files train.csv (550068, 13) , test.csv (233599, 12) splitted into  70:30 ratio <br>\n",
    "\n",
    "> Models can be evaluated on the basis of your prediction of the purchase amount for the test data (test.csv), which contains similar data-points as train data (train.csv) except for their purchase amount. "
   ]
  },
  {
   "cell_type": "code",
   "execution_count": 2,
   "metadata": {},
   "outputs": [],
   "source": [
    "# Importing data into python from the given csv file\n",
    "train = pd.read_csv('../data/BlackFriday/train.csv')\n",
    "test = pd.read_csv('../data/BlackFriday/test.csv')"
   ]
  },
  {
   "cell_type": "code",
   "execution_count": 3,
   "metadata": {},
   "outputs": [],
   "source": [
    "# Including new column named 'source' and giving the value as 'train' / 'test' to identify from where exactly the data was taken\n",
    "train['source']='train'\n",
    "test['source']='test'"
   ]
  },
  {
   "cell_type": "code",
   "execution_count": 4,
   "metadata": {},
   "outputs": [
    {
     "name": "stdout",
     "output_type": "stream",
     "text": [
      "(550068, 13) (233599, 12) (783667, 13)\n"
     ]
    }
   ],
   "source": [
    "# Combining the 2 dataframes (train and Test) into a single dataframe 'dataset'\n",
    "dataset = pd.concat([train, test],ignore_index=True, sort=False)\n",
    "print (train.shape, test.shape, dataset.shape)"
   ]
  },
  {
   "cell_type": "code",
   "execution_count": 5,
   "metadata": {},
   "outputs": [
    {
     "data": {
      "text/html": [
       "<div>\n",
       "<style scoped>\n",
       "    .dataframe tbody tr th:only-of-type {\n",
       "        vertical-align: middle;\n",
       "    }\n",
       "\n",
       "    .dataframe tbody tr th {\n",
       "        vertical-align: top;\n",
       "    }\n",
       "\n",
       "    .dataframe thead th {\n",
       "        text-align: right;\n",
       "    }\n",
       "</style>\n",
       "<table border=\"1\" class=\"dataframe\">\n",
       "  <thead>\n",
       "    <tr style=\"text-align: right;\">\n",
       "      <th></th>\n",
       "      <th>User_ID</th>\n",
       "      <th>Product_ID</th>\n",
       "      <th>Gender</th>\n",
       "      <th>Age</th>\n",
       "      <th>Occupation</th>\n",
       "      <th>City_Category</th>\n",
       "      <th>Stay_In_Current_City_Years</th>\n",
       "      <th>Marital_Status</th>\n",
       "      <th>Product_Category_1</th>\n",
       "      <th>Product_Category_2</th>\n",
       "      <th>Product_Category_3</th>\n",
       "      <th>Purchase</th>\n",
       "      <th>source</th>\n",
       "    </tr>\n",
       "  </thead>\n",
       "  <tbody>\n",
       "    <tr>\n",
       "      <th>0</th>\n",
       "      <td>1000001</td>\n",
       "      <td>P00069042</td>\n",
       "      <td>F</td>\n",
       "      <td>0-17</td>\n",
       "      <td>10</td>\n",
       "      <td>A</td>\n",
       "      <td>2</td>\n",
       "      <td>0</td>\n",
       "      <td>3</td>\n",
       "      <td>NaN</td>\n",
       "      <td>NaN</td>\n",
       "      <td>8370.0</td>\n",
       "      <td>train</td>\n",
       "    </tr>\n",
       "    <tr>\n",
       "      <th>1</th>\n",
       "      <td>1000001</td>\n",
       "      <td>P00248942</td>\n",
       "      <td>F</td>\n",
       "      <td>0-17</td>\n",
       "      <td>10</td>\n",
       "      <td>A</td>\n",
       "      <td>2</td>\n",
       "      <td>0</td>\n",
       "      <td>1</td>\n",
       "      <td>6.0</td>\n",
       "      <td>14.0</td>\n",
       "      <td>15200.0</td>\n",
       "      <td>train</td>\n",
       "    </tr>\n",
       "    <tr>\n",
       "      <th>2</th>\n",
       "      <td>1000001</td>\n",
       "      <td>P00087842</td>\n",
       "      <td>F</td>\n",
       "      <td>0-17</td>\n",
       "      <td>10</td>\n",
       "      <td>A</td>\n",
       "      <td>2</td>\n",
       "      <td>0</td>\n",
       "      <td>12</td>\n",
       "      <td>NaN</td>\n",
       "      <td>NaN</td>\n",
       "      <td>1422.0</td>\n",
       "      <td>train</td>\n",
       "    </tr>\n",
       "    <tr>\n",
       "      <th>3</th>\n",
       "      <td>1000001</td>\n",
       "      <td>P00085442</td>\n",
       "      <td>F</td>\n",
       "      <td>0-17</td>\n",
       "      <td>10</td>\n",
       "      <td>A</td>\n",
       "      <td>2</td>\n",
       "      <td>0</td>\n",
       "      <td>12</td>\n",
       "      <td>14.0</td>\n",
       "      <td>NaN</td>\n",
       "      <td>1057.0</td>\n",
       "      <td>train</td>\n",
       "    </tr>\n",
       "    <tr>\n",
       "      <th>4</th>\n",
       "      <td>1000002</td>\n",
       "      <td>P00285442</td>\n",
       "      <td>M</td>\n",
       "      <td>55+</td>\n",
       "      <td>16</td>\n",
       "      <td>C</td>\n",
       "      <td>4+</td>\n",
       "      <td>0</td>\n",
       "      <td>8</td>\n",
       "      <td>NaN</td>\n",
       "      <td>NaN</td>\n",
       "      <td>7969.0</td>\n",
       "      <td>train</td>\n",
       "    </tr>\n",
       "  </tbody>\n",
       "</table>\n",
       "</div>"
      ],
      "text/plain": [
       "   User_ID Product_ID Gender   Age  Occupation City_Category  \\\n",
       "0  1000001  P00069042      F  0-17          10             A   \n",
       "1  1000001  P00248942      F  0-17          10             A   \n",
       "2  1000001  P00087842      F  0-17          10             A   \n",
       "3  1000001  P00085442      F  0-17          10             A   \n",
       "4  1000002  P00285442      M   55+          16             C   \n",
       "\n",
       "  Stay_In_Current_City_Years  Marital_Status  Product_Category_1  \\\n",
       "0                          2               0                   3   \n",
       "1                          2               0                   1   \n",
       "2                          2               0                  12   \n",
       "3                          2               0                  12   \n",
       "4                         4+               0                   8   \n",
       "\n",
       "   Product_Category_2  Product_Category_3  Purchase source  \n",
       "0                 NaN                 NaN    8370.0  train  \n",
       "1                 6.0                14.0   15200.0  train  \n",
       "2                 NaN                 NaN    1422.0  train  \n",
       "3                14.0                 NaN    1057.0  train  \n",
       "4                 NaN                 NaN    7969.0  train  "
      ]
     },
     "execution_count": 5,
     "metadata": {},
     "output_type": "execute_result"
    }
   ],
   "source": [
    "dataset.head()"
   ]
  },
  {
   "cell_type": "code",
   "execution_count": 6,
   "metadata": {},
   "outputs": [
    {
     "data": {
      "text/plain": [
       "User_ID                            0\n",
       "Product_ID                         0\n",
       "Gender                             0\n",
       "Age                                0\n",
       "Occupation                         0\n",
       "City_Category                      0\n",
       "Stay_In_Current_City_Years         0\n",
       "Marital_Status                     0\n",
       "Product_Category_1                 0\n",
       "Product_Category_2            245982\n",
       "Product_Category_3            545809\n",
       "Purchase                      233599\n",
       "source                             0\n",
       "dtype: int64"
      ]
     },
     "execution_count": 6,
     "metadata": {},
     "output_type": "execute_result"
    }
   ],
   "source": [
    "# Checking for null values in the columns\n",
    "dataset.isnull().sum()"
   ]
  },
  {
   "cell_type": "markdown",
   "metadata": {},
   "source": [
    "__Observation__:\n",
    "There are significant missing values in 3 columns (Product_Category_2, Product_Category_3 and Purchase)"
   ]
  },
  {
   "cell_type": "code",
   "execution_count": 7,
   "metadata": {},
   "outputs": [
    {
     "data": {
      "text/plain": [
       "User_ID                         int64\n",
       "Product_ID                     object\n",
       "Gender                         object\n",
       "Age                            object\n",
       "Occupation                      int64\n",
       "City_Category                  object\n",
       "Stay_In_Current_City_Years     object\n",
       "Marital_Status                  int64\n",
       "Product_Category_1              int64\n",
       "Product_Category_2            float64\n",
       "Product_Category_3            float64\n",
       "Purchase                      float64\n",
       "source                         object\n",
       "dtype: object"
      ]
     },
     "execution_count": 7,
     "metadata": {},
     "output_type": "execute_result"
    }
   ],
   "source": [
    "dataset.dtypes"
   ]
  },
  {
   "cell_type": "code",
   "execution_count": 8,
   "metadata": {},
   "outputs": [
    {
     "data": {
      "text/html": [
       "<div>\n",
       "<style scoped>\n",
       "    .dataframe tbody tr th:only-of-type {\n",
       "        vertical-align: middle;\n",
       "    }\n",
       "\n",
       "    .dataframe tbody tr th {\n",
       "        vertical-align: top;\n",
       "    }\n",
       "\n",
       "    .dataframe thead th {\n",
       "        text-align: right;\n",
       "    }\n",
       "</style>\n",
       "<table border=\"1\" class=\"dataframe\">\n",
       "  <thead>\n",
       "    <tr style=\"text-align: right;\">\n",
       "      <th></th>\n",
       "      <th>User_ID</th>\n",
       "      <th>Occupation</th>\n",
       "      <th>Marital_Status</th>\n",
       "      <th>Product_Category_1</th>\n",
       "      <th>Product_Category_2</th>\n",
       "      <th>Product_Category_3</th>\n",
       "      <th>Purchase</th>\n",
       "    </tr>\n",
       "  </thead>\n",
       "  <tbody>\n",
       "    <tr>\n",
       "      <th>count</th>\n",
       "      <td>7.836670e+05</td>\n",
       "      <td>783667.000000</td>\n",
       "      <td>783667.000000</td>\n",
       "      <td>783667.000000</td>\n",
       "      <td>537685.000000</td>\n",
       "      <td>237858.000000</td>\n",
       "      <td>550068.000000</td>\n",
       "    </tr>\n",
       "    <tr>\n",
       "      <th>mean</th>\n",
       "      <td>1.003029e+06</td>\n",
       "      <td>8.079300</td>\n",
       "      <td>0.409777</td>\n",
       "      <td>5.366196</td>\n",
       "      <td>9.844506</td>\n",
       "      <td>12.668605</td>\n",
       "      <td>9263.968713</td>\n",
       "    </tr>\n",
       "    <tr>\n",
       "      <th>std</th>\n",
       "      <td>1.727267e+03</td>\n",
       "      <td>6.522206</td>\n",
       "      <td>0.491793</td>\n",
       "      <td>3.878160</td>\n",
       "      <td>5.089093</td>\n",
       "      <td>4.125510</td>\n",
       "      <td>5023.065394</td>\n",
       "    </tr>\n",
       "    <tr>\n",
       "      <th>min</th>\n",
       "      <td>1.000001e+06</td>\n",
       "      <td>0.000000</td>\n",
       "      <td>0.000000</td>\n",
       "      <td>1.000000</td>\n",
       "      <td>2.000000</td>\n",
       "      <td>3.000000</td>\n",
       "      <td>12.000000</td>\n",
       "    </tr>\n",
       "    <tr>\n",
       "      <th>25%</th>\n",
       "      <td>1.001519e+06</td>\n",
       "      <td>2.000000</td>\n",
       "      <td>0.000000</td>\n",
       "      <td>1.000000</td>\n",
       "      <td>5.000000</td>\n",
       "      <td>9.000000</td>\n",
       "      <td>5823.000000</td>\n",
       "    </tr>\n",
       "    <tr>\n",
       "      <th>50%</th>\n",
       "      <td>1.003075e+06</td>\n",
       "      <td>7.000000</td>\n",
       "      <td>0.000000</td>\n",
       "      <td>5.000000</td>\n",
       "      <td>9.000000</td>\n",
       "      <td>14.000000</td>\n",
       "      <td>8047.000000</td>\n",
       "    </tr>\n",
       "    <tr>\n",
       "      <th>75%</th>\n",
       "      <td>1.004478e+06</td>\n",
       "      <td>14.000000</td>\n",
       "      <td>1.000000</td>\n",
       "      <td>8.000000</td>\n",
       "      <td>15.000000</td>\n",
       "      <td>16.000000</td>\n",
       "      <td>12054.000000</td>\n",
       "    </tr>\n",
       "    <tr>\n",
       "      <th>max</th>\n",
       "      <td>1.006040e+06</td>\n",
       "      <td>20.000000</td>\n",
       "      <td>1.000000</td>\n",
       "      <td>20.000000</td>\n",
       "      <td>18.000000</td>\n",
       "      <td>18.000000</td>\n",
       "      <td>23961.000000</td>\n",
       "    </tr>\n",
       "  </tbody>\n",
       "</table>\n",
       "</div>"
      ],
      "text/plain": [
       "            User_ID     Occupation  Marital_Status  Product_Category_1  \\\n",
       "count  7.836670e+05  783667.000000   783667.000000       783667.000000   \n",
       "mean   1.003029e+06       8.079300        0.409777            5.366196   \n",
       "std    1.727267e+03       6.522206        0.491793            3.878160   \n",
       "min    1.000001e+06       0.000000        0.000000            1.000000   \n",
       "25%    1.001519e+06       2.000000        0.000000            1.000000   \n",
       "50%    1.003075e+06       7.000000        0.000000            5.000000   \n",
       "75%    1.004478e+06      14.000000        1.000000            8.000000   \n",
       "max    1.006040e+06      20.000000        1.000000           20.000000   \n",
       "\n",
       "       Product_Category_2  Product_Category_3       Purchase  \n",
       "count       537685.000000       237858.000000  550068.000000  \n",
       "mean             9.844506           12.668605    9263.968713  \n",
       "std              5.089093            4.125510    5023.065394  \n",
       "min              2.000000            3.000000      12.000000  \n",
       "25%              5.000000            9.000000    5823.000000  \n",
       "50%              9.000000           14.000000    8047.000000  \n",
       "75%             15.000000           16.000000   12054.000000  \n",
       "max             18.000000           18.000000   23961.000000  "
      ]
     },
     "execution_count": 8,
     "metadata": {},
     "output_type": "execute_result"
    }
   ],
   "source": [
    "# Checking details from the columns with 'numeric' datatype\n",
    "dataset.describe()"
   ]
  },
  {
   "cell_type": "markdown",
   "metadata": {},
   "source": [
    "We can see that most of the columns are with categorical data, either expressed in numericals or strings"
   ]
  },
  {
   "cell_type": "code",
   "execution_count": 9,
   "metadata": {},
   "outputs": [
    {
     "data": {
      "text/plain": [
       "User_ID                        5891\n",
       "Product_ID                     3677\n",
       "Gender                            2\n",
       "Age                               7\n",
       "Occupation                       21\n",
       "City_Category                     3\n",
       "Stay_In_Current_City_Years        5\n",
       "Marital_Status                    2\n",
       "Product_Category_1               20\n",
       "Product_Category_2               18\n",
       "Product_Category_3               16\n",
       "Purchase                      18106\n",
       "source                            2\n",
       "dtype: int64"
      ]
     },
     "execution_count": 9,
     "metadata": {},
     "output_type": "execute_result"
    }
   ],
   "source": [
    "# Obtaining number of unique values in each column\n",
    "dataset.apply(lambda x: len(x.unique()))"
   ]
  },
  {
   "cell_type": "code",
   "execution_count": 10,
   "metadata": {},
   "outputs": [
    {
     "data": {
      "text/plain": [
       "['Product_ID',\n",
       " 'Gender',\n",
       " 'Age',\n",
       " 'City_Category',\n",
       " 'Stay_In_Current_City_Years',\n",
       " 'source',\n",
       " 'Occupation']"
      ]
     },
     "execution_count": 10,
     "metadata": {},
     "output_type": "execute_result"
    }
   ],
   "source": [
    "#Filter categorical variables\n",
    "categorical_columns = [x for x in dataset.dtypes.index if dataset.dtypes[x]=='object']\n",
    "# Adding other categorical variables indicated as numerics\n",
    "categorical_columns.extend(['Occupation'])\n",
    "categorical_columns"
   ]
  },
  {
   "cell_type": "code",
   "execution_count": 11,
   "metadata": {},
   "outputs": [
    {
     "data": {
      "text/plain": [
       "['Gender', 'Age', 'City_Category', 'Stay_In_Current_City_Years', 'Occupation']"
      ]
     },
     "execution_count": 11,
     "metadata": {},
     "output_type": "execute_result"
    }
   ],
   "source": [
    "# Droping Identifier values from the list\n",
    "categorical_columns = [x for x in categorical_columns if x not in ['Product_ID','source']]\n",
    "categorical_columns"
   ]
  },
  {
   "cell_type": "code",
   "execution_count": 12,
   "metadata": {},
   "outputs": [
    {
     "name": "stdout",
     "output_type": "stream",
     "text": [
      "Frequency (Count) of Categories for varible :  Gender\n",
      "M    590031\n",
      "F    193636\n",
      "Name: Gender, dtype: int64\n",
      "---------------------------------------------------\n",
      "Frequency (Count) of Categories for varible :  Age\n",
      "26-35    313015\n",
      "36-45    156724\n",
      "18-25    141953\n",
      "46-50     65278\n",
      "51-55     54784\n",
      "55+       30579\n",
      "0-17      21334\n",
      "Name: Age, dtype: int64\n",
      "---------------------------------------------------\n",
      "Frequency (Count) of Categories for varible :  City_Category\n",
      "B    329739\n",
      "C    243684\n",
      "A    210244\n",
      "Name: City_Category, dtype: int64\n",
      "---------------------------------------------------\n",
      "Frequency (Count) of Categories for varible :  Stay_In_Current_City_Years\n",
      "1     276425\n",
      "2     145427\n",
      "3     135428\n",
      "4+    120671\n",
      "0     105716\n",
      "Name: Stay_In_Current_City_Years, dtype: int64\n",
      "---------------------------------------------------\n",
      "Frequency (Count) of Categories for varible :  Occupation\n",
      "4     103086\n",
      "0      98850\n",
      "7      84127\n",
      "1      67687\n",
      "17     57418\n",
      "20     47840\n",
      "12     44448\n",
      "14     38782\n",
      "2      37996\n",
      "16     36122\n",
      "6      29102\n",
      "3      25126\n",
      "10     18304\n",
      "5      17373\n",
      "15     17356\n",
      "11     16593\n",
      "19     11919\n",
      "13     11053\n",
      "18      9367\n",
      "9       8929\n",
      "8       2189\n",
      "Name: Occupation, dtype: int64\n",
      "---------------------------------------------------\n"
     ]
    }
   ],
   "source": [
    "# Print frequency of categories\n",
    "for col in categorical_columns:\n",
    "    print ('Frequency (Count) of Categories for varible : ', col)\n",
    "    print (dataset[col].value_counts())\n",
    "    print('---------------------------------------------------')"
   ]
  },
  {
   "cell_type": "markdown",
   "metadata": {},
   "source": [
    "### 1.1 Hypothesis"
   ]
  },
  {
   "cell_type": "markdown",
   "metadata": {},
   "source": [
    "On observations of the column headers and the values the following hypothesis can be carried out\n",
    "\n",
    "__User_ID__ : <br>\n",
    "Identification values which links to the demographics of the person like (Gender, Age, Marital Status, Occupation, City Category and years in city) \n",
    "<br>\n",
    "\n",
    "__Product_ID__ : <br>\n",
    "Identification values which links other sub categories Product_Category_1, Product_Category_2 and Product_Category_3\n",
    "<br>\n",
    "\n",
    "__Gender__ : (Male / Female) <br>\n",
    "Generally females shop more than male. However the User_ID maybe linked with the male who would pay for the purchase\n",
    "<br>\n",
    "\n",
    "__Age__ : (Range between 0 to 55+) <br>\n",
    "Teenagers and middle aged group people tend to make use of the BlackFriday sale\n",
    "<br>\n",
    "\n",
    "__Marital Status__ : (Married / Un-married) <br>\n",
    "Un-married people spend more during the sale season compared to those married\n",
    "<br>\n",
    "\n",
    "__Occupation__ : (Range between 0 to 20) <br>\n",
    "People in Managerial and above position Purchase more compared to mid-level and associate positions\n",
    "<br>\n",
    "\n",
    "__City Category__ : (Code A, B, C) <br>\n",
    "People living in metros spend more during sale compared to less populated cities\n",
    "\n",
    "__Stay in City__ : (Range between 0 to 4+) <br>\n",
    "As people stay more in a particular city and based on experience on various aspects in the mart, people who fancy few of their favorite marts may visit them during the sale season.\n",
    "\n",
    "__Product Category__ : (1, 2, & 3) <br>\n",
    "Links to Sub categories of Product_ID\n"
   ]
  },
  {
   "cell_type": "markdown",
   "metadata": {},
   "source": [
    "### 2. EDA\n",
    "> Imputing missing values and Treating outliers"
   ]
  },
  {
   "cell_type": "code",
   "execution_count": 13,
   "metadata": {},
   "outputs": [
    {
     "data": {
      "text/html": [
       "<div>\n",
       "<style scoped>\n",
       "    .dataframe tbody tr th:only-of-type {\n",
       "        vertical-align: middle;\n",
       "    }\n",
       "\n",
       "    .dataframe tbody tr th {\n",
       "        vertical-align: top;\n",
       "    }\n",
       "\n",
       "    .dataframe thead th {\n",
       "        text-align: right;\n",
       "    }\n",
       "</style>\n",
       "<table border=\"1\" class=\"dataframe\">\n",
       "  <thead>\n",
       "    <tr style=\"text-align: right;\">\n",
       "      <th></th>\n",
       "      <th>Product_Category_1</th>\n",
       "      <th>Product_Category_2</th>\n",
       "      <th>Product_Category_3</th>\n",
       "    </tr>\n",
       "    <tr>\n",
       "      <th>Product_ID</th>\n",
       "      <th></th>\n",
       "      <th></th>\n",
       "      <th></th>\n",
       "    </tr>\n",
       "  </thead>\n",
       "  <tbody>\n",
       "    <tr>\n",
       "      <th>P00000142</th>\n",
       "      <td>3</td>\n",
       "      <td>4.0</td>\n",
       "      <td>5.0</td>\n",
       "    </tr>\n",
       "    <tr>\n",
       "      <th>P00000242</th>\n",
       "      <td>2</td>\n",
       "      <td>4.0</td>\n",
       "      <td>9.0</td>\n",
       "    </tr>\n",
       "    <tr>\n",
       "      <th>P00000342</th>\n",
       "      <td>5</td>\n",
       "      <td>14.0</td>\n",
       "      <td>NaN</td>\n",
       "    </tr>\n",
       "    <tr>\n",
       "      <th>P00000442</th>\n",
       "      <td>5</td>\n",
       "      <td>8.0</td>\n",
       "      <td>NaN</td>\n",
       "    </tr>\n",
       "    <tr>\n",
       "      <th>P00000542</th>\n",
       "      <td>5</td>\n",
       "      <td>NaN</td>\n",
       "      <td>NaN</td>\n",
       "    </tr>\n",
       "    <tr>\n",
       "      <th>P00000642</th>\n",
       "      <td>1</td>\n",
       "      <td>6.0</td>\n",
       "      <td>16.0</td>\n",
       "    </tr>\n",
       "    <tr>\n",
       "      <th>P00000742</th>\n",
       "      <td>5</td>\n",
       "      <td>14.0</td>\n",
       "      <td>NaN</td>\n",
       "    </tr>\n",
       "    <tr>\n",
       "      <th>P00000842</th>\n",
       "      <td>2</td>\n",
       "      <td>4.0</td>\n",
       "      <td>NaN</td>\n",
       "    </tr>\n",
       "    <tr>\n",
       "      <th>P00000942</th>\n",
       "      <td>1</td>\n",
       "      <td>NaN</td>\n",
       "      <td>NaN</td>\n",
       "    </tr>\n",
       "    <tr>\n",
       "      <th>P00001042</th>\n",
       "      <td>1</td>\n",
       "      <td>2.0</td>\n",
       "      <td>16.0</td>\n",
       "    </tr>\n",
       "    <tr>\n",
       "      <th>P00001142</th>\n",
       "      <td>5</td>\n",
       "      <td>8.0</td>\n",
       "      <td>14.0</td>\n",
       "    </tr>\n",
       "    <tr>\n",
       "      <th>P00001242</th>\n",
       "      <td>5</td>\n",
       "      <td>11.0</td>\n",
       "      <td>NaN</td>\n",
       "    </tr>\n",
       "    <tr>\n",
       "      <th>P00001342</th>\n",
       "      <td>3</td>\n",
       "      <td>4.0</td>\n",
       "      <td>NaN</td>\n",
       "    </tr>\n",
       "    <tr>\n",
       "      <th>P00001442</th>\n",
       "      <td>8</td>\n",
       "      <td>NaN</td>\n",
       "      <td>NaN</td>\n",
       "    </tr>\n",
       "    <tr>\n",
       "      <th>P00001542</th>\n",
       "      <td>1</td>\n",
       "      <td>2.0</td>\n",
       "      <td>14.0</td>\n",
       "    </tr>\n",
       "    <tr>\n",
       "      <th>P00001642</th>\n",
       "      <td>8</td>\n",
       "      <td>16.0</td>\n",
       "      <td>NaN</td>\n",
       "    </tr>\n",
       "    <tr>\n",
       "      <th>P00001742</th>\n",
       "      <td>8</td>\n",
       "      <td>14.0</td>\n",
       "      <td>NaN</td>\n",
       "    </tr>\n",
       "    <tr>\n",
       "      <th>P00001842</th>\n",
       "      <td>16</td>\n",
       "      <td>NaN</td>\n",
       "      <td>NaN</td>\n",
       "    </tr>\n",
       "    <tr>\n",
       "      <th>P00001942</th>\n",
       "      <td>5</td>\n",
       "      <td>NaN</td>\n",
       "      <td>NaN</td>\n",
       "    </tr>\n",
       "    <tr>\n",
       "      <th>P00002042</th>\n",
       "      <td>1</td>\n",
       "      <td>NaN</td>\n",
       "      <td>NaN</td>\n",
       "    </tr>\n",
       "  </tbody>\n",
       "</table>\n",
       "</div>"
      ],
      "text/plain": [
       "            Product_Category_1  Product_Category_2  Product_Category_3\n",
       "Product_ID                                                            \n",
       "P00000142                    3                 4.0                 5.0\n",
       "P00000242                    2                 4.0                 9.0\n",
       "P00000342                    5                14.0                 NaN\n",
       "P00000442                    5                 8.0                 NaN\n",
       "P00000542                    5                 NaN                 NaN\n",
       "P00000642                    1                 6.0                16.0\n",
       "P00000742                    5                14.0                 NaN\n",
       "P00000842                    2                 4.0                 NaN\n",
       "P00000942                    1                 NaN                 NaN\n",
       "P00001042                    1                 2.0                16.0\n",
       "P00001142                    5                 8.0                14.0\n",
       "P00001242                    5                11.0                 NaN\n",
       "P00001342                    3                 4.0                 NaN\n",
       "P00001442                    8                 NaN                 NaN\n",
       "P00001542                    1                 2.0                14.0\n",
       "P00001642                    8                16.0                 NaN\n",
       "P00001742                    8                14.0                 NaN\n",
       "P00001842                   16                 NaN                 NaN\n",
       "P00001942                    5                 NaN                 NaN\n",
       "P00002042                    1                 NaN                 NaN"
      ]
     },
     "execution_count": 13,
     "metadata": {},
     "output_type": "execute_result"
    }
   ],
   "source": [
    "# Checking whether Product_ID is related to other Product Category columns\n",
    "dataset.groupby(['Product_ID'])['Product_Category_1','Product_Category_2','Product_Category_3'].mean().head(20)"
   ]
  },
  {
   "cell_type": "markdown",
   "metadata": {},
   "source": [
    "__Observation__: <br>\n",
    "From the above, we can make out that Product_Category2 and Product_Category3 are __not related__ to the Product_ID"
   ]
  },
  {
   "cell_type": "code",
   "execution_count": 14,
   "metadata": {},
   "outputs": [],
   "source": [
    "# Obtaining list of booleans specifying Product_Category_2 and Product_Category_3 missing  values\n",
    "miss_Prod2_rows = dataset['Product_Category_2'].isnull()  \n",
    "miss_Prod3_rows = dataset['Product_Category_3'].isnull()"
   ]
  },
  {
   "cell_type": "code",
   "execution_count": 15,
   "metadata": {},
   "outputs": [],
   "source": [
    "# Impute 0s in place of NaN in columns Product_Category_2 and Product_Category_3\n",
    "dataset.loc[miss_Prod2_rows,'Product_Category_2'] = 0\n",
    "dataset.loc[miss_Prod3_rows,'Product_Category_3'] = 0"
   ]
  },
  {
   "cell_type": "code",
   "execution_count": 16,
   "metadata": {},
   "outputs": [
    {
     "data": {
      "text/html": [
       "<div>\n",
       "<style scoped>\n",
       "    .dataframe tbody tr th:only-of-type {\n",
       "        vertical-align: middle;\n",
       "    }\n",
       "\n",
       "    .dataframe tbody tr th {\n",
       "        vertical-align: top;\n",
       "    }\n",
       "\n",
       "    .dataframe thead th {\n",
       "        text-align: right;\n",
       "    }\n",
       "</style>\n",
       "<table border=\"1\" class=\"dataframe\">\n",
       "  <thead>\n",
       "    <tr style=\"text-align: right;\">\n",
       "      <th></th>\n",
       "      <th>Product_ID</th>\n",
       "      <th>Product_Category_1</th>\n",
       "      <th>Product_Category_2</th>\n",
       "      <th>Product_Category_3</th>\n",
       "    </tr>\n",
       "  </thead>\n",
       "  <tbody>\n",
       "    <tr>\n",
       "      <th>0</th>\n",
       "      <td>P00069042</td>\n",
       "      <td>3</td>\n",
       "      <td>0.0</td>\n",
       "      <td>0.0</td>\n",
       "    </tr>\n",
       "    <tr>\n",
       "      <th>1</th>\n",
       "      <td>P00248942</td>\n",
       "      <td>1</td>\n",
       "      <td>6.0</td>\n",
       "      <td>14.0</td>\n",
       "    </tr>\n",
       "    <tr>\n",
       "      <th>2</th>\n",
       "      <td>P00087842</td>\n",
       "      <td>12</td>\n",
       "      <td>0.0</td>\n",
       "      <td>0.0</td>\n",
       "    </tr>\n",
       "    <tr>\n",
       "      <th>3</th>\n",
       "      <td>P00085442</td>\n",
       "      <td>12</td>\n",
       "      <td>14.0</td>\n",
       "      <td>0.0</td>\n",
       "    </tr>\n",
       "    <tr>\n",
       "      <th>4</th>\n",
       "      <td>P00285442</td>\n",
       "      <td>8</td>\n",
       "      <td>0.0</td>\n",
       "      <td>0.0</td>\n",
       "    </tr>\n",
       "    <tr>\n",
       "      <th>5</th>\n",
       "      <td>P00193542</td>\n",
       "      <td>1</td>\n",
       "      <td>2.0</td>\n",
       "      <td>0.0</td>\n",
       "    </tr>\n",
       "    <tr>\n",
       "      <th>6</th>\n",
       "      <td>P00184942</td>\n",
       "      <td>1</td>\n",
       "      <td>8.0</td>\n",
       "      <td>17.0</td>\n",
       "    </tr>\n",
       "    <tr>\n",
       "      <th>7</th>\n",
       "      <td>P00346142</td>\n",
       "      <td>1</td>\n",
       "      <td>15.0</td>\n",
       "      <td>0.0</td>\n",
       "    </tr>\n",
       "    <tr>\n",
       "      <th>8</th>\n",
       "      <td>P0097242</td>\n",
       "      <td>1</td>\n",
       "      <td>16.0</td>\n",
       "      <td>0.0</td>\n",
       "    </tr>\n",
       "    <tr>\n",
       "      <th>9</th>\n",
       "      <td>P00274942</td>\n",
       "      <td>8</td>\n",
       "      <td>0.0</td>\n",
       "      <td>0.0</td>\n",
       "    </tr>\n",
       "  </tbody>\n",
       "</table>\n",
       "</div>"
      ],
      "text/plain": [
       "  Product_ID  Product_Category_1  Product_Category_2  Product_Category_3\n",
       "0  P00069042                   3                 0.0                 0.0\n",
       "1  P00248942                   1                 6.0                14.0\n",
       "2  P00087842                  12                 0.0                 0.0\n",
       "3  P00085442                  12                14.0                 0.0\n",
       "4  P00285442                   8                 0.0                 0.0\n",
       "5  P00193542                   1                 2.0                 0.0\n",
       "6  P00184942                   1                 8.0                17.0\n",
       "7  P00346142                   1                15.0                 0.0\n",
       "8   P0097242                   1                16.0                 0.0\n",
       "9  P00274942                   8                 0.0                 0.0"
      ]
     },
     "execution_count": 16,
     "metadata": {},
     "output_type": "execute_result"
    }
   ],
   "source": [
    "dataset[['Product_ID','Product_Category_1','Product_Category_2','Product_Category_3']].head(10)"
   ]
  },
  {
   "cell_type": "code",
   "execution_count": 17,
   "metadata": {},
   "outputs": [],
   "source": [
    "# Combining 3 Product category columns into 1 maseter category column\n",
    "dataset['Master_Product_Category']=dataset['Product_Category_1'].astype(str)+dataset['Product_Category_2'].astype(int).astype(str)+dataset['Product_Category_3'].astype(int).astype(str)\n"
   ]
  },
  {
   "cell_type": "code",
   "execution_count": 18,
   "metadata": {},
   "outputs": [
    {
     "data": {
      "text/html": [
       "<div>\n",
       "<style scoped>\n",
       "    .dataframe tbody tr th:only-of-type {\n",
       "        vertical-align: middle;\n",
       "    }\n",
       "\n",
       "    .dataframe tbody tr th {\n",
       "        vertical-align: top;\n",
       "    }\n",
       "\n",
       "    .dataframe thead th {\n",
       "        text-align: right;\n",
       "    }\n",
       "</style>\n",
       "<table border=\"1\" class=\"dataframe\">\n",
       "  <thead>\n",
       "    <tr style=\"text-align: right;\">\n",
       "      <th></th>\n",
       "      <th>Product_ID</th>\n",
       "      <th>Product_Category_1</th>\n",
       "      <th>Product_Category_2</th>\n",
       "      <th>Product_Category_3</th>\n",
       "      <th>Master_Product_Category</th>\n",
       "    </tr>\n",
       "  </thead>\n",
       "  <tbody>\n",
       "    <tr>\n",
       "      <th>0</th>\n",
       "      <td>P00069042</td>\n",
       "      <td>3</td>\n",
       "      <td>0.0</td>\n",
       "      <td>0.0</td>\n",
       "      <td>300</td>\n",
       "    </tr>\n",
       "    <tr>\n",
       "      <th>1</th>\n",
       "      <td>P00248942</td>\n",
       "      <td>1</td>\n",
       "      <td>6.0</td>\n",
       "      <td>14.0</td>\n",
       "      <td>1614</td>\n",
       "    </tr>\n",
       "    <tr>\n",
       "      <th>2</th>\n",
       "      <td>P00087842</td>\n",
       "      <td>12</td>\n",
       "      <td>0.0</td>\n",
       "      <td>0.0</td>\n",
       "      <td>1200</td>\n",
       "    </tr>\n",
       "    <tr>\n",
       "      <th>3</th>\n",
       "      <td>P00085442</td>\n",
       "      <td>12</td>\n",
       "      <td>14.0</td>\n",
       "      <td>0.0</td>\n",
       "      <td>12140</td>\n",
       "    </tr>\n",
       "    <tr>\n",
       "      <th>4</th>\n",
       "      <td>P00285442</td>\n",
       "      <td>8</td>\n",
       "      <td>0.0</td>\n",
       "      <td>0.0</td>\n",
       "      <td>800</td>\n",
       "    </tr>\n",
       "    <tr>\n",
       "      <th>5</th>\n",
       "      <td>P00193542</td>\n",
       "      <td>1</td>\n",
       "      <td>2.0</td>\n",
       "      <td>0.0</td>\n",
       "      <td>120</td>\n",
       "    </tr>\n",
       "    <tr>\n",
       "      <th>6</th>\n",
       "      <td>P00184942</td>\n",
       "      <td>1</td>\n",
       "      <td>8.0</td>\n",
       "      <td>17.0</td>\n",
       "      <td>1817</td>\n",
       "    </tr>\n",
       "    <tr>\n",
       "      <th>7</th>\n",
       "      <td>P00346142</td>\n",
       "      <td>1</td>\n",
       "      <td>15.0</td>\n",
       "      <td>0.0</td>\n",
       "      <td>1150</td>\n",
       "    </tr>\n",
       "    <tr>\n",
       "      <th>8</th>\n",
       "      <td>P0097242</td>\n",
       "      <td>1</td>\n",
       "      <td>16.0</td>\n",
       "      <td>0.0</td>\n",
       "      <td>1160</td>\n",
       "    </tr>\n",
       "    <tr>\n",
       "      <th>9</th>\n",
       "      <td>P00274942</td>\n",
       "      <td>8</td>\n",
       "      <td>0.0</td>\n",
       "      <td>0.0</td>\n",
       "      <td>800</td>\n",
       "    </tr>\n",
       "  </tbody>\n",
       "</table>\n",
       "</div>"
      ],
      "text/plain": [
       "  Product_ID  Product_Category_1  Product_Category_2  Product_Category_3  \\\n",
       "0  P00069042                   3                 0.0                 0.0   \n",
       "1  P00248942                   1                 6.0                14.0   \n",
       "2  P00087842                  12                 0.0                 0.0   \n",
       "3  P00085442                  12                14.0                 0.0   \n",
       "4  P00285442                   8                 0.0                 0.0   \n",
       "5  P00193542                   1                 2.0                 0.0   \n",
       "6  P00184942                   1                 8.0                17.0   \n",
       "7  P00346142                   1                15.0                 0.0   \n",
       "8   P0097242                   1                16.0                 0.0   \n",
       "9  P00274942                   8                 0.0                 0.0   \n",
       "\n",
       "  Master_Product_Category  \n",
       "0                     300  \n",
       "1                    1614  \n",
       "2                    1200  \n",
       "3                   12140  \n",
       "4                     800  \n",
       "5                     120  \n",
       "6                    1817  \n",
       "7                    1150  \n",
       "8                    1160  \n",
       "9                     800  "
      ]
     },
     "execution_count": 18,
     "metadata": {},
     "output_type": "execute_result"
    }
   ],
   "source": [
    "dataset[['Product_ID','Product_Category_1','Product_Category_2','Product_Category_3','Master_Product_Category']].head(10)"
   ]
  },
  {
   "cell_type": "code",
   "execution_count": 19,
   "metadata": {},
   "outputs": [
    {
     "data": {
      "text/plain": [
       "User_ID                            0\n",
       "Product_ID                         0\n",
       "Gender                             0\n",
       "Age                                0\n",
       "Occupation                         0\n",
       "City_Category                      0\n",
       "Stay_In_Current_City_Years         0\n",
       "Marital_Status                     0\n",
       "Product_Category_1                 0\n",
       "Product_Category_2                 0\n",
       "Product_Category_3                 0\n",
       "Purchase                      233599\n",
       "source                             0\n",
       "Master_Product_Category            0\n",
       "dtype: int64"
      ]
     },
     "execution_count": 19,
     "metadata": {},
     "output_type": "execute_result"
    }
   ],
   "source": [
    "dataset.isnull().sum()"
   ]
  },
  {
   "cell_type": "markdown",
   "metadata": {},
   "source": [
    "__Purchase column__ : <br>\n",
    ">There are quire a few missing values in Purchase (dependent varaible) column. <br>\n",
    "It is advisable to impute as many values in the dependent variable column to obtain a good model.<br>\n",
    "Hence it is advisable to find whether there is *correlation between the Product_ID or newly created Master Product Category column* and Purchase column."
   ]
  },
  {
   "cell_type": "code",
   "execution_count": 20,
   "metadata": {},
   "outputs": [],
   "source": [
    "# Check Purchase values from the grouping by the newly created Master_Product_Category column\n",
    "categ_mean = dataset.groupby(['Master_Product_Category'])['Purchase'].mean()"
   ]
  },
  {
   "cell_type": "code",
   "execution_count": 21,
   "metadata": {},
   "outputs": [
    {
     "data": {
      "text/plain": [
       "0"
      ]
     },
     "execution_count": 21,
     "metadata": {},
     "output_type": "execute_result"
    }
   ],
   "source": [
    "categ_mean.isnull().sum()"
   ]
  },
  {
   "cell_type": "code",
   "execution_count": 22,
   "metadata": {},
   "outputs": [],
   "source": [
    "# Check Purchase values from the grouping by the Product_ID column\n",
    "purch_mean_prodID = dataset.groupby(['Product_ID'])['Purchase'].mean()"
   ]
  },
  {
   "cell_type": "code",
   "execution_count": 23,
   "metadata": {},
   "outputs": [
    {
     "data": {
      "text/plain": [
       "46"
      ]
     },
     "execution_count": 23,
     "metadata": {},
     "output_type": "execute_result"
    }
   ],
   "source": [
    "purch_mean_prodID.isnull().sum()"
   ]
  },
  {
   "cell_type": "markdown",
   "metadata": {},
   "source": [
    "As the missing values in Purchase column has corresponding Master category values, <br>\n",
    "incorporating the mean value into the Purchase column based on the Master Category column is advisable."
   ]
  },
  {
   "cell_type": "code",
   "execution_count": 24,
   "metadata": {},
   "outputs": [],
   "source": [
    "# Obtain missing Purchase values\n",
    "miss_Purch_rows = dataset['Purchase'].isnull()"
   ]
  },
  {
   "cell_type": "code",
   "execution_count": 25,
   "metadata": {},
   "outputs": [],
   "source": [
    "# Impute mean Purchase value based on Master_Product_Category column\n",
    "dataset.loc[miss_Purch_rows,'Purchase'] = dataset.loc[miss_Purch_rows,'Master_Product_Category'].apply(lambda x: categ_mean.loc[x])"
   ]
  },
  {
   "cell_type": "code",
   "execution_count": 26,
   "metadata": {},
   "outputs": [
    {
     "name": "stdout",
     "output_type": "stream",
     "text": [
      "Null values in Purchase column before imputation :  233599\n",
      "Results after imputation :  0\n"
     ]
    }
   ],
   "source": [
    "print ('Null values in Purchase column before imputation : ' , miss_Purch_rows.sum())\n",
    "print ('Results after imputation : ', dataset['Purchase'].isnull().sum())"
   ]
  },
  {
   "cell_type": "code",
   "execution_count": 27,
   "metadata": {},
   "outputs": [
    {
     "data": {
      "text/plain": [
       "User_ID                       0\n",
       "Product_ID                    0\n",
       "Gender                        0\n",
       "Age                           0\n",
       "Occupation                    0\n",
       "City_Category                 0\n",
       "Stay_In_Current_City_Years    0\n",
       "Marital_Status                0\n",
       "Product_Category_1            0\n",
       "Product_Category_2            0\n",
       "Product_Category_3            0\n",
       "Purchase                      0\n",
       "source                        0\n",
       "Master_Product_Category       0\n",
       "dtype: int64"
      ]
     },
     "execution_count": 27,
     "metadata": {},
     "output_type": "execute_result"
    }
   ],
   "source": [
    "dataset.isnull().sum()"
   ]
  },
  {
   "cell_type": "code",
   "execution_count": 28,
   "metadata": {},
   "outputs": [
    {
     "data": {
      "text/plain": [
       "['User_ID',\n",
       " 'Product_ID',\n",
       " 'Gender',\n",
       " 'Age',\n",
       " 'Occupation',\n",
       " 'City_Category',\n",
       " 'Stay_In_Current_City_Years',\n",
       " 'Marital_Status',\n",
       " 'Product_Category_1',\n",
       " 'Product_Category_2',\n",
       " 'Product_Category_3',\n",
       " 'Purchase',\n",
       " 'source',\n",
       " 'Master_Product_Category']"
      ]
     },
     "execution_count": 28,
     "metadata": {},
     "output_type": "execute_result"
    }
   ],
   "source": [
    "list(dataset.columns.values)"
   ]
  },
  {
   "cell_type": "code",
   "execution_count": 29,
   "metadata": {},
   "outputs": [],
   "source": [
    "# Rearranging the columns\n",
    "dataset = dataset[['User_ID','Product_ID', 'Gender','Age','Occupation', 'City_Category','Stay_In_Current_City_Years',\n",
    "                   'Marital_Status',  'Master_Product_Category', 'Purchase', 'source']]"
   ]
  },
  {
   "cell_type": "code",
   "execution_count": 30,
   "metadata": {},
   "outputs": [
    {
     "data": {
      "text/plain": [
       "['User_ID',\n",
       " 'Product_ID',\n",
       " 'Gender',\n",
       " 'Age',\n",
       " 'Occupation',\n",
       " 'City_Category',\n",
       " 'Stay_In_Current_City_Years',\n",
       " 'Marital_Status',\n",
       " 'Master_Product_Category',\n",
       " 'Purchase',\n",
       " 'source']"
      ]
     },
     "execution_count": 30,
     "metadata": {},
     "output_type": "execute_result"
    }
   ],
   "source": [
    "list(dataset.columns.values)"
   ]
  },
  {
   "cell_type": "code",
   "execution_count": 31,
   "metadata": {},
   "outputs": [
    {
     "data": {
      "text/html": [
       "<div>\n",
       "<style scoped>\n",
       "    .dataframe tbody tr th:only-of-type {\n",
       "        vertical-align: middle;\n",
       "    }\n",
       "\n",
       "    .dataframe tbody tr th {\n",
       "        vertical-align: top;\n",
       "    }\n",
       "\n",
       "    .dataframe thead th {\n",
       "        text-align: right;\n",
       "    }\n",
       "</style>\n",
       "<table border=\"1\" class=\"dataframe\">\n",
       "  <thead>\n",
       "    <tr style=\"text-align: right;\">\n",
       "      <th></th>\n",
       "      <th>User_ID</th>\n",
       "      <th>Product_ID</th>\n",
       "      <th>Gender</th>\n",
       "      <th>Age</th>\n",
       "      <th>Occupation</th>\n",
       "      <th>City_Category</th>\n",
       "      <th>Stay_In_Current_City_Years</th>\n",
       "      <th>Marital_Status</th>\n",
       "      <th>Master_Product_Category</th>\n",
       "      <th>Purchase</th>\n",
       "      <th>source</th>\n",
       "    </tr>\n",
       "  </thead>\n",
       "  <tbody>\n",
       "    <tr>\n",
       "      <th>0</th>\n",
       "      <td>1000001</td>\n",
       "      <td>P00069042</td>\n",
       "      <td>F</td>\n",
       "      <td>0-17</td>\n",
       "      <td>10</td>\n",
       "      <td>A</td>\n",
       "      <td>2</td>\n",
       "      <td>0</td>\n",
       "      <td>300</td>\n",
       "      <td>8370.0</td>\n",
       "      <td>train</td>\n",
       "    </tr>\n",
       "    <tr>\n",
       "      <th>1</th>\n",
       "      <td>1000001</td>\n",
       "      <td>P00248942</td>\n",
       "      <td>F</td>\n",
       "      <td>0-17</td>\n",
       "      <td>10</td>\n",
       "      <td>A</td>\n",
       "      <td>2</td>\n",
       "      <td>0</td>\n",
       "      <td>1614</td>\n",
       "      <td>15200.0</td>\n",
       "      <td>train</td>\n",
       "    </tr>\n",
       "    <tr>\n",
       "      <th>2</th>\n",
       "      <td>1000001</td>\n",
       "      <td>P00087842</td>\n",
       "      <td>F</td>\n",
       "      <td>0-17</td>\n",
       "      <td>10</td>\n",
       "      <td>A</td>\n",
       "      <td>2</td>\n",
       "      <td>0</td>\n",
       "      <td>1200</td>\n",
       "      <td>1422.0</td>\n",
       "      <td>train</td>\n",
       "    </tr>\n",
       "    <tr>\n",
       "      <th>3</th>\n",
       "      <td>1000001</td>\n",
       "      <td>P00085442</td>\n",
       "      <td>F</td>\n",
       "      <td>0-17</td>\n",
       "      <td>10</td>\n",
       "      <td>A</td>\n",
       "      <td>2</td>\n",
       "      <td>0</td>\n",
       "      <td>12140</td>\n",
       "      <td>1057.0</td>\n",
       "      <td>train</td>\n",
       "    </tr>\n",
       "    <tr>\n",
       "      <th>4</th>\n",
       "      <td>1000002</td>\n",
       "      <td>P00285442</td>\n",
       "      <td>M</td>\n",
       "      <td>55+</td>\n",
       "      <td>16</td>\n",
       "      <td>C</td>\n",
       "      <td>4+</td>\n",
       "      <td>0</td>\n",
       "      <td>800</td>\n",
       "      <td>7969.0</td>\n",
       "      <td>train</td>\n",
       "    </tr>\n",
       "    <tr>\n",
       "      <th>5</th>\n",
       "      <td>1000003</td>\n",
       "      <td>P00193542</td>\n",
       "      <td>M</td>\n",
       "      <td>26-35</td>\n",
       "      <td>15</td>\n",
       "      <td>A</td>\n",
       "      <td>3</td>\n",
       "      <td>0</td>\n",
       "      <td>120</td>\n",
       "      <td>15227.0</td>\n",
       "      <td>train</td>\n",
       "    </tr>\n",
       "    <tr>\n",
       "      <th>6</th>\n",
       "      <td>1000004</td>\n",
       "      <td>P00184942</td>\n",
       "      <td>M</td>\n",
       "      <td>46-50</td>\n",
       "      <td>7</td>\n",
       "      <td>B</td>\n",
       "      <td>2</td>\n",
       "      <td>1</td>\n",
       "      <td>1817</td>\n",
       "      <td>19215.0</td>\n",
       "      <td>train</td>\n",
       "    </tr>\n",
       "    <tr>\n",
       "      <th>7</th>\n",
       "      <td>1000004</td>\n",
       "      <td>P00346142</td>\n",
       "      <td>M</td>\n",
       "      <td>46-50</td>\n",
       "      <td>7</td>\n",
       "      <td>B</td>\n",
       "      <td>2</td>\n",
       "      <td>1</td>\n",
       "      <td>1150</td>\n",
       "      <td>15854.0</td>\n",
       "      <td>train</td>\n",
       "    </tr>\n",
       "    <tr>\n",
       "      <th>8</th>\n",
       "      <td>1000004</td>\n",
       "      <td>P0097242</td>\n",
       "      <td>M</td>\n",
       "      <td>46-50</td>\n",
       "      <td>7</td>\n",
       "      <td>B</td>\n",
       "      <td>2</td>\n",
       "      <td>1</td>\n",
       "      <td>1160</td>\n",
       "      <td>15686.0</td>\n",
       "      <td>train</td>\n",
       "    </tr>\n",
       "    <tr>\n",
       "      <th>9</th>\n",
       "      <td>1000005</td>\n",
       "      <td>P00274942</td>\n",
       "      <td>M</td>\n",
       "      <td>26-35</td>\n",
       "      <td>20</td>\n",
       "      <td>A</td>\n",
       "      <td>1</td>\n",
       "      <td>1</td>\n",
       "      <td>800</td>\n",
       "      <td>7871.0</td>\n",
       "      <td>train</td>\n",
       "    </tr>\n",
       "  </tbody>\n",
       "</table>\n",
       "</div>"
      ],
      "text/plain": [
       "   User_ID Product_ID Gender    Age  Occupation City_Category  \\\n",
       "0  1000001  P00069042      F   0-17          10             A   \n",
       "1  1000001  P00248942      F   0-17          10             A   \n",
       "2  1000001  P00087842      F   0-17          10             A   \n",
       "3  1000001  P00085442      F   0-17          10             A   \n",
       "4  1000002  P00285442      M    55+          16             C   \n",
       "5  1000003  P00193542      M  26-35          15             A   \n",
       "6  1000004  P00184942      M  46-50           7             B   \n",
       "7  1000004  P00346142      M  46-50           7             B   \n",
       "8  1000004   P0097242      M  46-50           7             B   \n",
       "9  1000005  P00274942      M  26-35          20             A   \n",
       "\n",
       "  Stay_In_Current_City_Years  Marital_Status Master_Product_Category  \\\n",
       "0                          2               0                     300   \n",
       "1                          2               0                    1614   \n",
       "2                          2               0                    1200   \n",
       "3                          2               0                   12140   \n",
       "4                         4+               0                     800   \n",
       "5                          3               0                     120   \n",
       "6                          2               1                    1817   \n",
       "7                          2               1                    1150   \n",
       "8                          2               1                    1160   \n",
       "9                          1               1                     800   \n",
       "\n",
       "   Purchase source  \n",
       "0    8370.0  train  \n",
       "1   15200.0  train  \n",
       "2    1422.0  train  \n",
       "3    1057.0  train  \n",
       "4    7969.0  train  \n",
       "5   15227.0  train  \n",
       "6   19215.0  train  \n",
       "7   15854.0  train  \n",
       "8   15686.0  train  \n",
       "9    7871.0  train  "
      ]
     },
     "execution_count": 31,
     "metadata": {},
     "output_type": "execute_result"
    }
   ],
   "source": [
    "dataset.head(10)"
   ]
  },
  {
   "cell_type": "code",
   "execution_count": 32,
   "metadata": {},
   "outputs": [
    {
     "data": {
      "text/plain": [
       "User_ID                         int64\n",
       "Product_ID                     object\n",
       "Gender                         object\n",
       "Age                            object\n",
       "Occupation                      int64\n",
       "City_Category                  object\n",
       "Stay_In_Current_City_Years     object\n",
       "Marital_Status                  int64\n",
       "Master_Product_Category        object\n",
       "Purchase                      float64\n",
       "source                         object\n",
       "dtype: object"
      ]
     },
     "execution_count": 32,
     "metadata": {},
     "output_type": "execute_result"
    }
   ],
   "source": [
    "dataset.dtypes"
   ]
  },
  {
   "cell_type": "code",
   "execution_count": 33,
   "metadata": {},
   "outputs": [],
   "source": [
    "# Converting Master_Product_Category datatype object to integer\n",
    "dataset['Master_Product_Category'] = dataset['Master_Product_Category'].astype(str).astype(int)"
   ]
  },
  {
   "cell_type": "code",
   "execution_count": 34,
   "metadata": {},
   "outputs": [
    {
     "data": {
      "text/plain": [
       "array(['F', 'M'], dtype=object)"
      ]
     },
     "execution_count": 34,
     "metadata": {},
     "output_type": "execute_result"
    }
   ],
   "source": [
    "dataset.Gender.unique()"
   ]
  },
  {
   "cell_type": "code",
   "execution_count": 35,
   "metadata": {},
   "outputs": [],
   "source": [
    "#Rename Gender to more intuitive categories:\n",
    "dataset['Gender'] = dataset['Gender'].map({'F':'Female','M':'Male'})"
   ]
  },
  {
   "cell_type": "code",
   "execution_count": 36,
   "metadata": {},
   "outputs": [
    {
     "data": {
      "text/plain": [
       "array([0, 1], dtype=int64)"
      ]
     },
     "execution_count": 36,
     "metadata": {},
     "output_type": "execute_result"
    }
   ],
   "source": [
    "dataset.Marital_Status.unique()"
   ]
  },
  {
   "cell_type": "code",
   "execution_count": 37,
   "metadata": {},
   "outputs": [],
   "source": [
    "#Rename them to more intuitive categories:\n",
    "dataset['Marital_Status'] = dataset['Marital_Status'].map({0:'Un-Married', 1:'Married'})"
   ]
  },
  {
   "cell_type": "code",
   "execution_count": 38,
   "metadata": {},
   "outputs": [
    {
     "name": "stdout",
     "output_type": "stream",
     "text": [
      "Age :\n",
      "['0-17', '18-25', '26-35', '36-45', '46-50', '51-55', '55+']\n",
      "\n",
      "City_Category :\n",
      "['A', 'B', 'C']\n",
      "\n",
      "Stay_In_Current_City_Years :\n",
      "['0', '1', '2', '3', '4+']\n",
      "\n"
     ]
    }
   ],
   "source": [
    "# Re-look at the unique values of other 'demographical' columns pertaining to the customer\n",
    "print('Age :' ,sorted(dataset.Age.unique()), sep='\\n')\n",
    "print(sep='\\n\\n')\n",
    "print('City_Category :', sorted(dataset.City_Category.unique()), sep='\\n')\n",
    "print(sep='\\n\\n')\n",
    "print('Stay_In_Current_City_Years :', sorted(dataset.Stay_In_Current_City_Years.unique()), sep='\\n')\n",
    "print(sep='\\n\\n')"
   ]
  },
  {
   "cell_type": "code",
   "execution_count": 39,
   "metadata": {},
   "outputs": [],
   "source": [
    "# Replacing '4+' years of with numerical number 4 \n",
    "dataset['Stay_In_Current_City_Years'] = dataset['Stay_In_Current_City_Years'].replace('4+', 4)"
   ]
  },
  {
   "cell_type": "code",
   "execution_count": 40,
   "metadata": {},
   "outputs": [],
   "source": [
    "# Converting Stay_In_Current_City_Years data type to integer\n",
    "dataset['Stay_In_Current_City_Years'] = dataset['Stay_In_Current_City_Years'].astype(str).astype(int)"
   ]
  },
  {
   "cell_type": "code",
   "execution_count": 41,
   "metadata": {},
   "outputs": [
    {
     "name": "stdout",
     "output_type": "stream",
     "text": [
      "Occupation : [0, 1, 2, 3, 4, 5, 6, 7, 8, 9, 10, 11, 12, 13, 14, 15, 16, 17, 18, 19, 20]\n"
     ]
    }
   ],
   "source": [
    "print('Occupation :', sorted(dataset.Occupation.unique()))"
   ]
  },
  {
   "cell_type": "markdown",
   "metadata": {},
   "source": [
    "__Point to ponder__:\n",
    "\n",
    "We can observe that there are __(21) categories__ of Occupation of customers. <br>\n",
    "Based on the country that the data has been taken, there might be standard coding system for categorising occupation, which is been indicated in the dataset.\n",
    "\n",
    "However, based on International Standard Classification of Occupations, there are (10) main categories\n",
    "1. Managers\n",
    "2. Professional\n",
    "3. Technicians and associate professionals\n",
    "4. Clerical support workers\n",
    "5. Service and sales workers\n",
    "6. Skilled agricultural, forestry and fishery workers\n",
    "7. Craft and related trades workers\n",
    "8. Plant and machine operators, and assemblers\n",
    "9. Elementary occupations\n",
    "10. Armed forces occupations\n",
    "\n",
    "(Source : Wikipedia)"
   ]
  },
  {
   "cell_type": "markdown",
   "metadata": {},
   "source": [
    "### 3. Visualization"
   ]
  },
  {
   "cell_type": "markdown",
   "metadata": {},
   "source": [
    "Visualization of categorical variables  - __BY COUNT__"
   ]
  },
  {
   "cell_type": "code",
   "execution_count": 42,
   "metadata": {},
   "outputs": [
    {
     "data": {
      "image/png": "[encoded data removed]",
      "text/plain": [
       "<Figure size 1080x720 with 4 Axes>"
      ]
     },
     "metadata": {
      "needs_background": "light"
     },
     "output_type": "display_data"
    }
   ],
   "source": [
    "plt.figure(figsize=(15,10))\n",
    "\n",
    "# Pie chart for gender distribution\n",
    "plt.subplot(2,2,1)\n",
    "gender_count = [dataset.Gender[dataset['Gender']=='Female'].count(),\n",
    "                dataset.Gender[dataset['Gender']=='Male'].count()]\n",
    "gender_lab = dataset.Gender.unique()\n",
    "expl = (0.1,0)\n",
    "plt.pie(gender_count, labels=gender_lab, explode=expl, shadow=True , autopct='%1.1f%%');\n",
    "\n",
    "# Bar chart for Age\n",
    "plt.subplot(2,2,2)\n",
    "ordr =dataset.groupby([\"Age\"]).count().sort_values(by='Purchase',ascending=False).index\n",
    "sns.countplot(dataset['Age'], label=True, order=ordr)\n",
    "\n",
    "# Bar chart for Occupation\n",
    "plt.subplot(2,2,3)\n",
    "ordr1 =dataset.groupby([\"Occupation\"]).count().sort_values(by='Purchase',ascending=False).index\n",
    "sns.countplot(y=dataset['Occupation'], label=True, order=ordr1)\n",
    "\n",
    "# Donut chart for City Category\n",
    "plt.subplot(2,2,4)\n",
    "city_group = dataset.groupby([\"City_Category\"])\n",
    "city_count = city_group[['Purchase']].count().values.tolist()\n",
    "city_lab = dataset.groupby([\"City_Category\"]).count().index.values\n",
    "my_circle = plt.Circle( (0,0), 0.4, color='white')\n",
    "expl1 = (0,0.1,0)\n",
    "plt.pie(city_count, labels=city_lab,explode=expl1, shadow=True, autopct='%1.1f%%')\n",
    "plt.gcf().gca().add_artist(my_circle)\n",
    "\n",
    "\n",
    "plt.show()"
   ]
  },
  {
   "cell_type": "code",
   "execution_count": 43,
   "metadata": {},
   "outputs": [
    {
     "data": {
      "image/png": "[encoded data removed]",
      "text/plain": [
       "<Figure size 1008x648 with 2 Axes>"
      ]
     },
     "metadata": {
      "needs_background": "light"
     },
     "output_type": "display_data"
    }
   ],
   "source": [
    "plt.figure(figsize=(14,9))\n",
    "\n",
    "plt.subplot(1,2,1)\n",
    "ordr2 =dataset.groupby([\"Stay_In_Current_City_Years\"]).count().sort_values(by='Purchase',ascending=False).index\n",
    "sns.countplot(dataset['Stay_In_Current_City_Years'], label=True, order=ordr2)\n",
    "\n",
    "plt.subplot(1,2,2)\n",
    "ms_count = [dataset.Marital_Status[dataset['Marital_Status']=='Un-Married'].count(),\n",
    "                dataset.Marital_Status[dataset['Marital_Status']=='Married'].count()]\n",
    "ms_lab = dataset.Marital_Status.unique()\n",
    "expl = (0.1,0)\n",
    "plt.pie(ms_count, labels=ms_lab, explode=expl, shadow=True , autopct='%1.1f%%');\n",
    "\n",
    "plt.show()"
   ]
  },
  {
   "cell_type": "markdown",
   "metadata": {},
   "source": [
    "More Insight from Gender and Age"
   ]
  },
  {
   "cell_type": "code",
   "execution_count": 44,
   "metadata": {},
   "outputs": [],
   "source": [
    "#Creating new column in the dataset \n",
    "dataset['Gender_MaritalStatus'] = dataset.apply(lambda x:'%s_%s' % (x['Gender'],x['Marital_Status']),axis=1)"
   ]
  },
  {
   "cell_type": "code",
   "execution_count": 45,
   "metadata": {},
   "outputs": [
    {
     "data": {
      "text/plain": [
       "array(['Female_Un-Married', 'Male_Un-Married', 'Male_Married',\n",
       "       'Female_Married'], dtype=object)"
      ]
     },
     "execution_count": 45,
     "metadata": {},
     "output_type": "execute_result"
    }
   ],
   "source": [
    "dataset.Gender_MaritalStatus.unique()"
   ]
  },
  {
   "cell_type": "code",
   "execution_count": 46,
   "metadata": {},
   "outputs": [
    {
     "data": {
      "image/png": "[encoded data removed]",
      "text/plain": [
       "<Figure size 1080x720 with 2 Axes>"
      ]
     },
     "metadata": {
      "needs_background": "light"
     },
     "output_type": "display_data"
    }
   ],
   "source": [
    "plt.figure(figsize=(15,10))\n",
    "\n",
    "plt.subplot(1,2,1)\n",
    "group_g_ms = dataset.groupby([\"Gender_MaritalStatus\"])\n",
    "count_ms = group_g_ms[['Purchase']].count().values.tolist()\n",
    "lab1 = dataset.groupby([\"Gender_MaritalStatus\"]).count().index.values\n",
    "expl2 = (0,0,0.1,0.1)\n",
    "\n",
    "plt.pie(count_ms, labels=lab1,explode=expl2, shadow=True, autopct='%1.1f%%')\n",
    "\n",
    "plt.subplot(1,2,2)\n",
    "sns.countplot(dataset['Age'],hue=dataset['Gender_MaritalStatus'])\n",
    "\n",
    "plt.show()"
   ]
  },
  {
   "cell_type": "markdown",
   "metadata": {},
   "source": [
    "__Observations__ : \n",
    "1. __Un-married males__ between the age group of __26-35__ are major customers of the store.\n",
    "2. Majority customers are from the __City category B (42%) and C (31%)__\n",
    "4. Customers with __Occupation__ code __4 (13%), 0 (12.7%) and 7(10.8%)__ are more compared to others\n",
    "5. It can be observed that, as customers __who are new__ in the the current city, tend to purchase more from the store."
   ]
  },
  {
   "cell_type": "markdown",
   "metadata": {},
   "source": [
    "Visualization of categorical variables  - __BY AVERAGE PURCHASE__"
   ]
  },
  {
   "cell_type": "code",
   "execution_count": 47,
   "metadata": {},
   "outputs": [
    {
     "name": "stderr",
     "output_type": "stream",
     "text": [
      "c:\\users\\nags\\appdata\\local\\programs\\python\\python37\\lib\\site-packages\\scipy\\stats\\stats.py:1713: FutureWarning: Using a non-tuple sequence for multidimensional indexing is deprecated; use `arr[tuple(seq)]` instead of `arr[seq]`. In the future this will be interpreted as an array index, `arr[np.array(seq)]`, which will result either in an error or a different result.\n",
      "  return np.add.reduce(sorted[indexer] * weights, axis=axis) / sumval\n"
     ]
    },
    {
     "data": {
      "text/plain": [
       "<Figure size 576x432 with 0 Axes>"
      ]
     },
     "metadata": {},
     "output_type": "display_data"
    },
    {
     "data": {
      "image/png": "[encoded data removed]",
      "text/plain": [
       "<Figure size 360x360 with 1 Axes>"
      ]
     },
     "metadata": {
      "needs_background": "light"
     },
     "output_type": "display_data"
    },
    {
     "data": {
      "image/png": "[encoded data removed]",
      "text/plain": [
       "<Figure size 360x360 with 1 Axes>"
      ]
     },
     "metadata": {
      "needs_background": "light"
     },
     "output_type": "display_data"
    }
   ],
   "source": [
    "plt.figure(figsize=(8,6))\n",
    "\n",
    "\n",
    "sns.catplot(x='Gender', y='Purchase', data=dataset, kind='boxen')\n",
    "\n",
    "ordr_age =dataset.groupby([\"Age\"]).mean().sort_values(by='Purchase',ascending=False).index\n",
    "sns.catplot(x='Age', y='Purchase', order=ordr_age, data=dataset, kind='bar')\n",
    "\n",
    "plt.show()"
   ]
  },
  {
   "cell_type": "code",
   "execution_count": 48,
   "metadata": {},
   "outputs": [
    {
     "data": {
      "text/plain": [
       "<Figure size 576x432 with 0 Axes>"
      ]
     },
     "metadata": {},
     "output_type": "display_data"
    },
    {
     "data": {
      "image/png": "[encoded data removed]",
      "text/plain": [
       "<Figure size 360x360 with 1 Axes>"
      ]
     },
     "metadata": {
      "needs_background": "light"
     },
     "output_type": "display_data"
    },
    {
     "data": {
      "image/png": "[encoded data removed]",
      "text/plain": [
       "<Figure size 360x360 with 1 Axes>"
      ]
     },
     "metadata": {
      "needs_background": "light"
     },
     "output_type": "display_data"
    }
   ],
   "source": [
    "plt.figure(figsize=(8,6))\n",
    "\n",
    "sns.catplot(x='City_Category', y='Purchase', data=dataset, kind='boxen')\n",
    "\n",
    "ordr_occ =dataset.groupby([\"Occupation\"]).mean().sort_values(by='Purchase',ascending=False).index\n",
    "sns.catplot(x='Occupation', y='Purchase', order=ordr_occ, data=dataset, kind='bar')\n",
    "\n",
    "plt.show()"
   ]
  },
  {
   "cell_type": "markdown",
   "metadata": {},
   "source": [
    "__Observations__ : \n",
    "1. __Males__ spend more than females\n",
    "2. Age factor : Customers who are __above 35 years__ of age spend more. \n",
    "3. __Occupation codes 17, 12 and 15__ appears to be earning more and accordingly spend more \n",
    "4. People living in __Category C__ city appears to spend more on items in the store \n"
   ]
  },
  {
   "cell_type": "markdown",
   "metadata": {},
   "source": [
    " __Encoding categorical variable for - Correlation Visualation__\n"
   ]
  },
  {
   "cell_type": "code",
   "execution_count": 49,
   "metadata": {},
   "outputs": [],
   "source": [
    "# Feature Encoding categorical columns to visualize correlation of parameters with Purchase column\n",
    "# Importing required package\n",
    "from sklearn.preprocessing import LabelEncoder\n",
    "encode_x = LabelEncoder()"
   ]
  },
  {
   "cell_type": "code",
   "execution_count": 50,
   "metadata": {},
   "outputs": [],
   "source": [
    "# Creating copy of the dataset for this activity\n",
    "dataset_cat = dataset.copy()"
   ]
  },
  {
   "cell_type": "code",
   "execution_count": 51,
   "metadata": {},
   "outputs": [
    {
     "data": {
      "text/plain": [
       "User_ID                         int64\n",
       "Product_ID                     object\n",
       "Gender                         object\n",
       "Age                            object\n",
       "Occupation                      int64\n",
       "City_Category                  object\n",
       "Stay_In_Current_City_Years      int32\n",
       "Marital_Status                 object\n",
       "Master_Product_Category         int32\n",
       "Purchase                      float64\n",
       "source                         object\n",
       "Gender_MaritalStatus           object\n",
       "dtype: object"
      ]
     },
     "execution_count": 51,
     "metadata": {},
     "output_type": "execute_result"
    }
   ],
   "source": [
    "dataset_cat.dtypes"
   ]
  },
  {
   "cell_type": "code",
   "execution_count": 52,
   "metadata": {},
   "outputs": [],
   "source": [
    "# Encoding categorical columns \n",
    "dataset_cat['Product_ID'] = encode_x.fit_transform(dataset_cat['Product_ID'])\n",
    "dataset_cat['Gender'] = encode_x.fit_transform(dataset_cat['Gender'])\n",
    "dataset_cat['Age'] = encode_x.fit_transform(dataset_cat['Age'])\n",
    "dataset_cat['City_Category'] = encode_x.fit_transform(dataset_cat['City_Category'])\n",
    "dataset_cat['Marital_Status'] = encode_x.fit_transform(dataset_cat['Marital_Status'])"
   ]
  },
  {
   "cell_type": "code",
   "execution_count": 53,
   "metadata": {},
   "outputs": [
    {
     "data": {
      "text/html": [
       "<div>\n",
       "<style scoped>\n",
       "    .dataframe tbody tr th:only-of-type {\n",
       "        vertical-align: middle;\n",
       "    }\n",
       "\n",
       "    .dataframe tbody tr th {\n",
       "        vertical-align: top;\n",
       "    }\n",
       "\n",
       "    .dataframe thead th {\n",
       "        text-align: right;\n",
       "    }\n",
       "</style>\n",
       "<table border=\"1\" class=\"dataframe\">\n",
       "  <thead>\n",
       "    <tr style=\"text-align: right;\">\n",
       "      <th></th>\n",
       "      <th>User_ID</th>\n",
       "      <th>Product_ID</th>\n",
       "      <th>Gender</th>\n",
       "      <th>Age</th>\n",
       "      <th>Occupation</th>\n",
       "      <th>City_Category</th>\n",
       "      <th>Stay_In_Current_City_Years</th>\n",
       "      <th>Marital_Status</th>\n",
       "      <th>Master_Product_Category</th>\n",
       "      <th>Purchase</th>\n",
       "      <th>source</th>\n",
       "      <th>Gender_MaritalStatus</th>\n",
       "    </tr>\n",
       "  </thead>\n",
       "  <tbody>\n",
       "    <tr>\n",
       "      <th>0</th>\n",
       "      <td>1000001</td>\n",
       "      <td>684</td>\n",
       "      <td>0</td>\n",
       "      <td>0</td>\n",
       "      <td>10</td>\n",
       "      <td>0</td>\n",
       "      <td>2</td>\n",
       "      <td>1</td>\n",
       "      <td>300</td>\n",
       "      <td>8370.0</td>\n",
       "      <td>train</td>\n",
       "      <td>Female_Un-Married</td>\n",
       "    </tr>\n",
       "    <tr>\n",
       "      <th>1</th>\n",
       "      <td>1000001</td>\n",
       "      <td>2406</td>\n",
       "      <td>0</td>\n",
       "      <td>0</td>\n",
       "      <td>10</td>\n",
       "      <td>0</td>\n",
       "      <td>2</td>\n",
       "      <td>1</td>\n",
       "      <td>1614</td>\n",
       "      <td>15200.0</td>\n",
       "      <td>train</td>\n",
       "      <td>Female_Un-Married</td>\n",
       "    </tr>\n",
       "    <tr>\n",
       "      <th>2</th>\n",
       "      <td>1000001</td>\n",
       "      <td>868</td>\n",
       "      <td>0</td>\n",
       "      <td>0</td>\n",
       "      <td>10</td>\n",
       "      <td>0</td>\n",
       "      <td>2</td>\n",
       "      <td>1</td>\n",
       "      <td>1200</td>\n",
       "      <td>1422.0</td>\n",
       "      <td>train</td>\n",
       "      <td>Female_Un-Married</td>\n",
       "    </tr>\n",
       "    <tr>\n",
       "      <th>3</th>\n",
       "      <td>1000001</td>\n",
       "      <td>844</td>\n",
       "      <td>0</td>\n",
       "      <td>0</td>\n",
       "      <td>10</td>\n",
       "      <td>0</td>\n",
       "      <td>2</td>\n",
       "      <td>1</td>\n",
       "      <td>12140</td>\n",
       "      <td>1057.0</td>\n",
       "      <td>train</td>\n",
       "      <td>Female_Un-Married</td>\n",
       "    </tr>\n",
       "    <tr>\n",
       "      <th>4</th>\n",
       "      <td>1000002</td>\n",
       "      <td>2769</td>\n",
       "      <td>1</td>\n",
       "      <td>6</td>\n",
       "      <td>16</td>\n",
       "      <td>2</td>\n",
       "      <td>4</td>\n",
       "      <td>1</td>\n",
       "      <td>800</td>\n",
       "      <td>7969.0</td>\n",
       "      <td>train</td>\n",
       "      <td>Male_Un-Married</td>\n",
       "    </tr>\n",
       "  </tbody>\n",
       "</table>\n",
       "</div>"
      ],
      "text/plain": [
       "   User_ID  Product_ID  Gender  Age  Occupation  City_Category  \\\n",
       "0  1000001         684       0    0          10              0   \n",
       "1  1000001        2406       0    0          10              0   \n",
       "2  1000001         868       0    0          10              0   \n",
       "3  1000001         844       0    0          10              0   \n",
       "4  1000002        2769       1    6          16              2   \n",
       "\n",
       "   Stay_In_Current_City_Years  Marital_Status  Master_Product_Category  \\\n",
       "0                           2               1                      300   \n",
       "1                           2               1                     1614   \n",
       "2                           2               1                     1200   \n",
       "3                           2               1                    12140   \n",
       "4                           4               1                      800   \n",
       "\n",
       "   Purchase source Gender_MaritalStatus  \n",
       "0    8370.0  train    Female_Un-Married  \n",
       "1   15200.0  train    Female_Un-Married  \n",
       "2    1422.0  train    Female_Un-Married  \n",
       "3    1057.0  train    Female_Un-Married  \n",
       "4    7969.0  train      Male_Un-Married  "
      ]
     },
     "execution_count": 53,
     "metadata": {},
     "output_type": "execute_result"
    }
   ],
   "source": [
    "dataset_cat.head()"
   ]
  },
  {
   "cell_type": "code",
   "execution_count": 54,
   "metadata": {},
   "outputs": [
    {
     "data": {
      "text/plain": [
       "Purchase                      1.000000\n",
       "Gender                        0.065329\n",
       "City_Category                 0.054228\n",
       "Occupation                    0.019605\n",
       "Age                           0.011601\n",
       "User_ID                       0.004241\n",
       "Stay_In_Current_City_Years    0.004167\n",
       "Marital_Status                0.001421\n",
       "Master_Product_Category      -0.048005\n",
       "Product_ID                   -0.103676\n",
       "Name: Purchase, dtype: float64"
      ]
     },
     "execution_count": 54,
     "metadata": {},
     "output_type": "execute_result"
    }
   ],
   "source": [
    "dataset_cat[dataset_cat.columns[0:]].corr()['Purchase'].sort_values(ascending=False)"
   ]
  },
  {
   "cell_type": "code",
   "execution_count": 55,
   "metadata": {},
   "outputs": [],
   "source": [
    "corrmat = dataset_cat.corr()"
   ]
  },
  {
   "cell_type": "code",
   "execution_count": 56,
   "metadata": {},
   "outputs": [
    {
     "data": {
      "image/png": "[encoded data removed]",
      "text/plain": [
       "<Figure size 864x648 with 2 Axes>"
      ]
     },
     "metadata": {
      "needs_background": "light"
     },
     "output_type": "display_data"
    }
   ],
   "source": [
    "f, ax = plt.subplots(figsize=(12, 9))\n",
    "sns.heatmap(corrmat, vmax=1, cmap=\"YlGnBu\", square=True,linewidths=.5, annot=True)\n",
    "plt.show()"
   ]
  },
  {
   "cell_type": "code",
   "execution_count": 57,
   "metadata": {},
   "outputs": [
    {
     "data": {
      "text/html": [
       "<div>\n",
       "<style scoped>\n",
       "    .dataframe tbody tr th:only-of-type {\n",
       "        vertical-align: middle;\n",
       "    }\n",
       "\n",
       "    .dataframe tbody tr th {\n",
       "        vertical-align: top;\n",
       "    }\n",
       "\n",
       "    .dataframe thead th {\n",
       "        text-align: right;\n",
       "    }\n",
       "</style>\n",
       "<table border=\"1\" class=\"dataframe\">\n",
       "  <thead>\n",
       "    <tr style=\"text-align: right;\">\n",
       "      <th></th>\n",
       "      <th>User_ID</th>\n",
       "      <th>Product_ID</th>\n",
       "      <th>Gender</th>\n",
       "      <th>Age</th>\n",
       "      <th>Occupation</th>\n",
       "      <th>City_Category</th>\n",
       "      <th>Stay_In_Current_City_Years</th>\n",
       "      <th>Marital_Status</th>\n",
       "      <th>Master_Product_Category</th>\n",
       "      <th>Purchase</th>\n",
       "    </tr>\n",
       "  </thead>\n",
       "  <tbody>\n",
       "    <tr>\n",
       "      <th>Purchase</th>\n",
       "      <td>0.004241</td>\n",
       "      <td>-0.103676</td>\n",
       "      <td>0.065329</td>\n",
       "      <td>0.011601</td>\n",
       "      <td>0.019605</td>\n",
       "      <td>0.054228</td>\n",
       "      <td>0.004167</td>\n",
       "      <td>0.001421</td>\n",
       "      <td>-0.048005</td>\n",
       "      <td>1.000000</td>\n",
       "    </tr>\n",
       "    <tr>\n",
       "      <th>Gender</th>\n",
       "      <td>-0.034666</td>\n",
       "      <td>0.015883</td>\n",
       "      <td>1.000000</td>\n",
       "      <td>-0.004758</td>\n",
       "      <td>0.116505</td>\n",
       "      <td>-0.003727</td>\n",
       "      <td>0.015026</td>\n",
       "      <td>0.010945</td>\n",
       "      <td>-0.011419</td>\n",
       "      <td>0.065329</td>\n",
       "    </tr>\n",
       "    <tr>\n",
       "      <th>City_Category</th>\n",
       "      <td>0.021705</td>\n",
       "      <td>0.005711</td>\n",
       "      <td>-0.003727</td>\n",
       "      <td>0.123415</td>\n",
       "      <td>0.035336</td>\n",
       "      <td>1.000000</td>\n",
       "      <td>0.020564</td>\n",
       "      <td>-0.040060</td>\n",
       "      <td>0.008232</td>\n",
       "      <td>0.054228</td>\n",
       "    </tr>\n",
       "    <tr>\n",
       "      <th>Occupation</th>\n",
       "      <td>-0.023976</td>\n",
       "      <td>0.006529</td>\n",
       "      <td>0.116505</td>\n",
       "      <td>0.090882</td>\n",
       "      <td>1.000000</td>\n",
       "      <td>0.035336</td>\n",
       "      <td>0.028488</td>\n",
       "      <td>-0.023563</td>\n",
       "      <td>0.001679</td>\n",
       "      <td>0.019605</td>\n",
       "    </tr>\n",
       "    <tr>\n",
       "      <th>Age</th>\n",
       "      <td>0.032384</td>\n",
       "      <td>0.023011</td>\n",
       "      <td>-0.004758</td>\n",
       "      <td>1.000000</td>\n",
       "      <td>0.090882</td>\n",
       "      <td>0.123415</td>\n",
       "      <td>-0.004968</td>\n",
       "      <td>-0.310747</td>\n",
       "      <td>0.025413</td>\n",
       "      <td>0.011601</td>\n",
       "    </tr>\n",
       "  </tbody>\n",
       "</table>\n",
       "</div>"
      ],
      "text/plain": [
       "                User_ID  Product_ID    Gender       Age  Occupation  \\\n",
       "Purchase       0.004241   -0.103676  0.065329  0.011601    0.019605   \n",
       "Gender        -0.034666    0.015883  1.000000 -0.004758    0.116505   \n",
       "City_Category  0.021705    0.005711 -0.003727  0.123415    0.035336   \n",
       "Occupation    -0.023976    0.006529  0.116505  0.090882    1.000000   \n",
       "Age            0.032384    0.023011 -0.004758  1.000000    0.090882   \n",
       "\n",
       "               City_Category  Stay_In_Current_City_Years  Marital_Status  \\\n",
       "Purchase            0.054228                    0.004167        0.001421   \n",
       "Gender             -0.003727                    0.015026        0.010945   \n",
       "City_Category       1.000000                    0.020564       -0.040060   \n",
       "Occupation          0.035336                    0.028488       -0.023563   \n",
       "Age                 0.123415                   -0.004968       -0.310747   \n",
       "\n",
       "               Master_Product_Category  Purchase  \n",
       "Purchase                     -0.048005  1.000000  \n",
       "Gender                       -0.011419  0.065329  \n",
       "City_Category                 0.008232  0.054228  \n",
       "Occupation                    0.001679  0.019605  \n",
       "Age                           0.025413  0.011601  "
      ]
     },
     "execution_count": 57,
     "metadata": {},
     "output_type": "execute_result"
    }
   ],
   "source": [
    "# Obtaining top 5 parameters columns which affects the Purchase the most\n",
    "k= 5\n",
    "corrmat.nlargest(k, 'Purchase')"
   ]
  },
  {
   "cell_type": "code",
   "execution_count": 58,
   "metadata": {},
   "outputs": [
    {
     "data": {
      "image/png": "[encoded data removed]",
      "text/plain": [
       "<Figure size 864x648 with 2 Axes>"
      ]
     },
     "metadata": {
      "needs_background": "light"
     },
     "output_type": "display_data"
    }
   ],
   "source": [
    "# Replotting the heatmap with the above data\n",
    "cols = corrmat.nlargest(k, 'Purchase')['Purchase'].index\n",
    "cm = np.corrcoef(dataset_cat[cols].values.T)\n",
    "f, ax = plt.subplots(figsize=(12, 9))\n",
    "sns.heatmap(cm, cmap=\"YlGnBu\", cbar=True, annot=True, square=True, fmt='.2f', annot_kws={'size': 10}, yticklabels=cols.values, xticklabels=cols.values)\n",
    "plt.show()"
   ]
  },
  {
   "cell_type": "markdown",
   "metadata": {},
   "source": [
    "__Modifiying categorical variable__ <br>\n",
    "Combining cateogrical variables to obtain good number of counts of categorical varaibles."
   ]
  },
  {
   "cell_type": "code",
   "execution_count": 59,
   "metadata": {},
   "outputs": [
    {
     "data": {
      "text/plain": [
       "User_ID                         int64\n",
       "Product_ID                     object\n",
       "Gender                         object\n",
       "Age                            object\n",
       "Occupation                      int64\n",
       "City_Category                  object\n",
       "Stay_In_Current_City_Years      int32\n",
       "Marital_Status                 object\n",
       "Master_Product_Category         int32\n",
       "Purchase                      float64\n",
       "source                         object\n",
       "Gender_MaritalStatus           object\n",
       "dtype: object"
      ]
     },
     "execution_count": 59,
     "metadata": {},
     "output_type": "execute_result"
    }
   ],
   "source": [
    "dataset.dtypes"
   ]
  },
  {
   "cell_type": "code",
   "execution_count": 60,
   "metadata": {},
   "outputs": [
    {
     "data": {
      "text/plain": [
       "['User_ID',\n",
       " 'Product_ID',\n",
       " 'Gender',\n",
       " 'Age',\n",
       " 'Occupation',\n",
       " 'City_Category',\n",
       " 'Stay_In_Current_City_Years',\n",
       " 'Marital_Status',\n",
       " 'Master_Product_Category',\n",
       " 'Purchase',\n",
       " 'source',\n",
       " 'Gender_MaritalStatus']"
      ]
     },
     "execution_count": 60,
     "metadata": {},
     "output_type": "execute_result"
    }
   ],
   "source": [
    "# Building list of categorical variables to obtain details\n",
    "categ_columns = list(dataset.columns.values)\n",
    "categ_columns"
   ]
  },
  {
   "cell_type": "code",
   "execution_count": 61,
   "metadata": {},
   "outputs": [],
   "source": [
    "# Droping Identifier values, target values and others which are necessary from the list\n",
    "categ_columns = [x for x in categ_columns if x not in ['User_ID','Product_ID','Purchase','source']]"
   ]
  },
  {
   "cell_type": "code",
   "execution_count": 62,
   "metadata": {},
   "outputs": [
    {
     "name": "stdout",
     "output_type": "stream",
     "text": [
      "Frequency (Count) of Categories for varible :  Gender\n",
      "Male      590031\n",
      "Female    193636\n",
      "Name: Gender, dtype: int64\n",
      "---------------------------------------------------\n",
      "Frequency (Count) of Categories for varible :  Age\n",
      "26-35    313015\n",
      "36-45    156724\n",
      "18-25    141953\n",
      "46-50     65278\n",
      "51-55     54784\n",
      "55+       30579\n",
      "0-17      21334\n",
      "Name: Age, dtype: int64\n",
      "---------------------------------------------------\n",
      "Frequency (Count) of Categories for varible :  Occupation\n",
      "4     103086\n",
      "0      98850\n",
      "7      84127\n",
      "1      67687\n",
      "17     57418\n",
      "20     47840\n",
      "12     44448\n",
      "14     38782\n",
      "2      37996\n",
      "16     36122\n",
      "6      29102\n",
      "3      25126\n",
      "10     18304\n",
      "5      17373\n",
      "15     17356\n",
      "11     16593\n",
      "19     11919\n",
      "13     11053\n",
      "18      9367\n",
      "9       8929\n",
      "8       2189\n",
      "Name: Occupation, dtype: int64\n",
      "---------------------------------------------------\n",
      "Frequency (Count) of Categories for varible :  City_Category\n",
      "B    329739\n",
      "C    243684\n",
      "A    210244\n",
      "Name: City_Category, dtype: int64\n",
      "---------------------------------------------------\n",
      "Frequency (Count) of Categories for varible :  Stay_In_Current_City_Years\n",
      "1    276425\n",
      "2    145427\n",
      "3    135428\n",
      "4    120671\n",
      "0    105716\n",
      "Name: Stay_In_Current_City_Years, dtype: int64\n",
      "---------------------------------------------------\n",
      "Frequency (Count) of Categories for varible :  Marital_Status\n",
      "Un-Married    462538\n",
      "Married       321129\n",
      "Name: Marital_Status, dtype: int64\n",
      "---------------------------------------------------\n",
      "Frequency (Count) of Categories for varible :  Master_Product_Category\n",
      "500      91179\n",
      "800      86481\n",
      "5140     33237\n",
      "580      33060\n",
      "8140     22730\n",
      "1215     21259\n",
      "1160     20866\n",
      "1100     17531\n",
      "8160     14220\n",
      "1600     13933\n",
      "11516    12875\n",
      "125      11496\n",
      "8170     11387\n",
      "1150     11129\n",
      "100       9525\n",
      "1817      9474\n",
      "345       9439\n",
      "680       9262\n",
      "5814      8603\n",
      "120       8151\n",
      "180       8097\n",
      "5110      7526\n",
      "5150      7219\n",
      "450       7068\n",
      "340       6878\n",
      "11160     6735\n",
      "3412      6723\n",
      "129       6321\n",
      "168       6045\n",
      "11150     5876\n",
      "         ...  \n",
      "61116      207\n",
      "1818       206\n",
      "2414       186\n",
      "6110       185\n",
      "134        182\n",
      "2120       180\n",
      "4110       171\n",
      "4150       159\n",
      "7120       158\n",
      "4513       157\n",
      "5816       148\n",
      "7170       144\n",
      "4912       129\n",
      "780        126\n",
      "14170       95\n",
      "81016       74\n",
      "11130       73\n",
      "81116       64\n",
      "6130        58\n",
      "51115       52\n",
      "81415       51\n",
      "14180       47\n",
      "3130        35\n",
      "51415       31\n",
      "81418       24\n",
      "490         23\n",
      "21214       21\n",
      "51016        3\n",
      "10110        1\n",
      "900          1\n",
      "Name: Master_Product_Category, Length: 237, dtype: int64\n",
      "---------------------------------------------------\n",
      "Frequency (Count) of Categories for varible :  Gender_MaritalStatus\n",
      "Male_Un-Married      350069\n",
      "Male_Married         239962\n",
      "Female_Un-Married    112469\n",
      "Female_Married        81167\n",
      "Name: Gender_MaritalStatus, dtype: int64\n",
      "---------------------------------------------------\n"
     ]
    }
   ],
   "source": [
    "# Print frequency of categories\n",
    "for col in categ_columns:\n",
    "    print ('Frequency (Count) of Categories for varible : ', col)\n",
    "    print (dataset[col].value_counts())\n",
    "    print('---------------------------------------------------')"
   ]
  },
  {
   "cell_type": "markdown",
   "metadata": {},
   "source": [
    "__Combining Age ranges__"
   ]
  },
  {
   "cell_type": "code",
   "execution_count": 63,
   "metadata": {},
   "outputs": [],
   "source": [
    "dataset['Modified_Age'] = dataset[['Age']]"
   ]
  },
  {
   "cell_type": "code",
   "execution_count": 64,
   "metadata": {},
   "outputs": [
    {
     "data": {
      "text/plain": [
       "26-35    313015\n",
       "36-45    156724\n",
       "18-25    141953\n",
       "46-50     65278\n",
       "51-55     54784\n",
       "55+       30579\n",
       "0-17      21334\n",
       "Name: Modified_Age, dtype: int64"
      ]
     },
     "execution_count": 64,
     "metadata": {},
     "output_type": "execute_result"
    }
   ],
   "source": [
    "dataset['Modified_Age'].value_counts()"
   ]
  },
  {
   "cell_type": "code",
   "execution_count": 65,
   "metadata": {},
   "outputs": [],
   "source": [
    "# Modify Age Range to obtain obtain good number of counts in each range\n",
    "dataset['Modified_Age'] =dataset['Modified_Age']. map({'0-17':'0-25','18-25':'0-25',\n",
    "                                                       '46-50':'46-55+','51-55':'46-55+','55+':'46-55+',\n",
    "                                                      '26-35':'26-35','36-45':'36-45'})"
   ]
  },
  {
   "cell_type": "code",
   "execution_count": 66,
   "metadata": {},
   "outputs": [
    {
     "data": {
      "text/plain": [
       "26-35     313015\n",
       "0-25      163287\n",
       "36-45     156724\n",
       "46-55+    150641\n",
       "Name: Modified_Age, dtype: int64"
      ]
     },
     "execution_count": 66,
     "metadata": {},
     "output_type": "execute_result"
    }
   ],
   "source": [
    "dataset['Modified_Age'].value_counts()"
   ]
  },
  {
   "cell_type": "code",
   "execution_count": 67,
   "metadata": {},
   "outputs": [
    {
     "data": {
      "text/plain": [
       "4     103086\n",
       "0      98850\n",
       "7      84127\n",
       "1      67687\n",
       "17     57418\n",
       "20     47840\n",
       "12     44448\n",
       "14     38782\n",
       "2      37996\n",
       "16     36122\n",
       "6      29102\n",
       "3      25126\n",
       "10     18304\n",
       "5      17373\n",
       "15     17356\n",
       "11     16593\n",
       "19     11919\n",
       "13     11053\n",
       "18      9367\n",
       "9       8929\n",
       "8       2189\n",
       "Name: Occupation, dtype: int64"
      ]
     },
     "execution_count": 67,
     "metadata": {},
     "output_type": "execute_result"
    }
   ],
   "source": [
    "dataset['Occupation'].value_counts()"
   ]
  },
  {
   "cell_type": "markdown",
   "metadata": {},
   "source": [
    "__One Hot encoding of variables__"
   ]
  },
  {
   "cell_type": "code",
   "execution_count": 68,
   "metadata": {},
   "outputs": [
    {
     "data": {
      "text/plain": [
       "Index(['User_ID', 'Product_ID', 'Gender', 'Age', 'Occupation', 'City_Category',\n",
       "       'Stay_In_Current_City_Years', 'Marital_Status',\n",
       "       'Master_Product_Category', 'Purchase', 'source', 'Gender_MaritalStatus',\n",
       "       'Modified_Age'],\n",
       "      dtype='object')"
      ]
     },
     "execution_count": 68,
     "metadata": {},
     "output_type": "execute_result"
    }
   ],
   "source": [
    "dataset.columns"
   ]
  },
  {
   "cell_type": "code",
   "execution_count": 69,
   "metadata": {},
   "outputs": [
    {
     "data": {
      "text/html": [
       "<div>\n",
       "<style scoped>\n",
       "    .dataframe tbody tr th:only-of-type {\n",
       "        vertical-align: middle;\n",
       "    }\n",
       "\n",
       "    .dataframe tbody tr th {\n",
       "        vertical-align: top;\n",
       "    }\n",
       "\n",
       "    .dataframe thead th {\n",
       "        text-align: right;\n",
       "    }\n",
       "</style>\n",
       "<table border=\"1\" class=\"dataframe\">\n",
       "  <thead>\n",
       "    <tr style=\"text-align: right;\">\n",
       "      <th></th>\n",
       "      <th>Occupation</th>\n",
       "      <th>City_Category</th>\n",
       "      <th>Stay_In_Current_City_Years</th>\n",
       "      <th>Gender_MaritalStatus</th>\n",
       "      <th>Modified_Age</th>\n",
       "    </tr>\n",
       "  </thead>\n",
       "  <tbody>\n",
       "    <tr>\n",
       "      <th>0</th>\n",
       "      <td>10</td>\n",
       "      <td>A</td>\n",
       "      <td>2</td>\n",
       "      <td>Female_Un-Married</td>\n",
       "      <td>0-25</td>\n",
       "    </tr>\n",
       "    <tr>\n",
       "      <th>1</th>\n",
       "      <td>10</td>\n",
       "      <td>A</td>\n",
       "      <td>2</td>\n",
       "      <td>Female_Un-Married</td>\n",
       "      <td>0-25</td>\n",
       "    </tr>\n",
       "    <tr>\n",
       "      <th>2</th>\n",
       "      <td>10</td>\n",
       "      <td>A</td>\n",
       "      <td>2</td>\n",
       "      <td>Female_Un-Married</td>\n",
       "      <td>0-25</td>\n",
       "    </tr>\n",
       "    <tr>\n",
       "      <th>3</th>\n",
       "      <td>10</td>\n",
       "      <td>A</td>\n",
       "      <td>2</td>\n",
       "      <td>Female_Un-Married</td>\n",
       "      <td>0-25</td>\n",
       "    </tr>\n",
       "    <tr>\n",
       "      <th>4</th>\n",
       "      <td>16</td>\n",
       "      <td>C</td>\n",
       "      <td>4</td>\n",
       "      <td>Male_Un-Married</td>\n",
       "      <td>46-55+</td>\n",
       "    </tr>\n",
       "  </tbody>\n",
       "</table>\n",
       "</div>"
      ],
      "text/plain": [
       "   Occupation City_Category  Stay_In_Current_City_Years Gender_MaritalStatus  \\\n",
       "0          10             A                           2    Female_Un-Married   \n",
       "1          10             A                           2    Female_Un-Married   \n",
       "2          10             A                           2    Female_Un-Married   \n",
       "3          10             A                           2    Female_Un-Married   \n",
       "4          16             C                           4      Male_Un-Married   \n",
       "\n",
       "  Modified_Age  \n",
       "0         0-25  \n",
       "1         0-25  \n",
       "2         0-25  \n",
       "3         0-25  \n",
       "4       46-55+  "
      ]
     },
     "execution_count": 69,
     "metadata": {},
     "output_type": "execute_result"
    }
   ],
   "source": [
    "# Categorical variables\n",
    "dataset[['Occupation','City_Category','Stay_In_Current_City_Years','Gender_MaritalStatus','Modified_Age']].head()"
   ]
  },
  {
   "cell_type": "code",
   "execution_count": 70,
   "metadata": {},
   "outputs": [],
   "source": [
    "# Feature Encoding categorical columns to visualize correlation of parameters with Purchase column\n",
    "# Importing required package\n",
    "from sklearn.preprocessing import LabelEncoder\n",
    "encode_x = LabelEncoder()"
   ]
  },
  {
   "cell_type": "code",
   "execution_count": 71,
   "metadata": {},
   "outputs": [],
   "source": [
    "# Encoding categorical columns \n",
    "dataset['City_Category'] = encode_x.fit_transform(dataset['City_Category'])\n",
    "dataset['Gender_MaritalStatus'] = encode_x.fit_transform(dataset['Gender_MaritalStatus'])\n",
    "dataset['Modified_Age'] = encode_x.fit_transform(dataset['Modified_Age'])"
   ]
  },
  {
   "cell_type": "code",
   "execution_count": 72,
   "metadata": {},
   "outputs": [
    {
     "data": {
      "text/html": [
       "<div>\n",
       "<style scoped>\n",
       "    .dataframe tbody tr th:only-of-type {\n",
       "        vertical-align: middle;\n",
       "    }\n",
       "\n",
       "    .dataframe tbody tr th {\n",
       "        vertical-align: top;\n",
       "    }\n",
       "\n",
       "    .dataframe thead th {\n",
       "        text-align: right;\n",
       "    }\n",
       "</style>\n",
       "<table border=\"1\" class=\"dataframe\">\n",
       "  <thead>\n",
       "    <tr style=\"text-align: right;\">\n",
       "      <th></th>\n",
       "      <th>Occupation</th>\n",
       "      <th>City_Category</th>\n",
       "      <th>Stay_In_Current_City_Years</th>\n",
       "      <th>Gender_MaritalStatus</th>\n",
       "      <th>Modified_Age</th>\n",
       "    </tr>\n",
       "  </thead>\n",
       "  <tbody>\n",
       "    <tr>\n",
       "      <th>0</th>\n",
       "      <td>10</td>\n",
       "      <td>0</td>\n",
       "      <td>2</td>\n",
       "      <td>1</td>\n",
       "      <td>0</td>\n",
       "    </tr>\n",
       "    <tr>\n",
       "      <th>1</th>\n",
       "      <td>10</td>\n",
       "      <td>0</td>\n",
       "      <td>2</td>\n",
       "      <td>1</td>\n",
       "      <td>0</td>\n",
       "    </tr>\n",
       "    <tr>\n",
       "      <th>2</th>\n",
       "      <td>10</td>\n",
       "      <td>0</td>\n",
       "      <td>2</td>\n",
       "      <td>1</td>\n",
       "      <td>0</td>\n",
       "    </tr>\n",
       "    <tr>\n",
       "      <th>3</th>\n",
       "      <td>10</td>\n",
       "      <td>0</td>\n",
       "      <td>2</td>\n",
       "      <td>1</td>\n",
       "      <td>0</td>\n",
       "    </tr>\n",
       "    <tr>\n",
       "      <th>4</th>\n",
       "      <td>16</td>\n",
       "      <td>2</td>\n",
       "      <td>4</td>\n",
       "      <td>3</td>\n",
       "      <td>3</td>\n",
       "    </tr>\n",
       "  </tbody>\n",
       "</table>\n",
       "</div>"
      ],
      "text/plain": [
       "   Occupation  City_Category  Stay_In_Current_City_Years  \\\n",
       "0          10              0                           2   \n",
       "1          10              0                           2   \n",
       "2          10              0                           2   \n",
       "3          10              0                           2   \n",
       "4          16              2                           4   \n",
       "\n",
       "   Gender_MaritalStatus  Modified_Age  \n",
       "0                     1             0  \n",
       "1                     1             0  \n",
       "2                     1             0  \n",
       "3                     1             0  \n",
       "4                     3             3  "
      ]
     },
     "execution_count": 72,
     "metadata": {},
     "output_type": "execute_result"
    }
   ],
   "source": [
    "dataset[['Occupation','City_Category','Stay_In_Current_City_Years','Gender_MaritalStatus','Modified_Age']].head()"
   ]
  },
  {
   "cell_type": "code",
   "execution_count": 73,
   "metadata": {},
   "outputs": [],
   "source": [
    "# Creating dummy variables, one for each category of a categorical variable\n",
    "dataset = pd.get_dummies(dataset, columns=['Occupation', 'City_Category','Stay_In_Current_City_Years', \n",
    "                                           'Gender_MaritalStatus','Modified_Age'])"
   ]
  },
  {
   "cell_type": "code",
   "execution_count": 74,
   "metadata": {},
   "outputs": [
    {
     "data": {
      "text/plain": [
       "User_ID                           int64\n",
       "Product_ID                       object\n",
       "Gender                           object\n",
       "Age                              object\n",
       "Marital_Status                   object\n",
       "Master_Product_Category           int32\n",
       "Purchase                        float64\n",
       "source                           object\n",
       "Occupation_0                      uint8\n",
       "Occupation_1                      uint8\n",
       "Occupation_2                      uint8\n",
       "Occupation_3                      uint8\n",
       "Occupation_4                      uint8\n",
       "Occupation_5                      uint8\n",
       "Occupation_6                      uint8\n",
       "Occupation_7                      uint8\n",
       "Occupation_8                      uint8\n",
       "Occupation_9                      uint8\n",
       "Occupation_10                     uint8\n",
       "Occupation_11                     uint8\n",
       "Occupation_12                     uint8\n",
       "Occupation_13                     uint8\n",
       "Occupation_14                     uint8\n",
       "Occupation_15                     uint8\n",
       "Occupation_16                     uint8\n",
       "Occupation_17                     uint8\n",
       "Occupation_18                     uint8\n",
       "Occupation_19                     uint8\n",
       "Occupation_20                     uint8\n",
       "City_Category_0                   uint8\n",
       "City_Category_1                   uint8\n",
       "City_Category_2                   uint8\n",
       "Stay_In_Current_City_Years_0      uint8\n",
       "Stay_In_Current_City_Years_1      uint8\n",
       "Stay_In_Current_City_Years_2      uint8\n",
       "Stay_In_Current_City_Years_3      uint8\n",
       "Stay_In_Current_City_Years_4      uint8\n",
       "Gender_MaritalStatus_0            uint8\n",
       "Gender_MaritalStatus_1            uint8\n",
       "Gender_MaritalStatus_2            uint8\n",
       "Gender_MaritalStatus_3            uint8\n",
       "Modified_Age_0                    uint8\n",
       "Modified_Age_1                    uint8\n",
       "Modified_Age_2                    uint8\n",
       "Modified_Age_3                    uint8\n",
       "dtype: object"
      ]
     },
     "execution_count": 74,
     "metadata": {},
     "output_type": "execute_result"
    }
   ],
   "source": [
    "dataset.dtypes"
   ]
  },
  {
   "cell_type": "markdown",
   "metadata": {},
   "source": [
    "#### Exporting the data"
   ]
  },
  {
   "cell_type": "code",
   "execution_count": 75,
   "metadata": {},
   "outputs": [],
   "source": [
    "# Drop the columns which have been converted to different types:\n",
    "dataset.drop(['Age','Gender', 'Marital_Status'],axis=1,inplace=True)"
   ]
  },
  {
   "cell_type": "code",
   "execution_count": 76,
   "metadata": {},
   "outputs": [
    {
     "data": {
      "text/plain": [
       "User_ID                           int64\n",
       "Product_ID                       object\n",
       "Master_Product_Category           int32\n",
       "Purchase                        float64\n",
       "source                           object\n",
       "Occupation_0                      uint8\n",
       "Occupation_1                      uint8\n",
       "Occupation_2                      uint8\n",
       "Occupation_3                      uint8\n",
       "Occupation_4                      uint8\n",
       "Occupation_5                      uint8\n",
       "Occupation_6                      uint8\n",
       "Occupation_7                      uint8\n",
       "Occupation_8                      uint8\n",
       "Occupation_9                      uint8\n",
       "Occupation_10                     uint8\n",
       "Occupation_11                     uint8\n",
       "Occupation_12                     uint8\n",
       "Occupation_13                     uint8\n",
       "Occupation_14                     uint8\n",
       "Occupation_15                     uint8\n",
       "Occupation_16                     uint8\n",
       "Occupation_17                     uint8\n",
       "Occupation_18                     uint8\n",
       "Occupation_19                     uint8\n",
       "Occupation_20                     uint8\n",
       "City_Category_0                   uint8\n",
       "City_Category_1                   uint8\n",
       "City_Category_2                   uint8\n",
       "Stay_In_Current_City_Years_0      uint8\n",
       "Stay_In_Current_City_Years_1      uint8\n",
       "Stay_In_Current_City_Years_2      uint8\n",
       "Stay_In_Current_City_Years_3      uint8\n",
       "Stay_In_Current_City_Years_4      uint8\n",
       "Gender_MaritalStatus_0            uint8\n",
       "Gender_MaritalStatus_1            uint8\n",
       "Gender_MaritalStatus_2            uint8\n",
       "Gender_MaritalStatus_3            uint8\n",
       "Modified_Age_0                    uint8\n",
       "Modified_Age_1                    uint8\n",
       "Modified_Age_2                    uint8\n",
       "Modified_Age_3                    uint8\n",
       "dtype: object"
      ]
     },
     "execution_count": 76,
     "metadata": {},
     "output_type": "execute_result"
    }
   ],
   "source": [
    "dataset.dtypes"
   ]
  },
  {
   "cell_type": "code",
   "execution_count": 77,
   "metadata": {},
   "outputs": [],
   "source": [
    "# Splitting the dataset back into test and train datasets for model building:\n",
    "train = dataset.loc[dataset['source']==\"train\"]\n",
    "test = dataset.loc[dataset['source']==\"test\"]"
   ]
  },
  {
   "cell_type": "code",
   "execution_count": 78,
   "metadata": {},
   "outputs": [],
   "source": [
    "# Dropping unnecessary columns:\n",
    "test = test.drop(['Purchase','source'],axis=1) # dropping dependent variable 'Purchase' from the test dataset\n",
    "train = train.drop(['source'],axis=1)"
   ]
  },
  {
   "cell_type": "code",
   "execution_count": 79,
   "metadata": {},
   "outputs": [
    {
     "data": {
      "text/plain": [
       "Index(['User_ID', 'Product_ID', 'Master_Product_Category', 'Occupation_0',\n",
       "       'Occupation_1', 'Occupation_2', 'Occupation_3', 'Occupation_4',\n",
       "       'Occupation_5', 'Occupation_6', 'Occupation_7', 'Occupation_8',\n",
       "       'Occupation_9', 'Occupation_10', 'Occupation_11', 'Occupation_12',\n",
       "       'Occupation_13', 'Occupation_14', 'Occupation_15', 'Occupation_16',\n",
       "       'Occupation_17', 'Occupation_18', 'Occupation_19', 'Occupation_20',\n",
       "       'City_Category_0', 'City_Category_1', 'City_Category_2',\n",
       "       'Stay_In_Current_City_Years_0', 'Stay_In_Current_City_Years_1',\n",
       "       'Stay_In_Current_City_Years_2', 'Stay_In_Current_City_Years_3',\n",
       "       'Stay_In_Current_City_Years_4', 'Gender_MaritalStatus_0',\n",
       "       'Gender_MaritalStatus_1', 'Gender_MaritalStatus_2',\n",
       "       'Gender_MaritalStatus_3', 'Modified_Age_0', 'Modified_Age_1',\n",
       "       'Modified_Age_2', 'Modified_Age_3'],\n",
       "      dtype='object')"
      ]
     },
     "execution_count": 79,
     "metadata": {},
     "output_type": "execute_result"
    }
   ],
   "source": [
    "test.columns"
   ]
  },
  {
   "cell_type": "code",
   "execution_count": 80,
   "metadata": {},
   "outputs": [
    {
     "data": {
      "text/plain": [
       "Index(['User_ID', 'Product_ID', 'Master_Product_Category', 'Purchase',\n",
       "       'Occupation_0', 'Occupation_1', 'Occupation_2', 'Occupation_3',\n",
       "       'Occupation_4', 'Occupation_5', 'Occupation_6', 'Occupation_7',\n",
       "       'Occupation_8', 'Occupation_9', 'Occupation_10', 'Occupation_11',\n",
       "       'Occupation_12', 'Occupation_13', 'Occupation_14', 'Occupation_15',\n",
       "       'Occupation_16', 'Occupation_17', 'Occupation_18', 'Occupation_19',\n",
       "       'Occupation_20', 'City_Category_0', 'City_Category_1',\n",
       "       'City_Category_2', 'Stay_In_Current_City_Years_0',\n",
       "       'Stay_In_Current_City_Years_1', 'Stay_In_Current_City_Years_2',\n",
       "       'Stay_In_Current_City_Years_3', 'Stay_In_Current_City_Years_4',\n",
       "       'Gender_MaritalStatus_0', 'Gender_MaritalStatus_1',\n",
       "       'Gender_MaritalStatus_2', 'Gender_MaritalStatus_3', 'Modified_Age_0',\n",
       "       'Modified_Age_1', 'Modified_Age_2', 'Modified_Age_3'],\n",
       "      dtype='object')"
      ]
     },
     "execution_count": 80,
     "metadata": {},
     "output_type": "execute_result"
    }
   ],
   "source": [
    "train.columns"
   ]
  },
  {
   "cell_type": "code",
   "execution_count": 81,
   "metadata": {},
   "outputs": [],
   "source": [
    "# Exporting csv files as modified versions:\n",
    "train.to_csv(\"./BlackFriday_Outputs/train_modified.csv\",index=False)\n",
    "test.to_csv(\"./BlackFriday_Outputs/test_modified.csv\",index=False)"
   ]
  },
  {
   "cell_type": "markdown",
   "metadata": {},
   "source": [
    "### 4. Building the model"
   ]
  },
  {
   "cell_type": "code",
   "execution_count": 81,
   "metadata": {},
   "outputs": [
    {
     "data": {
      "text/plain": [
       "9263.968712959126"
      ]
     },
     "execution_count": 81,
     "metadata": {},
     "output_type": "execute_result"
    }
   ],
   "source": [
    "# Mean based:\n",
    "mean_purhcase = train['Purchase'].mean()\n",
    "mean_purhcase"
   ]
  },
  {
   "cell_type": "code",
   "execution_count": 82,
   "metadata": {},
   "outputs": [],
   "source": [
    "# Defining a dataframe with IDs for submission:\n",
    "base1 = test[['User_ID','Product_ID']]"
   ]
  },
  {
   "cell_type": "code",
   "execution_count": 83,
   "metadata": {},
   "outputs": [
    {
     "name": "stderr",
     "output_type": "stream",
     "text": [
      "c:\\users\\nags\\appdata\\local\\programs\\python\\python37\\lib\\site-packages\\pandas\\core\\indexing.py:362: SettingWithCopyWarning: \n",
      "A value is trying to be set on a copy of a slice from a DataFrame.\n",
      "Try using .loc[row_indexer,col_indexer] = value instead\n",
      "\n",
      "See the caveats in the documentation: http://pandas.pydata.org/pandas-docs/stable/indexing.html#indexing-view-versus-copy\n",
      "  self.obj[key] = _infer_fill_value(value)\n",
      "c:\\users\\nags\\appdata\\local\\programs\\python\\python37\\lib\\site-packages\\pandas\\core\\indexing.py:543: SettingWithCopyWarning: \n",
      "A value is trying to be set on a copy of a slice from a DataFrame.\n",
      "Try using .loc[row_indexer,col_indexer] = value instead\n",
      "\n",
      "See the caveats in the documentation: http://pandas.pydata.org/pandas-docs/stable/indexing.html#indexing-view-versus-copy\n",
      "  self.obj[item] = s\n"
     ]
    }
   ],
   "source": [
    "# Implying the mean sales value to the Item_Outlet_Sales column\n",
    "base1.loc[:,'Purchase'] = mean_purhcase"
   ]
  },
  {
   "cell_type": "code",
   "execution_count": 85,
   "metadata": {},
   "outputs": [],
   "source": [
    "# Exporting the submission file\n",
    "base1.to_csv(\"./BlackFriday_Outputs/algor0.csv\",index=False)"
   ]
  },
  {
   "cell_type": "markdown",
   "metadata": {},
   "source": [
    "Function to makes the model, performs cross-validation and generates submission."
   ]
  },
  {
   "cell_type": "code",
   "execution_count": 84,
   "metadata": {},
   "outputs": [],
   "source": [
    "# Make the model and perform cross validation\n",
    "from sklearn.model_selection import cross_val_score\n",
    "from sklearn import metrics\n",
    "\n",
    "def modelfit_test(algorthm, dftrain, dftest, predictors, target, IDcol):\n",
    "\n",
    "    #Fit the algorthmorithm on the data\n",
    "    algorthm.fit(dftrain[predictors], dftrain[target]) \n",
    "        \n",
    "    #Predict training set:\n",
    "    dftrain_predictions = algorthm.predict(dftrain[predictors])\n",
    "\n",
    "    #Perform cross-validation:\n",
    "    cv_score = cross_val_score(algorthm, dftrain[predictors], dftrain[target], cv=20, n_jobs=-1,scoring='neg_mean_squared_error')\n",
    "    cv_score = np.sqrt(np.abs(cv_score))\n",
    "    \n",
    "    #Print model report:\n",
    "    print (\"\\n------Model Report----\\n\")\n",
    "    print (\"RMSE : \" , np.sqrt(metrics.mean_squared_error(dftrain[target].values, dftrain_predictions)))\n",
    "    print (\"CV Score Mean : %.4g\" %(np.mean(cv_score)))\n",
    "    print (\"CV Score Std : %.4g\" %(np.std(cv_score)))\n",
    "    print (\"CV Score Min : %.4g\" %(np.min(cv_score)))\n",
    "    print (\"CV Score Max : %.4g\" %(np.max(cv_score)))"
   ]
  },
  {
   "cell_type": "code",
   "execution_count": 85,
   "metadata": {},
   "outputs": [],
   "source": [
    "# Make the model, perform cross validation and export submission file.\n",
    "\n",
    "from sklearn.model_selection import cross_val_score\n",
    "from sklearn import metrics\n",
    "def modelfit(algorthm, dftrain, dftest, predictors, target, IDcol, filename):\n",
    "\n",
    "    #Fit the algorthmorithm on the data\n",
    "    algorthm.fit(dftrain[predictors], dftrain[target]) # similar to the base dataframe created above with the predictor & target columns\n",
    "        \n",
    "    #Predict training set:\n",
    "    dftrain_predictions = algorthm.predict(dftrain[predictors]) # Predicting using the predictors\n",
    "\n",
    "    #Perform cross-validation:\n",
    "    cv_score = cross_val_score(algorthm, dftrain[predictors], dftrain[target], cv=20, n_jobs=-1, scoring='neg_mean_squared_error')\n",
    "    cv_score = np.sqrt(np.abs(cv_score))\n",
    "    \n",
    "    #Print model report:\n",
    "    print (\"\\n------Model Report----\\n\")\n",
    "    print (\"RMSE : \" , np.sqrt(metrics.mean_squared_error(dftrain[target].values, dftrain_predictions)))\n",
    "    print (\"CV Score Mean : %.4g\" %(np.mean(cv_score)))\n",
    "    print (\"CV Score Std : %.4g\" %(np.std(cv_score)))\n",
    "    print (\"CV Score Min : %.4g\" %(np.min(cv_score)))\n",
    "    print (\"CV Score Max : %.4g\" %(np.max(cv_score)))\n",
    "    \n",
    "    #Predict on testing data:\n",
    "    dftest[target] = algorthm.predict(dftest[predictors])\n",
    "    \n",
    "    #Export submission file:\n",
    "    IDcol.append(target)\n",
    "    submission = pd.DataFrame({ x: dftest[x] for x in IDcol})\n",
    "    submission.to_csv(filename, index=False)"
   ]
  },
  {
   "cell_type": "markdown",
   "metadata": {},
   "source": [
    "## Machine Learning - Build Model"
   ]
  },
  {
   "cell_type": "code",
   "execution_count": 86,
   "metadata": {},
   "outputs": [
    {
     "data": {
      "text/html": [
       "<div>\n",
       "<style scoped>\n",
       "    .dataframe tbody tr th:only-of-type {\n",
       "        vertical-align: middle;\n",
       "    }\n",
       "\n",
       "    .dataframe tbody tr th {\n",
       "        vertical-align: top;\n",
       "    }\n",
       "\n",
       "    .dataframe thead th {\n",
       "        text-align: right;\n",
       "    }\n",
       "</style>\n",
       "<table border=\"1\" class=\"dataframe\">\n",
       "  <thead>\n",
       "    <tr style=\"text-align: right;\">\n",
       "      <th></th>\n",
       "      <th>User_ID</th>\n",
       "      <th>Product_ID</th>\n",
       "      <th>Master_Product_Category</th>\n",
       "      <th>Purchase</th>\n",
       "      <th>Occupation_0</th>\n",
       "      <th>Occupation_1</th>\n",
       "      <th>Occupation_2</th>\n",
       "      <th>Occupation_3</th>\n",
       "      <th>Occupation_4</th>\n",
       "      <th>Occupation_5</th>\n",
       "      <th>...</th>\n",
       "      <th>Stay_In_Current_City_Years_3</th>\n",
       "      <th>Stay_In_Current_City_Years_4</th>\n",
       "      <th>Gender_MaritalStatus_0</th>\n",
       "      <th>Gender_MaritalStatus_1</th>\n",
       "      <th>Gender_MaritalStatus_2</th>\n",
       "      <th>Gender_MaritalStatus_3</th>\n",
       "      <th>Modified_Age_0</th>\n",
       "      <th>Modified_Age_1</th>\n",
       "      <th>Modified_Age_2</th>\n",
       "      <th>Modified_Age_3</th>\n",
       "    </tr>\n",
       "  </thead>\n",
       "  <tbody>\n",
       "    <tr>\n",
       "      <th>0</th>\n",
       "      <td>1000001</td>\n",
       "      <td>P00069042</td>\n",
       "      <td>300</td>\n",
       "      <td>8370.0</td>\n",
       "      <td>0</td>\n",
       "      <td>0</td>\n",
       "      <td>0</td>\n",
       "      <td>0</td>\n",
       "      <td>0</td>\n",
       "      <td>0</td>\n",
       "      <td>...</td>\n",
       "      <td>0</td>\n",
       "      <td>0</td>\n",
       "      <td>0</td>\n",
       "      <td>1</td>\n",
       "      <td>0</td>\n",
       "      <td>0</td>\n",
       "      <td>1</td>\n",
       "      <td>0</td>\n",
       "      <td>0</td>\n",
       "      <td>0</td>\n",
       "    </tr>\n",
       "    <tr>\n",
       "      <th>1</th>\n",
       "      <td>1000001</td>\n",
       "      <td>P00248942</td>\n",
       "      <td>1614</td>\n",
       "      <td>15200.0</td>\n",
       "      <td>0</td>\n",
       "      <td>0</td>\n",
       "      <td>0</td>\n",
       "      <td>0</td>\n",
       "      <td>0</td>\n",
       "      <td>0</td>\n",
       "      <td>...</td>\n",
       "      <td>0</td>\n",
       "      <td>0</td>\n",
       "      <td>0</td>\n",
       "      <td>1</td>\n",
       "      <td>0</td>\n",
       "      <td>0</td>\n",
       "      <td>1</td>\n",
       "      <td>0</td>\n",
       "      <td>0</td>\n",
       "      <td>0</td>\n",
       "    </tr>\n",
       "    <tr>\n",
       "      <th>2</th>\n",
       "      <td>1000001</td>\n",
       "      <td>P00087842</td>\n",
       "      <td>1200</td>\n",
       "      <td>1422.0</td>\n",
       "      <td>0</td>\n",
       "      <td>0</td>\n",
       "      <td>0</td>\n",
       "      <td>0</td>\n",
       "      <td>0</td>\n",
       "      <td>0</td>\n",
       "      <td>...</td>\n",
       "      <td>0</td>\n",
       "      <td>0</td>\n",
       "      <td>0</td>\n",
       "      <td>1</td>\n",
       "      <td>0</td>\n",
       "      <td>0</td>\n",
       "      <td>1</td>\n",
       "      <td>0</td>\n",
       "      <td>0</td>\n",
       "      <td>0</td>\n",
       "    </tr>\n",
       "    <tr>\n",
       "      <th>3</th>\n",
       "      <td>1000001</td>\n",
       "      <td>P00085442</td>\n",
       "      <td>12140</td>\n",
       "      <td>1057.0</td>\n",
       "      <td>0</td>\n",
       "      <td>0</td>\n",
       "      <td>0</td>\n",
       "      <td>0</td>\n",
       "      <td>0</td>\n",
       "      <td>0</td>\n",
       "      <td>...</td>\n",
       "      <td>0</td>\n",
       "      <td>0</td>\n",
       "      <td>0</td>\n",
       "      <td>1</td>\n",
       "      <td>0</td>\n",
       "      <td>0</td>\n",
       "      <td>1</td>\n",
       "      <td>0</td>\n",
       "      <td>0</td>\n",
       "      <td>0</td>\n",
       "    </tr>\n",
       "    <tr>\n",
       "      <th>4</th>\n",
       "      <td>1000002</td>\n",
       "      <td>P00285442</td>\n",
       "      <td>800</td>\n",
       "      <td>7969.0</td>\n",
       "      <td>0</td>\n",
       "      <td>0</td>\n",
       "      <td>0</td>\n",
       "      <td>0</td>\n",
       "      <td>0</td>\n",
       "      <td>0</td>\n",
       "      <td>...</td>\n",
       "      <td>0</td>\n",
       "      <td>1</td>\n",
       "      <td>0</td>\n",
       "      <td>0</td>\n",
       "      <td>0</td>\n",
       "      <td>1</td>\n",
       "      <td>0</td>\n",
       "      <td>0</td>\n",
       "      <td>0</td>\n",
       "      <td>1</td>\n",
       "    </tr>\n",
       "  </tbody>\n",
       "</table>\n",
       "<p>5 rows × 41 columns</p>\n",
       "</div>"
      ],
      "text/plain": [
       "   User_ID Product_ID  Master_Product_Category  Purchase  Occupation_0  \\\n",
       "0  1000001  P00069042                      300    8370.0             0   \n",
       "1  1000001  P00248942                     1614   15200.0             0   \n",
       "2  1000001  P00087842                     1200    1422.0             0   \n",
       "3  1000001  P00085442                    12140    1057.0             0   \n",
       "4  1000002  P00285442                      800    7969.0             0   \n",
       "\n",
       "   Occupation_1  Occupation_2  Occupation_3  Occupation_4  Occupation_5  \\\n",
       "0             0             0             0             0             0   \n",
       "1             0             0             0             0             0   \n",
       "2             0             0             0             0             0   \n",
       "3             0             0             0             0             0   \n",
       "4             0             0             0             0             0   \n",
       "\n",
       "        ...        Stay_In_Current_City_Years_3  Stay_In_Current_City_Years_4  \\\n",
       "0       ...                                   0                             0   \n",
       "1       ...                                   0                             0   \n",
       "2       ...                                   0                             0   \n",
       "3       ...                                   0                             0   \n",
       "4       ...                                   0                             1   \n",
       "\n",
       "   Gender_MaritalStatus_0  Gender_MaritalStatus_1  Gender_MaritalStatus_2  \\\n",
       "0                       0                       1                       0   \n",
       "1                       0                       1                       0   \n",
       "2                       0                       1                       0   \n",
       "3                       0                       1                       0   \n",
       "4                       0                       0                       0   \n",
       "\n",
       "   Gender_MaritalStatus_3  Modified_Age_0  Modified_Age_1  Modified_Age_2  \\\n",
       "0                       0               1               0               0   \n",
       "1                       0               1               0               0   \n",
       "2                       0               1               0               0   \n",
       "3                       0               1               0               0   \n",
       "4                       1               0               0               0   \n",
       "\n",
       "   Modified_Age_3  \n",
       "0               0  \n",
       "1               0  \n",
       "2               0  \n",
       "3               0  \n",
       "4               1  \n",
       "\n",
       "[5 rows x 41 columns]"
      ]
     },
     "execution_count": 86,
     "metadata": {},
     "output_type": "execute_result"
    }
   ],
   "source": [
    "train.head()"
   ]
  },
  {
   "cell_type": "markdown",
   "metadata": {},
   "source": [
    "__Assigning Targets, ID Columns and predictors__"
   ]
  },
  {
   "cell_type": "code",
   "execution_count": 87,
   "metadata": {},
   "outputs": [],
   "source": [
    "# Assigning columns for model building\n",
    "target = 'Purchase'\n",
    "IDcol = ['User_ID','Product_ID']\n",
    "\n",
    "# Excluding Identifiers (used for submission) and dependent variable column\n",
    "predictors = [x for x in train.columns if x not in [target]+IDcol]\n"
   ]
  },
  {
   "cell_type": "markdown",
   "metadata": {},
   "source": [
    "### Linear Regression Model"
   ]
  },
  {
   "cell_type": "code",
   "execution_count": 90,
   "metadata": {},
   "outputs": [],
   "source": [
    "# Building a linear regression model \n",
    "from sklearn.linear_model import LinearRegression\n",
    "alg1 = LinearRegression(normalize=True)"
   ]
  },
  {
   "cell_type": "code",
   "execution_count": 91,
   "metadata": {},
   "outputs": [
    {
     "name": "stdout",
     "output_type": "stream",
     "text": [
      "\n",
      "------Model Report----\n",
      "\n",
      "RMSE :  4992.114945300622\n",
      "CV Score Mean : 4990\n",
      "CV Score Std : 193.9\n",
      "CV Score Min : 4891\n",
      "CV Score Max : 5827\n"
     ]
    }
   ],
   "source": [
    "modelfit_test(alg1, train, test, predictors, target, IDcol)"
   ]
  },
  {
   "cell_type": "code",
   "execution_count": 99,
   "metadata": {},
   "outputs": [
    {
     "data": {
      "text/plain": [
       "LinearRegression(copy_X=True, fit_intercept=True, n_jobs=None, normalize=True)"
      ]
     },
     "execution_count": 99,
     "metadata": {},
     "output_type": "execute_result"
    }
   ],
   "source": [
    "# Assigning columns for model building\n",
    "target = 'Purchase'\n",
    "IDcol = ['User_ID','Product_ID']\n",
    "\n",
    "# Excluding Identifiers (used for submission) and dependent variable column\n",
    "predictors = [x for x in train.columns if x not in [target]+IDcol]\n",
    "alg1.fit(train[predictors], train[target])"
   ]
  },
  {
   "cell_type": "code",
   "execution_count": 92,
   "metadata": {},
   "outputs": [],
   "source": [
    "# Using the FUNCTION which takes the algorithm and data as input and makes the model \n",
    "modelfit(alg1, train, test, predictors, target, IDcol, 'algor1.csv')"
   ]
  },
  {
   "cell_type": "code",
   "execution_count": 122,
   "metadata": {},
   "outputs": [
    {
     "ename": "NameError",
     "evalue": "name 'alg1' is not defined",
     "output_type": "error",
     "traceback": [
      "\u001b[1;31m---------------------------------------------------------------------------\u001b[0m",
      "\u001b[1;31mNameError\u001b[0m                                 Traceback (most recent call last)",
      "\u001b[1;32m<ipython-input-122-c47672991504>\u001b[0m in \u001b[0;36m<module>\u001b[1;34m\u001b[0m\n\u001b[1;32m----> 1\u001b[1;33m \u001b[0mcoef1\u001b[0m \u001b[1;33m=\u001b[0m \u001b[0mpd\u001b[0m\u001b[1;33m.\u001b[0m\u001b[0mSeries\u001b[0m\u001b[1;33m(\u001b[0m\u001b[0malg1\u001b[0m\u001b[1;33m.\u001b[0m\u001b[0mcoef_\u001b[0m\u001b[1;33m,\u001b[0m \u001b[0mpredictors\u001b[0m\u001b[1;33m)\u001b[0m\u001b[1;33m.\u001b[0m\u001b[0msort_values\u001b[0m\u001b[1;33m(\u001b[0m\u001b[0mascending\u001b[0m\u001b[1;33m=\u001b[0m\u001b[1;32mTrue\u001b[0m\u001b[1;33m)\u001b[0m\u001b[1;33m\u001b[0m\u001b[0m\n\u001b[0m\u001b[0;32m      2\u001b[0m \u001b[0mcoef1\u001b[0m\u001b[1;33m\u001b[0m\u001b[0m\n",
      "\u001b[1;31mNameError\u001b[0m: name 'alg1' is not defined"
     ]
    }
   ],
   "source": [
    "coef1 = pd.Series(alg1.coef_, predictors).sort_values(ascending=True)\n",
    "coef1"
   ]
  },
  {
   "cell_type": "code",
   "execution_count": 121,
   "metadata": {},
   "outputs": [
    {
     "ename": "NameError",
     "evalue": "name 'coef1' is not defined",
     "output_type": "error",
     "traceback": [
      "\u001b[1;31m---------------------------------------------------------------------------\u001b[0m",
      "\u001b[1;31mNameError\u001b[0m                                 Traceback (most recent call last)",
      "\u001b[1;32m<ipython-input-121-0abe5f9f35cd>\u001b[0m in \u001b[0;36m<module>\u001b[1;34m\u001b[0m\n\u001b[0;32m      1\u001b[0m \u001b[0mplt\u001b[0m\u001b[1;33m.\u001b[0m\u001b[0mfigure\u001b[0m\u001b[1;33m(\u001b[0m\u001b[0mfigsize\u001b[0m\u001b[1;33m=\u001b[0m\u001b[1;33m(\u001b[0m\u001b[1;36m8\u001b[0m\u001b[1;33m,\u001b[0m\u001b[1;36m6\u001b[0m\u001b[1;33m)\u001b[0m\u001b[1;33m)\u001b[0m\u001b[1;33m\u001b[0m\u001b[0m\n\u001b[1;32m----> 2\u001b[1;33m \u001b[0mcoef1\u001b[0m\u001b[1;33m.\u001b[0m\u001b[0mplot\u001b[0m\u001b[1;33m(\u001b[0m\u001b[0mkind\u001b[0m\u001b[1;33m=\u001b[0m\u001b[1;34m'bar'\u001b[0m\u001b[1;33m,\u001b[0m \u001b[0mtitle\u001b[0m\u001b[1;33m=\u001b[0m\u001b[1;34m'Model Coefficients'\u001b[0m\u001b[1;33m)\u001b[0m\u001b[1;33m\u001b[0m\u001b[0m\n\u001b[0m\u001b[0;32m      3\u001b[0m \u001b[0mplt\u001b[0m\u001b[1;33m.\u001b[0m\u001b[0mshow\u001b[0m\u001b[1;33m(\u001b[0m\u001b[1;33m)\u001b[0m\u001b[1;33m\u001b[0m\u001b[0m\n",
      "\u001b[1;31mNameError\u001b[0m: name 'coef1' is not defined"
     ]
    },
    {
     "data": {
      "text/plain": [
       "<Figure size 576x432 with 0 Axes>"
      ]
     },
     "metadata": {},
     "output_type": "display_data"
    }
   ],
   "source": [
    "plt.figure(figsize=(8,6))\n",
    "coef1.plot(kind='bar', title='Model Coefficients')\n",
    "plt.show()"
   ]
  },
  {
   "cell_type": "markdown",
   "metadata": {},
   "source": [
    "### Ridge Regression Model:"
   ]
  },
  {
   "cell_type": "code",
   "execution_count": 94,
   "metadata": {},
   "outputs": [],
   "source": [
    "# Building a list of independent varaibles to build the model\n",
    "from sklearn.linear_model import Ridge"
   ]
  },
  {
   "cell_type": "code",
   "execution_count": 95,
   "metadata": {},
   "outputs": [],
   "source": [
    "# Building a Ridge regression model \n",
    "alg2 = Ridge(alpha=0.05,normalize=True)"
   ]
  },
  {
   "cell_type": "code",
   "execution_count": 96,
   "metadata": {},
   "outputs": [
    {
     "name": "stdout",
     "output_type": "stream",
     "text": [
      "\n",
      "------Model Report----\n",
      "\n",
      "RMSE :  4992.1368336771175\n",
      "CV Score Mean : 4990\n",
      "CV Score Std : 193.3\n",
      "CV Score Min : 4891\n",
      "CV Score Max : 5824\n"
     ]
    }
   ],
   "source": [
    "modelfit_test(alg2, train, test, predictors, target, IDcol)"
   ]
  },
  {
   "cell_type": "markdown",
   "metadata": {},
   "source": [
    "### Decision Tree Model"
   ]
  },
  {
   "cell_type": "code",
   "execution_count": 124,
   "metadata": {},
   "outputs": [],
   "source": [
    "# Building a Decision Tree regression model \n",
    "from sklearn.tree import DecisionTreeRegressor\n",
    "alg3 = DecisionTreeRegressor(max_depth=25, min_samples_leaf=100)"
   ]
  },
  {
   "cell_type": "code",
   "execution_count": 125,
   "metadata": {},
   "outputs": [
    {
     "name": "stdout",
     "output_type": "stream",
     "text": [
      "\n",
      "------Model Report----\n",
      "\n",
      "RMSE :  2887.909556547156\n",
      "CV Score Mean : 3037\n",
      "CV Score Std : 456.7\n",
      "CV Score Min : 2889\n",
      "CV Score Max : 5025\n"
     ]
    }
   ],
   "source": [
    "modelfit_test(alg3, train, test, predictors, target, IDcol)"
   ]
  },
  {
   "cell_type": "markdown",
   "metadata": {},
   "source": [
    "__Evaluating best parameters by Grid Search__"
   ]
  },
  {
   "cell_type": "code",
   "execution_count": 114,
   "metadata": {},
   "outputs": [],
   "source": [
    "# Importing required package\n",
    "from sklearn.model_selection import GridSearchCV"
   ]
  },
  {
   "cell_type": "code",
   "execution_count": 120,
   "metadata": {},
   "outputs": [
    {
     "data": {
      "text/plain": [
       "dict_keys(['criterion', 'max_depth', 'max_features', 'max_leaf_nodes', 'min_impurity_decrease', 'min_impurity_split', 'min_samples_leaf', 'min_samples_split', 'min_weight_fraction_leaf', 'presort', 'random_state', 'splitter'])"
      ]
     },
     "execution_count": 120,
     "metadata": {},
     "output_type": "execute_result"
    }
   ],
   "source": [
    "alg3.get_params().keys()"
   ]
  },
  {
   "cell_type": "code",
   "execution_count": 112,
   "metadata": {},
   "outputs": [
    {
     "data": {
      "text/plain": [
       "dict_keys(['explained_variance', 'r2', 'neg_median_absolute_error', 'neg_mean_absolute_error', 'neg_mean_squared_error', 'neg_mean_squared_log_error', 'accuracy', 'roc_auc', 'balanced_accuracy', 'average_precision', 'neg_log_loss', 'brier_score_loss', 'adjusted_rand_score', 'homogeneity_score', 'completeness_score', 'v_measure_score', 'mutual_info_score', 'adjusted_mutual_info_score', 'normalized_mutual_info_score', 'fowlkes_mallows_score', 'precision', 'precision_macro', 'precision_micro', 'precision_samples', 'precision_weighted', 'recall', 'recall_macro', 'recall_micro', 'recall_samples', 'recall_weighted', 'f1', 'f1_macro', 'f1_micro', 'f1_samples', 'f1_weighted'])"
      ]
     },
     "execution_count": 112,
     "metadata": {},
     "output_type": "execute_result"
    }
   ],
   "source": [
    "import sklearn.metrics\n",
    "sklearn.metrics.SCORERS.keys()"
   ]
  },
  {
   "cell_type": "code",
   "execution_count": 110,
   "metadata": {},
   "outputs": [],
   "source": [
    "#  DecisionTreeRegressor(max_depth=15, min_samples_leaf=100)\n",
    "params = [{'max_depth':[25,50,75,100],'min_samples_leaf' :[50,100,150,200]}]"
   ]
  },
  {
   "cell_type": "code",
   "execution_count": 115,
   "metadata": {},
   "outputs": [],
   "source": [
    "grid_search = GridSearchCV(estimator = alg3, \n",
    "                           param_grid = params,\n",
    "                           scoring = 'neg_mean_squared_error',\n",
    "                           cv = 20,\n",
    "                           n_jobs= -1)"
   ]
  },
  {
   "cell_type": "code",
   "execution_count": 116,
   "metadata": {},
   "outputs": [
    {
     "data": {
      "text/plain": [
       "GridSearchCV(cv=20, error_score='raise-deprecating',\n",
       "       estimator=DecisionTreeRegressor(criterion='mse', max_depth=50, max_features=None,\n",
       "           max_leaf_nodes=None, min_impurity_decrease=0.0,\n",
       "           min_impurity_split=None, min_samples_leaf=50,\n",
       "           min_samples_split=2, min_weight_fraction_leaf=0.0,\n",
       "           presort=False, random_state=None, splitter='best'),\n",
       "       fit_params=None, iid='warn', n_jobs=-1,\n",
       "       param_grid=[{'max_depth': [25, 50, 75, 100], 'min_samples_leaf': [50, 100, 150, 200]}],\n",
       "       pre_dispatch='2*n_jobs', refit=True, return_train_score='warn',\n",
       "       scoring='neg_mean_squared_error', verbose=0)"
      ]
     },
     "execution_count": 116,
     "metadata": {},
     "output_type": "execute_result"
    }
   ],
   "source": [
    "grid_search.fit(train[predictors], train[target])"
   ]
  },
  {
   "cell_type": "code",
   "execution_count": 117,
   "metadata": {},
   "outputs": [],
   "source": [
    "best_accuracy = grid_search.best_score_\n",
    "best_parameters = grid_search.best_params_"
   ]
  },
  {
   "cell_type": "code",
   "execution_count": 118,
   "metadata": {},
   "outputs": [
    {
     "data": {
      "text/plain": [
       "-9413541.90026217"
      ]
     },
     "execution_count": 118,
     "metadata": {},
     "output_type": "execute_result"
    }
   ],
   "source": [
    "best_accuracy"
   ]
  },
  {
   "cell_type": "code",
   "execution_count": 119,
   "metadata": {},
   "outputs": [
    {
     "data": {
      "text/plain": [
       "{'max_depth': 50, 'min_samples_leaf': 50}"
      ]
     },
     "execution_count": 119,
     "metadata": {},
     "output_type": "execute_result"
    }
   ],
   "source": [
    "best_parameters"
   ]
  },
  {
   "cell_type": "code",
   "execution_count": 105,
   "metadata": {
    "collapsed": true
   },
   "outputs": [],
   "source": [
    "# Building a Decision Tree regression model with the above values\n",
    "from sklearn.tree import DecisionTreeRegressor\n",
    "alg3_1 = DecisionTreeRegressor(max_depth=50, min_samples_leaf=50)"
   ]
  },
  {
   "cell_type": "code",
   "execution_count": 109,
   "metadata": {},
   "outputs": [
    {
     "name": "stdout",
     "output_type": "stream",
     "text": [
      "\n",
      "------Model Report----\n",
      "\n",
      "RMSE :  2858.1558704945296\n",
      "CV Score Mean : 3036\n",
      "CV Score Std : 440.4\n",
      "CV Score Min : 2892\n",
      "CV Score Max : 4954\n"
     ]
    }
   ],
   "source": [
    "modelfit(alg3, train, test, predictors, target, IDcol,'./BlackFriday_Outputs/algor3_29_12.csv')"
   ]
  },
  {
   "cell_type": "code",
   "execution_count": 130,
   "metadata": {},
   "outputs": [
    {
     "data": {
      "text/plain": [
       "Master_Product_Category         0.987567\n",
       "City_Category_2                 0.004014\n",
       "Modified_Age_0                  0.000727\n",
       "Modified_Age_3                  0.000718\n",
       "Gender_MaritalStatus_3          0.000678\n",
       "Stay_In_Current_City_Years_1    0.000530\n",
       "Modified_Age_1                  0.000518\n",
       "Gender_MaritalStatus_2          0.000493\n",
       "City_Category_0                 0.000439\n",
       "Modified_Age_2                  0.000415\n",
       "City_Category_1                 0.000378\n",
       "Stay_In_Current_City_Years_3    0.000283\n",
       "Occupation_1                    0.000280\n",
       "Gender_MaritalStatus_1          0.000277\n",
       "Occupation_20                   0.000263\n",
       "Stay_In_Current_City_Years_0    0.000261\n",
       "Stay_In_Current_City_Years_2    0.000252\n",
       "Occupation_0                    0.000251\n",
       "Occupation_7                    0.000233\n",
       "Stay_In_Current_City_Years_4    0.000231\n",
       "Gender_MaritalStatus_0          0.000227\n",
       "Occupation_4                    0.000163\n",
       "Occupation_12                   0.000157\n",
       "Occupation_17                   0.000134\n",
       "Occupation_10                   0.000112\n",
       "Occupation_2                    0.000088\n",
       "Occupation_6                    0.000083\n",
       "Occupation_14                   0.000057\n",
       "Occupation_16                   0.000048\n",
       "Occupation_15                   0.000047\n",
       "Occupation_19                   0.000027\n",
       "Occupation_9                    0.000016\n",
       "Occupation_5                    0.000010\n",
       "Occupation_11                   0.000010\n",
       "Occupation_18                   0.000009\n",
       "Occupation_13                   0.000005\n",
       "Occupation_8                    0.000000\n",
       "Occupation_3                    0.000000\n",
       "dtype: float64"
      ]
     },
     "execution_count": 130,
     "metadata": {},
     "output_type": "execute_result"
    }
   ],
   "source": [
    "coef3"
   ]
  },
  {
   "cell_type": "markdown",
   "metadata": {},
   "source": [
    "The RMSE value is 3424 and the cross validation mean score is 3525.\n",
    "This indicates that there is __over-fitting__ of the model"
   ]
  },
  {
   "cell_type": "markdown",
   "metadata": {},
   "source": [
    "### Random Forest Model"
   ]
  },
  {
   "cell_type": "code",
   "execution_count": 116,
   "metadata": {
    "collapsed": true
   },
   "outputs": [],
   "source": [
    "target = 'Purchase'\n",
    "IDcol = ['User_ID','Product_ID']\n",
    "predictors = [x for x in train.columns if x not in [target]+IDcol]"
   ]
  },
  {
   "cell_type": "code",
   "execution_count": 117,
   "metadata": {
    "collapsed": true
   },
   "outputs": [],
   "source": [
    "from sklearn.ensemble import RandomForestRegressor\n",
    "alg5 = RandomForestRegressor(n_estimators=50,max_depth=25, min_samples_leaf=50,n_jobs=1)"
   ]
  },
  {
   "cell_type": "code",
   "execution_count": 118,
   "metadata": {
    "collapsed": true
   },
   "outputs": [
    {
     "name": "stdout",
     "output_type": "stream",
     "text": [
      "\n",
      "------Model Report----\n",
      "\n",
      "RMSE :  2859.1490578045723\n",
      "CV Score Mean : 3016\n",
      "CV Score Std : 446.5\n",
      "CV Score Min : 2873\n",
      "CV Score Max : 4960\n"
     ]
    }
   ],
   "source": [
    "modelfit_test(alg5, train, test, predictors, target, IDcol)"
   ]
  },
  {
   "cell_type": "code",
   "execution_count": 119,
   "metadata": {
    "collapsed": true
   },
   "outputs": [],
   "source": [
    "target = 'Purchase'\n",
    "IDcol = ['User_ID','Product_ID']\n",
    "# Making a decision tree with just **top 2** variables based on the above coeffecient values\n",
    "predictors = ['Master_Product_Category','City_Category_2']"
   ]
  },
  {
   "cell_type": "code",
   "execution_count": 120,
   "metadata": {},
   "outputs": [
    {
     "name": "stdout",
     "output_type": "stream",
     "text": [
      "\n",
      "------Model Report----\n",
      "\n",
      "RMSE :  2925.346941075561\n",
      "CV Score Mean : 3042\n",
      "CV Score Std : 457\n",
      "CV Score Min : 2902\n",
      "CV Score Max : 5032\n"
     ]
    }
   ],
   "source": [
    "modelfit_test(alg5, train, test, predictors, target, IDcol)"
   ]
  }
 ],
 "metadata": {
  "kernelspec": {
   "display_name": "Python 3",
   "language": "python",
   "name": "python3"
  },
  "language_info": {
   "codemirror_mode": {
    "name": "ipython",
    "version": 3
   },
   "file_extension": ".py",
   "mimetype": "text/x-python",
   "name": "python",
   "nbconvert_exporter": "python",
   "pygments_lexer": "ipython3",
   "version": "3.7.0"
  }
 },
 "nbformat": 4,
 "nbformat_minor": 2
}
